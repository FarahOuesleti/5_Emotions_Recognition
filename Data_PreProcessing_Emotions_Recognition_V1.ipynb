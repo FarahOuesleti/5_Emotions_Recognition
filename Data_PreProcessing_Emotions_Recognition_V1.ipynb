{
  "cells": [
    {
      "cell_type": "markdown",
      "metadata": {
        "id": "y_W8BBTX2dKJ"
      },
      "source": [
        "This project includes the following phases :\n",
        "- Pre-processing & Data Augmentation\n",
        "- Feature extraction\n",
        "- Classification\n",
        "\n",
        "The dataset used :    \n",
        "- In the wild data provided\n",
        "- Small dataset showcasing micro expressions in high quality : The objective of this addition is not merely having more data to train on, it's mainly to introduce real facial expressions showing micro expressions*1 that would not be visible in the first dataset.\n",
        "\n",
        "1* *Micro expressions* : Facial expressions that last **less than 0.5s** and are therefore hard to detect. They can serve to distiguish between real emotion and fake or lab made expressions.\n"
      ]
    },
    {
      "cell_type": "markdown",
      "metadata": {
        "id": "-vzMDbxW7QcC"
      },
      "source": [
        "#Details :\n",
        "\n",
        "### - Data Augmentation\n",
        "- Color shift\n",
        "  - YCbCr\n",
        "  - YES\n",
        "  --> compare separate training results between (YCbCr - YES - original (greyscale))\n",
        "\n",
        "### - Feature extraction\n",
        "\n",
        "0. Relevant features (Based on Business understanding) :\n",
        "  - mouth ratio to face\n",
        "  - nb of face curves\n",
        "  - curves around eyes\n",
        "  - curves around mouth\n",
        "  - curves around nose\n",
        "  - upper lip position relative to down lip : size of vertical distance between the two (relative to one lip length)\n",
        "  - eyebrows pente relative to horizontal axis\n",
        "\n",
        "\n",
        "1. Edge Detection (for curves)\n",
        "  - Prewitt\n",
        "  - Sobel is to consider\n",
        "\n",
        "2. Filters (Optional part : for optimization)\n",
        "  - Gabor filter\n",
        "  - Local Binary Pattern (LBP)\n",
        "\n",
        "\n",
        "\n",
        "### - Add microexpressions data & perform same pre-processing"
      ]
    },
    {
      "cell_type": "markdown",
      "metadata": {
        "id": "lmgnOCNAdA24"
      },
      "source": [
        "The following choices of techniques adopted in this project (Edge detection filters, noise reducers...) are relative to the Business, in other words;\n",
        "Emotions and facial expressions studies show that :     \n",
        "- vertical wrinkles around the nose, a small upward tilt of the upper lip, small frowning ==> associated with disgust\n",
        "- slight upwaard tilt on the sides of the mouth demonstrated with wrinkles + small wrinkles on the exterior sides of the eyes ==> indcator of genuine happiness.\n",
        "- slight upward tilt on the sides of the mouth demonstrated with wrinkles + various degrees of frowning ==> associated with sadness.\n",
        "- etc."
      ]
    },
    {
      "cell_type": "code",
      "execution_count": null,
      "metadata": {
        "colab": {
          "base_uri": "https://localhost:8080/"
        },
        "id": "bJcY_HlaiPS1",
        "outputId": "843ba89d-97a5-4399-8d19-2c8f1dba3073"
      },
      "outputs": [
        {
          "name": "stdout",
          "output_type": "stream",
          "text": [
            "Python 3.10.12\n"
          ]
        }
      ],
      "source": [
        "!python --version"
      ]
    },
    {
      "cell_type": "code",
      "execution_count": null,
      "metadata": {
        "id": "XS5Kv1yYgiz6"
      },
      "outputs": [],
      "source": [
        "import numpy as np\n",
        "import matplotlib.pyplot as plt\n",
        "import seaborn as sns\n",
        "import tensorflow as tf\n",
        "import pandas as pd\n",
        "import seaborn as sns\n",
        "from scipy import stats\n",
        "import json\n",
        "import ast\n",
        "from sklearn.cluster import KMeans\n",
        "from sklearn.metrics import accuracy_score, confusion_matrix\n",
        "\n",
        "from tqdm import tqdm\n",
        "import itertools\n",
        "\n",
        "import cv2\n",
        "import os\n",
        "from tensorflow.keras.layers import Dropout, BatchNormalization, LeakyReLU, Activation\n"
      ]
    },
    {
      "cell_type": "code",
      "execution_count": null,
      "metadata": {
        "colab": {
          "base_uri": "https://localhost:8080/"
        },
        "id": "JgNaH18KHauO",
        "outputId": "3f4d4e1d-c2a2-4dc3-8d17-3dd04f04c15b"
      },
      "outputs": [
        {
          "name": "stdout",
          "output_type": "stream",
          "text": [
            "[PhysicalDevice(name='/physical_device:GPU:0', device_type='GPU')]\n"
          ]
        }
      ],
      "source": [
        "print(tf.config.list_physical_devices('GPU'))"
      ]
    },
    {
      "cell_type": "code",
      "execution_count": null,
      "metadata": {
        "colab": {
          "base_uri": "https://localhost:8080/"
        },
        "id": "bhAv6akMgofv",
        "outputId": "8e14899f-6ab3-4779-d621-428f1999f986"
      },
      "outputs": [
        {
          "name": "stdout",
          "output_type": "stream",
          "text": [
            "Mounted at /content/drive\n"
          ]
        }
      ],
      "source": [
        "# 1\n",
        "# This is to be executed when woring with colab with the corresponding url\n",
        "\n",
        "from google.colab import drive\n",
        "drive.mount('/content/drive')\n"
      ]
    },
    {
      "cell_type": "code",
      "execution_count": null,
      "metadata": {
        "id": "uyyii_Nfgoh1"
      },
      "outputs": [],
      "source": [
        "# 2\n",
        "url = '/content/drive/MyDrive/2. Relevant Projects/1. Emotions Recognition/Dataset'  ## Colab Drive URL\n",
        "\n",
        "#url = '/kaggle/input/ferdata'    ##Kaggle url\n",
        "\n",
        "#Account 2\n",
        "#url = '/content/drive/MyDrive/1. Emotions Recognition/Dataset'  ## Colab Drive URL\n"
      ]
    },
    {
      "cell_type": "code",
      "execution_count": null,
      "metadata": {
        "id": "VI43B11eAiMz"
      },
      "outputs": [],
      "source": [
        "url_2 = '/content/drive/MyDrive/2. Relevant Projects/1. Emotions Recognition'\n",
        "train_RGB = url_2 + '/RGB'\n",
        "train_YCBR = url_2 + '/YCBR'\n",
        "#X_RGB, y_RGB, _ = load_data(train_RGB)\n"
      ]
    },
    {
      "cell_type": "markdown",
      "metadata": {
        "id": "z34nC1HMgpwz"
      },
      "source": [
        "# Load Data"
      ]
    },
    {
      "cell_type": "code",
      "execution_count": null,
      "metadata": {
        "id": "5GEwqPJR_Meg"
      },
      "outputs": [],
      "source": [
        "train_dir = url +'/train'\n",
        "test_dir = url + '/test'\n"
      ]
    },
    {
      "cell_type": "markdown",
      "metadata": {
        "id": "eDxf5TO1LGo0"
      },
      "source": [
        "#### Load Images as np array"
      ]
    },
    {
      "cell_type": "code",
      "execution_count": null,
      "metadata": {
        "id": "onBdHbHstgxK"
      },
      "outputs": [],
      "source": [
        "def load_data(dir_path, img_size=(48,48)):\n",
        "    X = []\n",
        "    y = []\n",
        "    i = 0\n",
        "    labels = dict()\n",
        "    for path in tqdm(sorted(os.listdir(dir_path))):\n",
        "        if not path.startswith('.'):\n",
        "            labels[i] = path\n",
        "            for file in os.listdir(dir_path +'/'+ path):\n",
        "                if not file.startswith('.'):\n",
        "                    img = cv2.imread(dir_path +'/'+ path + '/' + file)\n",
        "                    X.append(img)\n",
        "                    y.append(i)\n",
        "                    i += 1\n",
        "    X = np.array(X)\n",
        "    y = np.array(y)\n",
        "    print(f'{len(X)} images loaded from {dir_path} directory.')\n",
        "    return X, y, labels"
      ]
    },
    {
      "cell_type": "code",
      "execution_count": null,
      "metadata": {
        "id": "Q6wxvXgMVWsi"
      },
      "outputs": [],
      "source": [
        "# This is a function that loads data from a sub directory reltive to one emotion ( purpose : faster loading for testing certain functions later on and to save resources)\n",
        "\n",
        "def load_data_One_Emotion(Sub_dir_path, img_size=(48,48)):\n",
        "    X = []\n",
        "    y = []\n",
        "    i = 0\n",
        "    labels = dict()\n",
        "\n",
        "    for file in os.listdir(Sub_dir_path ):\n",
        "        if not file.startswith('.'):\n",
        "            img = cv2.imread(Sub_dir_path +'/' + file)\n",
        "            X.append(img)\n",
        "            y.append(i)\n",
        "            i += 1\n",
        "    X = np.array(X)\n",
        "    y = np.array(y)\n",
        "    print(f'{len(X)} images loaded from {Sub_dir_path} directory.')\n",
        "    return X, y, labels"
      ]
    },
    {
      "cell_type": "code",
      "execution_count": null,
      "metadata": {
        "colab": {
          "base_uri": "https://localhost:8080/"
        },
        "id": "0GeGeWMit0EM",
        "outputId": "e81453c2-3fdb-4381-e4b0-d054f8067470"
      },
      "outputs": [
        {
          "name": "stdout",
          "output_type": "stream",
          "text": [
            "436 images loaded from /content/drive/MyDrive/2. Relevant Projects/1. Emotions Recognition/Dataset/train/disgust directory.\n"
          ]
        }
      ],
      "source": [
        "Sub_train_dir = url +'/train/disgust'   # Change emotion according to subdirectory, chosen disgust beacause it's the dataset with the least samples.\n",
        "X_train_Emotion, y_train_Emotion, _ = load_data(Sub_train_dir)"
      ]
    },
    {
      "cell_type": "code",
      "execution_count": null,
      "metadata": {
        "colab": {
          "base_uri": "https://localhost:8080/"
        },
        "id": "XUo-90h2cEGH",
        "outputId": "40611eab-e39d-4c21-8d48-324fbaef58f1"
      },
      "outputs": [
        {
          "name": "stderr",
          "output_type": "stream",
          "text": [
            "100%|██████████| 7/7 [09:35<00:00, 82.24s/it]"
          ]
        },
        {
          "name": "stdout",
          "output_type": "stream",
          "text": [
            "28779 images loaded from /content/drive/MyDrive/2. Relevant Projects/1. Emotions Recognition/Dataset/train directory.\n"
          ]
        },
        {
          "name": "stderr",
          "output_type": "stream",
          "text": [
            "\n"
          ]
        }
      ],
      "source": [
        "X_train, y_train, labels_tr = load_data(train_dir)"
      ]
    },
    {
      "cell_type": "code",
      "execution_count": null,
      "metadata": {
        "id": "TGWe8N4tiPS4"
      },
      "outputs": [],
      "source": [
        "X_test, y_test,labels_ts = load_data(test_dir)"
      ]
    },
    {
      "cell_type": "markdown",
      "metadata": {
        "id": "d1LdP5znVjtU"
      },
      "source": [
        "# Data Visualization"
      ]
    },
    {
      "cell_type": "code",
      "execution_count": null,
      "metadata": {
        "colab": {
          "base_uri": "https://localhost:8080/"
        },
        "id": "VbN05xeZiPS4",
        "outputId": "07c06a35-44eb-4f27-cd5d-b248d1aab1d4"
      },
      "outputs": [
        {
          "data": {
            "text/plain": [
              "{0: 'angry',\n",
              " 4005: 'disgust',\n",
              " 4441: 'fear',\n",
              " 8548: 'happy',\n",
              " 15763: 'neutral',\n",
              " 20738: 'sad',\n",
              " 25588: 'surprise'}"
            ]
          },
          "execution_count": 8,
          "metadata": {},
          "output_type": "execute_result"
        }
      ],
      "source": [
        "labels_tr"
      ]
    },
    {
      "cell_type": "code",
      "execution_count": null,
      "metadata": {
        "id": "V8bwgR0jiPS5"
      },
      "outputs": [],
      "source": [
        "# Function to count values of each emotion in the dataset ( separately for train & test data )\n",
        "\n",
        "def count_values(labels_dict,X_data) :\n",
        "    count = {}\n",
        "    i = 0\n",
        "    L=[]\n",
        "    for key,value in labels_dict.items() :\n",
        "        L.append(key)\n",
        "    L.append(X_data.shape[0])\n",
        "    for value in labels_dict.values() :\n",
        "        count[value] = L[i+1]-L[i]\n",
        "        i+=1\n",
        "    return count"
      ]
    },
    {
      "cell_type": "code",
      "execution_count": null,
      "metadata": {
        "colab": {
          "base_uri": "https://localhost:8080/"
        },
        "id": "_YwtZhiPiPS5",
        "outputId": "5de008e5-f10d-4ae7-bc28-f51c9b4b987a"
      },
      "outputs": [
        {
          "data": {
            "text/plain": [
              "{'angry': 4005,\n",
              " 'disgust': 436,\n",
              " 'fear': 4107,\n",
              " 'happy': 7215,\n",
              " 'neutral': 4975,\n",
              " 'sad': 4850,\n",
              " 'surprise': 3191}"
            ]
          },
          "execution_count": 11,
          "metadata": {},
          "output_type": "execute_result"
        }
      ],
      "source": [
        "Nb_train=count_values(labels_tr,X_train)\n",
        "Nb_train"
      ]
    },
    {
      "cell_type": "markdown",
      "metadata": {
        "id": "L3Z_BiSOglqs"
      },
      "source": [
        "The data is unbalanced :\n",
        "- disgust training data is 1/10 less than the other emotions' datasets.\n",
        "- Happy has the maximum training data.\n",
        "\n",
        "==> This should cause biased results in identifying those two emotions later in the test set."
      ]
    },
    {
      "cell_type": "code",
      "execution_count": null,
      "metadata": {
        "id": "IJSrtBvfiPS5"
      },
      "outputs": [],
      "source": [
        "Nb_test=count_values(labels_ts,X_test)\n",
        "Nb_test"
      ]
    },
    {
      "cell_type": "code",
      "execution_count": null,
      "metadata": {
        "id": "54JnLrAumPoH"
      },
      "outputs": [],
      "source": [
        "df_tr=pd.DataFrame.from_dict(Nb_train, orient='index')\n",
        "df_tr = df_tr.rename(columns={0: \"Count\"})\n",
        "#df_ts=pd.DataFrame.from_dict(Nb_test, orient='index')\n",
        "#df_ts = df_ts.rename(columns={0: \"Count\"})"
      ]
    },
    {
      "cell_type": "code",
      "execution_count": null,
      "metadata": {
        "colab": {
          "base_uri": "https://localhost:8080/",
          "height": 269
        },
        "id": "YFQUnqTMmSAT",
        "outputId": "7877b692-d503-474f-c780-2689354574b3"
      },
      "outputs": [
        {
          "data": {
            "text/html": [
              "\n",
              "  <div id=\"df-cdd80d38-9720-4f69-8d7f-71c09d4b1f8c\" class=\"colab-df-container\">\n",
              "    <div>\n",
              "<style scoped>\n",
              "    .dataframe tbody tr th:only-of-type {\n",
              "        vertical-align: middle;\n",
              "    }\n",
              "\n",
              "    .dataframe tbody tr th {\n",
              "        vertical-align: top;\n",
              "    }\n",
              "\n",
              "    .dataframe thead th {\n",
              "        text-align: right;\n",
              "    }\n",
              "</style>\n",
              "<table border=\"1\" class=\"dataframe\">\n",
              "  <thead>\n",
              "    <tr style=\"text-align: right;\">\n",
              "      <th></th>\n",
              "      <th>Count</th>\n",
              "    </tr>\n",
              "  </thead>\n",
              "  <tbody>\n",
              "    <tr>\n",
              "      <th>angry</th>\n",
              "      <td>4005</td>\n",
              "    </tr>\n",
              "    <tr>\n",
              "      <th>disgust</th>\n",
              "      <td>436</td>\n",
              "    </tr>\n",
              "    <tr>\n",
              "      <th>fear</th>\n",
              "      <td>4107</td>\n",
              "    </tr>\n",
              "    <tr>\n",
              "      <th>happy</th>\n",
              "      <td>7215</td>\n",
              "    </tr>\n",
              "    <tr>\n",
              "      <th>neutral</th>\n",
              "      <td>4975</td>\n",
              "    </tr>\n",
              "    <tr>\n",
              "      <th>sad</th>\n",
              "      <td>4850</td>\n",
              "    </tr>\n",
              "    <tr>\n",
              "      <th>surprise</th>\n",
              "      <td>3191</td>\n",
              "    </tr>\n",
              "  </tbody>\n",
              "</table>\n",
              "</div>\n",
              "    <div class=\"colab-df-buttons\">\n",
              "\n",
              "  <div class=\"colab-df-container\">\n",
              "    <button class=\"colab-df-convert\" onclick=\"convertToInteractive('df-cdd80d38-9720-4f69-8d7f-71c09d4b1f8c')\"\n",
              "            title=\"Convert this dataframe to an interactive table.\"\n",
              "            style=\"display:none;\">\n",
              "\n",
              "  <svg xmlns=\"http://www.w3.org/2000/svg\" height=\"24px\" viewBox=\"0 -960 960 960\">\n",
              "    <path d=\"M120-120v-720h720v720H120Zm60-500h600v-160H180v160Zm220 220h160v-160H400v160Zm0 220h160v-160H400v160ZM180-400h160v-160H180v160Zm440 0h160v-160H620v160ZM180-180h160v-160H180v160Zm440 0h160v-160H620v160Z\"/>\n",
              "  </svg>\n",
              "    </button>\n",
              "\n",
              "  <style>\n",
              "    .colab-df-container {\n",
              "      display:flex;\n",
              "      gap: 12px;\n",
              "    }\n",
              "\n",
              "    .colab-df-convert {\n",
              "      background-color: #E8F0FE;\n",
              "      border: none;\n",
              "      border-radius: 50%;\n",
              "      cursor: pointer;\n",
              "      display: none;\n",
              "      fill: #1967D2;\n",
              "      height: 32px;\n",
              "      padding: 0 0 0 0;\n",
              "      width: 32px;\n",
              "    }\n",
              "\n",
              "    .colab-df-convert:hover {\n",
              "      background-color: #E2EBFA;\n",
              "      box-shadow: 0px 1px 2px rgba(60, 64, 67, 0.3), 0px 1px 3px 1px rgba(60, 64, 67, 0.15);\n",
              "      fill: #174EA6;\n",
              "    }\n",
              "\n",
              "    .colab-df-buttons div {\n",
              "      margin-bottom: 4px;\n",
              "    }\n",
              "\n",
              "    [theme=dark] .colab-df-convert {\n",
              "      background-color: #3B4455;\n",
              "      fill: #D2E3FC;\n",
              "    }\n",
              "\n",
              "    [theme=dark] .colab-df-convert:hover {\n",
              "      background-color: #434B5C;\n",
              "      box-shadow: 0px 1px 3px 1px rgba(0, 0, 0, 0.15);\n",
              "      filter: drop-shadow(0px 1px 2px rgba(0, 0, 0, 0.3));\n",
              "      fill: #FFFFFF;\n",
              "    }\n",
              "  </style>\n",
              "\n",
              "    <script>\n",
              "      const buttonEl =\n",
              "        document.querySelector('#df-cdd80d38-9720-4f69-8d7f-71c09d4b1f8c button.colab-df-convert');\n",
              "      buttonEl.style.display =\n",
              "        google.colab.kernel.accessAllowed ? 'block' : 'none';\n",
              "\n",
              "      async function convertToInteractive(key) {\n",
              "        const element = document.querySelector('#df-cdd80d38-9720-4f69-8d7f-71c09d4b1f8c');\n",
              "        const dataTable =\n",
              "          await google.colab.kernel.invokeFunction('convertToInteractive',\n",
              "                                                    [key], {});\n",
              "        if (!dataTable) return;\n",
              "\n",
              "        const docLinkHtml = 'Like what you see? Visit the ' +\n",
              "          '<a target=\"_blank\" href=https://colab.research.google.com/notebooks/data_table.ipynb>data table notebook</a>'\n",
              "          + ' to learn more about interactive tables.';\n",
              "        element.innerHTML = '';\n",
              "        dataTable['output_type'] = 'display_data';\n",
              "        await google.colab.output.renderOutput(dataTable, element);\n",
              "        const docLink = document.createElement('div');\n",
              "        docLink.innerHTML = docLinkHtml;\n",
              "        element.appendChild(docLink);\n",
              "      }\n",
              "    </script>\n",
              "  </div>\n",
              "\n",
              "\n",
              "<div id=\"df-bed06e87-0752-4666-9e01-64d2bddecd3d\">\n",
              "  <button class=\"colab-df-quickchart\" onclick=\"quickchart('df-bed06e87-0752-4666-9e01-64d2bddecd3d')\"\n",
              "            title=\"Suggest charts\"\n",
              "            style=\"display:none;\">\n",
              "\n",
              "<svg xmlns=\"http://www.w3.org/2000/svg\" height=\"24px\"viewBox=\"0 0 24 24\"\n",
              "     width=\"24px\">\n",
              "    <g>\n",
              "        <path d=\"M19 3H5c-1.1 0-2 .9-2 2v14c0 1.1.9 2 2 2h14c1.1 0 2-.9 2-2V5c0-1.1-.9-2-2-2zM9 17H7v-7h2v7zm4 0h-2V7h2v10zm4 0h-2v-4h2v4z\"/>\n",
              "    </g>\n",
              "</svg>\n",
              "  </button>\n",
              "\n",
              "<style>\n",
              "  .colab-df-quickchart {\n",
              "      --bg-color: #E8F0FE;\n",
              "      --fill-color: #1967D2;\n",
              "      --hover-bg-color: #E2EBFA;\n",
              "      --hover-fill-color: #174EA6;\n",
              "      --disabled-fill-color: #AAA;\n",
              "      --disabled-bg-color: #DDD;\n",
              "  }\n",
              "\n",
              "  [theme=dark] .colab-df-quickchart {\n",
              "      --bg-color: #3B4455;\n",
              "      --fill-color: #D2E3FC;\n",
              "      --hover-bg-color: #434B5C;\n",
              "      --hover-fill-color: #FFFFFF;\n",
              "      --disabled-bg-color: #3B4455;\n",
              "      --disabled-fill-color: #666;\n",
              "  }\n",
              "\n",
              "  .colab-df-quickchart {\n",
              "    background-color: var(--bg-color);\n",
              "    border: none;\n",
              "    border-radius: 50%;\n",
              "    cursor: pointer;\n",
              "    display: none;\n",
              "    fill: var(--fill-color);\n",
              "    height: 32px;\n",
              "    padding: 0;\n",
              "    width: 32px;\n",
              "  }\n",
              "\n",
              "  .colab-df-quickchart:hover {\n",
              "    background-color: var(--hover-bg-color);\n",
              "    box-shadow: 0 1px 2px rgba(60, 64, 67, 0.3), 0 1px 3px 1px rgba(60, 64, 67, 0.15);\n",
              "    fill: var(--button-hover-fill-color);\n",
              "  }\n",
              "\n",
              "  .colab-df-quickchart-complete:disabled,\n",
              "  .colab-df-quickchart-complete:disabled:hover {\n",
              "    background-color: var(--disabled-bg-color);\n",
              "    fill: var(--disabled-fill-color);\n",
              "    box-shadow: none;\n",
              "  }\n",
              "\n",
              "  .colab-df-spinner {\n",
              "    border: 2px solid var(--fill-color);\n",
              "    border-color: transparent;\n",
              "    border-bottom-color: var(--fill-color);\n",
              "    animation:\n",
              "      spin 1s steps(1) infinite;\n",
              "  }\n",
              "\n",
              "  @keyframes spin {\n",
              "    0% {\n",
              "      border-color: transparent;\n",
              "      border-bottom-color: var(--fill-color);\n",
              "      border-left-color: var(--fill-color);\n",
              "    }\n",
              "    20% {\n",
              "      border-color: transparent;\n",
              "      border-left-color: var(--fill-color);\n",
              "      border-top-color: var(--fill-color);\n",
              "    }\n",
              "    30% {\n",
              "      border-color: transparent;\n",
              "      border-left-color: var(--fill-color);\n",
              "      border-top-color: var(--fill-color);\n",
              "      border-right-color: var(--fill-color);\n",
              "    }\n",
              "    40% {\n",
              "      border-color: transparent;\n",
              "      border-right-color: var(--fill-color);\n",
              "      border-top-color: var(--fill-color);\n",
              "    }\n",
              "    60% {\n",
              "      border-color: transparent;\n",
              "      border-right-color: var(--fill-color);\n",
              "    }\n",
              "    80% {\n",
              "      border-color: transparent;\n",
              "      border-right-color: var(--fill-color);\n",
              "      border-bottom-color: var(--fill-color);\n",
              "    }\n",
              "    90% {\n",
              "      border-color: transparent;\n",
              "      border-bottom-color: var(--fill-color);\n",
              "    }\n",
              "  }\n",
              "</style>\n",
              "\n",
              "  <script>\n",
              "    async function quickchart(key) {\n",
              "      const quickchartButtonEl =\n",
              "        document.querySelector('#' + key + ' button');\n",
              "      quickchartButtonEl.disabled = true;  // To prevent multiple clicks.\n",
              "      quickchartButtonEl.classList.add('colab-df-spinner');\n",
              "      try {\n",
              "        const charts = await google.colab.kernel.invokeFunction(\n",
              "            'suggestCharts', [key], {});\n",
              "      } catch (error) {\n",
              "        console.error('Error during call to suggestCharts:', error);\n",
              "      }\n",
              "      quickchartButtonEl.classList.remove('colab-df-spinner');\n",
              "      quickchartButtonEl.classList.add('colab-df-quickchart-complete');\n",
              "    }\n",
              "    (() => {\n",
              "      let quickchartButtonEl =\n",
              "        document.querySelector('#df-bed06e87-0752-4666-9e01-64d2bddecd3d button');\n",
              "      quickchartButtonEl.style.display =\n",
              "        google.colab.kernel.accessAllowed ? 'block' : 'none';\n",
              "    })();\n",
              "  </script>\n",
              "</div>\n",
              "\n",
              "  <div id=\"id_16060a88-cfbc-4d2a-a5c2-b106f45b283d\">\n",
              "    <style>\n",
              "      .colab-df-generate {\n",
              "        background-color: #E8F0FE;\n",
              "        border: none;\n",
              "        border-radius: 50%;\n",
              "        cursor: pointer;\n",
              "        display: none;\n",
              "        fill: #1967D2;\n",
              "        height: 32px;\n",
              "        padding: 0 0 0 0;\n",
              "        width: 32px;\n",
              "      }\n",
              "\n",
              "      .colab-df-generate:hover {\n",
              "        background-color: #E2EBFA;\n",
              "        box-shadow: 0px 1px 2px rgba(60, 64, 67, 0.3), 0px 1px 3px 1px rgba(60, 64, 67, 0.15);\n",
              "        fill: #174EA6;\n",
              "      }\n",
              "\n",
              "      [theme=dark] .colab-df-generate {\n",
              "        background-color: #3B4455;\n",
              "        fill: #D2E3FC;\n",
              "      }\n",
              "\n",
              "      [theme=dark] .colab-df-generate:hover {\n",
              "        background-color: #434B5C;\n",
              "        box-shadow: 0px 1px 3px 1px rgba(0, 0, 0, 0.15);\n",
              "        filter: drop-shadow(0px 1px 2px rgba(0, 0, 0, 0.3));\n",
              "        fill: #FFFFFF;\n",
              "      }\n",
              "    </style>\n",
              "    <button class=\"colab-df-generate\" onclick=\"generateWithVariable('df_tr')\"\n",
              "            title=\"Generate code using this dataframe.\"\n",
              "            style=\"display:none;\">\n",
              "\n",
              "  <svg xmlns=\"http://www.w3.org/2000/svg\" height=\"24px\"viewBox=\"0 0 24 24\"\n",
              "       width=\"24px\">\n",
              "    <path d=\"M7,19H8.4L18.45,9,17,7.55,7,17.6ZM5,21V16.75L18.45,3.32a2,2,0,0,1,2.83,0l1.4,1.43a1.91,1.91,0,0,1,.58,1.4,1.91,1.91,0,0,1-.58,1.4L9.25,21ZM18.45,9,17,7.55Zm-12,3A5.31,5.31,0,0,0,4.9,8.1,5.31,5.31,0,0,0,1,6.5,5.31,5.31,0,0,0,4.9,4.9,5.31,5.31,0,0,0,6.5,1,5.31,5.31,0,0,0,8.1,4.9,5.31,5.31,0,0,0,12,6.5,5.46,5.46,0,0,0,6.5,12Z\"/>\n",
              "  </svg>\n",
              "    </button>\n",
              "    <script>\n",
              "      (() => {\n",
              "      const buttonEl =\n",
              "        document.querySelector('#id_16060a88-cfbc-4d2a-a5c2-b106f45b283d button.colab-df-generate');\n",
              "      buttonEl.style.display =\n",
              "        google.colab.kernel.accessAllowed ? 'block' : 'none';\n",
              "\n",
              "      buttonEl.onclick = () => {\n",
              "        google.colab.notebook.generateWithVariable('df_tr');\n",
              "      }\n",
              "      })();\n",
              "    </script>\n",
              "  </div>\n",
              "\n",
              "    </div>\n",
              "  </div>\n"
            ],
            "text/plain": [
              "          Count\n",
              "angry      4005\n",
              "disgust     436\n",
              "fear       4107\n",
              "happy      7215\n",
              "neutral    4975\n",
              "sad        4850\n",
              "surprise   3191"
            ]
          },
          "execution_count": 13,
          "metadata": {},
          "output_type": "execute_result"
        }
      ],
      "source": [
        "df_tr"
      ]
    },
    {
      "cell_type": "code",
      "execution_count": null,
      "metadata": {
        "colab": {
          "base_uri": "https://localhost:8080/",
          "height": 269
        },
        "id": "KCDYqXF6mSpy",
        "outputId": "c4d171f5-847e-4820-98b7-62ab92325d58"
      },
      "outputs": [
        {
          "data": {
            "text/html": [
              "\n",
              "  <div id=\"df-4d704846-edcc-4afe-8785-f9ea4de93460\" class=\"colab-df-container\">\n",
              "    <div>\n",
              "<style scoped>\n",
              "    .dataframe tbody tr th:only-of-type {\n",
              "        vertical-align: middle;\n",
              "    }\n",
              "\n",
              "    .dataframe tbody tr th {\n",
              "        vertical-align: top;\n",
              "    }\n",
              "\n",
              "    .dataframe thead th {\n",
              "        text-align: right;\n",
              "    }\n",
              "</style>\n",
              "<table border=\"1\" class=\"dataframe\">\n",
              "  <thead>\n",
              "    <tr style=\"text-align: right;\">\n",
              "      <th></th>\n",
              "      <th>Count</th>\n",
              "    </tr>\n",
              "  </thead>\n",
              "  <tbody>\n",
              "    <tr>\n",
              "      <th>angry</th>\n",
              "      <td>958</td>\n",
              "    </tr>\n",
              "    <tr>\n",
              "      <th>disgust</th>\n",
              "      <td>111</td>\n",
              "    </tr>\n",
              "    <tr>\n",
              "      <th>fear</th>\n",
              "      <td>1044</td>\n",
              "    </tr>\n",
              "    <tr>\n",
              "      <th>happy</th>\n",
              "      <td>1774</td>\n",
              "    </tr>\n",
              "    <tr>\n",
              "      <th>neutral</th>\n",
              "      <td>1243</td>\n",
              "    </tr>\n",
              "    <tr>\n",
              "      <th>sad</th>\n",
              "      <td>1247</td>\n",
              "    </tr>\n",
              "    <tr>\n",
              "      <th>surprise</th>\n",
              "      <td>831</td>\n",
              "    </tr>\n",
              "  </tbody>\n",
              "</table>\n",
              "</div>\n",
              "    <div class=\"colab-df-buttons\">\n",
              "\n",
              "  <div class=\"colab-df-container\">\n",
              "    <button class=\"colab-df-convert\" onclick=\"convertToInteractive('df-4d704846-edcc-4afe-8785-f9ea4de93460')\"\n",
              "            title=\"Convert this dataframe to an interactive table.\"\n",
              "            style=\"display:none;\">\n",
              "\n",
              "  <svg xmlns=\"http://www.w3.org/2000/svg\" height=\"24px\" viewBox=\"0 -960 960 960\">\n",
              "    <path d=\"M120-120v-720h720v720H120Zm60-500h600v-160H180v160Zm220 220h160v-160H400v160Zm0 220h160v-160H400v160ZM180-400h160v-160H180v160Zm440 0h160v-160H620v160ZM180-180h160v-160H180v160Zm440 0h160v-160H620v160Z\"/>\n",
              "  </svg>\n",
              "    </button>\n",
              "\n",
              "  <style>\n",
              "    .colab-df-container {\n",
              "      display:flex;\n",
              "      gap: 12px;\n",
              "    }\n",
              "\n",
              "    .colab-df-convert {\n",
              "      background-color: #E8F0FE;\n",
              "      border: none;\n",
              "      border-radius: 50%;\n",
              "      cursor: pointer;\n",
              "      display: none;\n",
              "      fill: #1967D2;\n",
              "      height: 32px;\n",
              "      padding: 0 0 0 0;\n",
              "      width: 32px;\n",
              "    }\n",
              "\n",
              "    .colab-df-convert:hover {\n",
              "      background-color: #E2EBFA;\n",
              "      box-shadow: 0px 1px 2px rgba(60, 64, 67, 0.3), 0px 1px 3px 1px rgba(60, 64, 67, 0.15);\n",
              "      fill: #174EA6;\n",
              "    }\n",
              "\n",
              "    .colab-df-buttons div {\n",
              "      margin-bottom: 4px;\n",
              "    }\n",
              "\n",
              "    [theme=dark] .colab-df-convert {\n",
              "      background-color: #3B4455;\n",
              "      fill: #D2E3FC;\n",
              "    }\n",
              "\n",
              "    [theme=dark] .colab-df-convert:hover {\n",
              "      background-color: #434B5C;\n",
              "      box-shadow: 0px 1px 3px 1px rgba(0, 0, 0, 0.15);\n",
              "      filter: drop-shadow(0px 1px 2px rgba(0, 0, 0, 0.3));\n",
              "      fill: #FFFFFF;\n",
              "    }\n",
              "  </style>\n",
              "\n",
              "    <script>\n",
              "      const buttonEl =\n",
              "        document.querySelector('#df-4d704846-edcc-4afe-8785-f9ea4de93460 button.colab-df-convert');\n",
              "      buttonEl.style.display =\n",
              "        google.colab.kernel.accessAllowed ? 'block' : 'none';\n",
              "\n",
              "      async function convertToInteractive(key) {\n",
              "        const element = document.querySelector('#df-4d704846-edcc-4afe-8785-f9ea4de93460');\n",
              "        const dataTable =\n",
              "          await google.colab.kernel.invokeFunction('convertToInteractive',\n",
              "                                                    [key], {});\n",
              "        if (!dataTable) return;\n",
              "\n",
              "        const docLinkHtml = 'Like what you see? Visit the ' +\n",
              "          '<a target=\"_blank\" href=https://colab.research.google.com/notebooks/data_table.ipynb>data table notebook</a>'\n",
              "          + ' to learn more about interactive tables.';\n",
              "        element.innerHTML = '';\n",
              "        dataTable['output_type'] = 'display_data';\n",
              "        await google.colab.output.renderOutput(dataTable, element);\n",
              "        const docLink = document.createElement('div');\n",
              "        docLink.innerHTML = docLinkHtml;\n",
              "        element.appendChild(docLink);\n",
              "      }\n",
              "    </script>\n",
              "  </div>\n",
              "\n",
              "\n",
              "<div id=\"df-f3f8fe68-f569-487e-ab24-5abd844f1448\">\n",
              "  <button class=\"colab-df-quickchart\" onclick=\"quickchart('df-f3f8fe68-f569-487e-ab24-5abd844f1448')\"\n",
              "            title=\"Suggest charts\"\n",
              "            style=\"display:none;\">\n",
              "\n",
              "<svg xmlns=\"http://www.w3.org/2000/svg\" height=\"24px\"viewBox=\"0 0 24 24\"\n",
              "     width=\"24px\">\n",
              "    <g>\n",
              "        <path d=\"M19 3H5c-1.1 0-2 .9-2 2v14c0 1.1.9 2 2 2h14c1.1 0 2-.9 2-2V5c0-1.1-.9-2-2-2zM9 17H7v-7h2v7zm4 0h-2V7h2v10zm4 0h-2v-4h2v4z\"/>\n",
              "    </g>\n",
              "</svg>\n",
              "  </button>\n",
              "\n",
              "<style>\n",
              "  .colab-df-quickchart {\n",
              "      --bg-color: #E8F0FE;\n",
              "      --fill-color: #1967D2;\n",
              "      --hover-bg-color: #E2EBFA;\n",
              "      --hover-fill-color: #174EA6;\n",
              "      --disabled-fill-color: #AAA;\n",
              "      --disabled-bg-color: #DDD;\n",
              "  }\n",
              "\n",
              "  [theme=dark] .colab-df-quickchart {\n",
              "      --bg-color: #3B4455;\n",
              "      --fill-color: #D2E3FC;\n",
              "      --hover-bg-color: #434B5C;\n",
              "      --hover-fill-color: #FFFFFF;\n",
              "      --disabled-bg-color: #3B4455;\n",
              "      --disabled-fill-color: #666;\n",
              "  }\n",
              "\n",
              "  .colab-df-quickchart {\n",
              "    background-color: var(--bg-color);\n",
              "    border: none;\n",
              "    border-radius: 50%;\n",
              "    cursor: pointer;\n",
              "    display: none;\n",
              "    fill: var(--fill-color);\n",
              "    height: 32px;\n",
              "    padding: 0;\n",
              "    width: 32px;\n",
              "  }\n",
              "\n",
              "  .colab-df-quickchart:hover {\n",
              "    background-color: var(--hover-bg-color);\n",
              "    box-shadow: 0 1px 2px rgba(60, 64, 67, 0.3), 0 1px 3px 1px rgba(60, 64, 67, 0.15);\n",
              "    fill: var(--button-hover-fill-color);\n",
              "  }\n",
              "\n",
              "  .colab-df-quickchart-complete:disabled,\n",
              "  .colab-df-quickchart-complete:disabled:hover {\n",
              "    background-color: var(--disabled-bg-color);\n",
              "    fill: var(--disabled-fill-color);\n",
              "    box-shadow: none;\n",
              "  }\n",
              "\n",
              "  .colab-df-spinner {\n",
              "    border: 2px solid var(--fill-color);\n",
              "    border-color: transparent;\n",
              "    border-bottom-color: var(--fill-color);\n",
              "    animation:\n",
              "      spin 1s steps(1) infinite;\n",
              "  }\n",
              "\n",
              "  @keyframes spin {\n",
              "    0% {\n",
              "      border-color: transparent;\n",
              "      border-bottom-color: var(--fill-color);\n",
              "      border-left-color: var(--fill-color);\n",
              "    }\n",
              "    20% {\n",
              "      border-color: transparent;\n",
              "      border-left-color: var(--fill-color);\n",
              "      border-top-color: var(--fill-color);\n",
              "    }\n",
              "    30% {\n",
              "      border-color: transparent;\n",
              "      border-left-color: var(--fill-color);\n",
              "      border-top-color: var(--fill-color);\n",
              "      border-right-color: var(--fill-color);\n",
              "    }\n",
              "    40% {\n",
              "      border-color: transparent;\n",
              "      border-right-color: var(--fill-color);\n",
              "      border-top-color: var(--fill-color);\n",
              "    }\n",
              "    60% {\n",
              "      border-color: transparent;\n",
              "      border-right-color: var(--fill-color);\n",
              "    }\n",
              "    80% {\n",
              "      border-color: transparent;\n",
              "      border-right-color: var(--fill-color);\n",
              "      border-bottom-color: var(--fill-color);\n",
              "    }\n",
              "    90% {\n",
              "      border-color: transparent;\n",
              "      border-bottom-color: var(--fill-color);\n",
              "    }\n",
              "  }\n",
              "</style>\n",
              "\n",
              "  <script>\n",
              "    async function quickchart(key) {\n",
              "      const quickchartButtonEl =\n",
              "        document.querySelector('#' + key + ' button');\n",
              "      quickchartButtonEl.disabled = true;  // To prevent multiple clicks.\n",
              "      quickchartButtonEl.classList.add('colab-df-spinner');\n",
              "      try {\n",
              "        const charts = await google.colab.kernel.invokeFunction(\n",
              "            'suggestCharts', [key], {});\n",
              "      } catch (error) {\n",
              "        console.error('Error during call to suggestCharts:', error);\n",
              "      }\n",
              "      quickchartButtonEl.classList.remove('colab-df-spinner');\n",
              "      quickchartButtonEl.classList.add('colab-df-quickchart-complete');\n",
              "    }\n",
              "    (() => {\n",
              "      let quickchartButtonEl =\n",
              "        document.querySelector('#df-f3f8fe68-f569-487e-ab24-5abd844f1448 button');\n",
              "      quickchartButtonEl.style.display =\n",
              "        google.colab.kernel.accessAllowed ? 'block' : 'none';\n",
              "    })();\n",
              "  </script>\n",
              "</div>\n",
              "\n",
              "  <div id=\"id_1a0d200f-2c77-4237-83a8-950559fe0e34\">\n",
              "    <style>\n",
              "      .colab-df-generate {\n",
              "        background-color: #E8F0FE;\n",
              "        border: none;\n",
              "        border-radius: 50%;\n",
              "        cursor: pointer;\n",
              "        display: none;\n",
              "        fill: #1967D2;\n",
              "        height: 32px;\n",
              "        padding: 0 0 0 0;\n",
              "        width: 32px;\n",
              "      }\n",
              "\n",
              "      .colab-df-generate:hover {\n",
              "        background-color: #E2EBFA;\n",
              "        box-shadow: 0px 1px 2px rgba(60, 64, 67, 0.3), 0px 1px 3px 1px rgba(60, 64, 67, 0.15);\n",
              "        fill: #174EA6;\n",
              "      }\n",
              "\n",
              "      [theme=dark] .colab-df-generate {\n",
              "        background-color: #3B4455;\n",
              "        fill: #D2E3FC;\n",
              "      }\n",
              "\n",
              "      [theme=dark] .colab-df-generate:hover {\n",
              "        background-color: #434B5C;\n",
              "        box-shadow: 0px 1px 3px 1px rgba(0, 0, 0, 0.15);\n",
              "        filter: drop-shadow(0px 1px 2px rgba(0, 0, 0, 0.3));\n",
              "        fill: #FFFFFF;\n",
              "      }\n",
              "    </style>\n",
              "    <button class=\"colab-df-generate\" onclick=\"generateWithVariable('df_ts')\"\n",
              "            title=\"Generate code using this dataframe.\"\n",
              "            style=\"display:none;\">\n",
              "\n",
              "  <svg xmlns=\"http://www.w3.org/2000/svg\" height=\"24px\"viewBox=\"0 0 24 24\"\n",
              "       width=\"24px\">\n",
              "    <path d=\"M7,19H8.4L18.45,9,17,7.55,7,17.6ZM5,21V16.75L18.45,3.32a2,2,0,0,1,2.83,0l1.4,1.43a1.91,1.91,0,0,1,.58,1.4,1.91,1.91,0,0,1-.58,1.4L9.25,21ZM18.45,9,17,7.55Zm-12,3A5.31,5.31,0,0,0,4.9,8.1,5.31,5.31,0,0,0,1,6.5,5.31,5.31,0,0,0,4.9,4.9,5.31,5.31,0,0,0,6.5,1,5.31,5.31,0,0,0,8.1,4.9,5.31,5.31,0,0,0,12,6.5,5.46,5.46,0,0,0,6.5,12Z\"/>\n",
              "  </svg>\n",
              "    </button>\n",
              "    <script>\n",
              "      (() => {\n",
              "      const buttonEl =\n",
              "        document.querySelector('#id_1a0d200f-2c77-4237-83a8-950559fe0e34 button.colab-df-generate');\n",
              "      buttonEl.style.display =\n",
              "        google.colab.kernel.accessAllowed ? 'block' : 'none';\n",
              "\n",
              "      buttonEl.onclick = () => {\n",
              "        google.colab.notebook.generateWithVariable('df_ts');\n",
              "      }\n",
              "      })();\n",
              "    </script>\n",
              "  </div>\n",
              "\n",
              "    </div>\n",
              "  </div>\n"
            ],
            "text/plain": [
              "          Count\n",
              "angry       958\n",
              "disgust     111\n",
              "fear       1044\n",
              "happy      1774\n",
              "neutral    1243\n",
              "sad        1247\n",
              "surprise    831"
            ]
          },
          "execution_count": 56,
          "metadata": {},
          "output_type": "execute_result"
        }
      ],
      "source": [
        "df_ts"
      ]
    },
    {
      "cell_type": "code",
      "execution_count": null,
      "metadata": {
        "colab": {
          "base_uri": "https://localhost:8080/"
        },
        "id": "5MtkmQF8nNXk",
        "outputId": "09bdced3-3a6a-4377-e5c0-57e684770b25"
      },
      "outputs": [
        {
          "data": {
            "text/plain": [
              "angry        958\n",
              "disgust      111\n",
              "fear        1044\n",
              "happy       1774\n",
              "neutral     1243\n",
              "sad         1247\n",
              "surprise     831\n",
              "Name: Count, dtype: int64"
            ]
          },
          "execution_count": 16,
          "metadata": {},
          "output_type": "execute_result"
        }
      ],
      "source": [
        "df_ts.iloc[:, 0]"
      ]
    },
    {
      "cell_type": "code",
      "execution_count": null,
      "metadata": {
        "colab": {
          "base_uri": "https://localhost:8080/",
          "height": 540
        },
        "id": "9g-i8AD2VmWE",
        "outputId": "c411579f-a2e7-4656-a31b-ed8c2bf29d80"
      },
      "outputs": [
        {
          "name": "stdout",
          "output_type": "stream",
          "text": [
            "28000\n"
          ]
        },
        {
          "data": {
            "image/png": "[encoded data removed]",
            "text/plain": [
              "<Figure size 1500x600 with 1 Axes>"
            ]
          },
          "metadata": {},
          "output_type": "display_data"
        }
      ],
      "source": [
        "# Visualiizing one specific picture by index\n",
        "plt.figure(figsize=(15,6))\n",
        "plt.imshow(X_train[28000])\n",
        "print(y_train[28000])"
      ]
    },
    {
      "cell_type": "code",
      "execution_count": null,
      "metadata": {
        "colab": {
          "base_uri": "https://localhost:8080/"
        },
        "id": "fX_C0VsrqIBb",
        "outputId": "13720855-0bfb-45fc-a75f-5c8888daafc6"
      },
      "outputs": [
        {
          "data": {
            "text/plain": [
              "{0: 'angry',\n",
              " 4005: 'disgust',\n",
              " 4441: 'fear',\n",
              " 8548: 'happy',\n",
              " 15763: 'neutral',\n",
              " 20738: 'sad',\n",
              " 25588: 'surprise'}"
            ]
          },
          "execution_count": 18,
          "metadata": {},
          "output_type": "execute_result"
        }
      ],
      "source": [
        "labels_tr"
      ]
    },
    {
      "cell_type": "code",
      "execution_count": null,
      "metadata": {
        "id": "2JRYH2okYAyc"
      },
      "outputs": [],
      "source": [
        "# This functions plots a set of pictures from the dataset with their label, it plots 50 pictures by default\n",
        "\n",
        "def plot_samples(X, y, labels_dict, n=50):\n",
        "    \"\"\"\n",
        "    Creates a gridplot for desired number of images (n) from the specified set\n",
        "    \"\"\"\n",
        "    for index in range(len(labels_dict)):\n",
        "        imgs = X[np.argwhere(y == index)][:n]\n",
        "        j = 10\n",
        "        i = int(n/j)\n",
        "\n",
        "        plt.figure(figsize=(15,6))\n",
        "        c = 1\n",
        "        for img in imgs:\n",
        "            plt.subplot(i,j,c)\n",
        "            plt.imshow(img[0])\n",
        "\n",
        "            plt.xticks([])\n",
        "            plt.yticks([])\n",
        "            c += 1\n",
        "        plt.suptitle('Emotion: {}'.format(labels_dict[index]))\n",
        "        plt.show()"
      ]
    },
    {
      "cell_type": "code",
      "execution_count": null,
      "metadata": {
        "colab": {
          "base_uri": "https://localhost:8080/"
        },
        "id": "Ve6cdpvSPMI7",
        "outputId": "74c61930-005d-4548-e090-ef8e3a9e567b"
      },
      "outputs": [
        {
          "data": {
            "text/plain": [
              "array([    0,     1,     2, ..., 28776, 28777, 28778])"
            ]
          },
          "execution_count": 15,
          "metadata": {},
          "output_type": "execute_result"
        }
      ],
      "source": [
        "len(labels_tr)\n",
        "y_train"
      ]
    },
    {
      "cell_type": "code",
      "execution_count": null,
      "metadata": {
        "id": "JuF6f2grKXHx"
      },
      "outputs": [],
      "source": [
        "plot_samples(X_train, y_train, labels_tr, n=50)"
      ]
    },
    {
      "cell_type": "markdown",
      "metadata": {
        "id": "0MPhDw2Jh1Am"
      },
      "source": [
        "# I. Data Preprocessing"
      ]
    },
    {
      "cell_type": "markdown",
      "metadata": {
        "id": "LGpkw_4hio9R"
      },
      "source": [
        "## 0.Normalization"
      ]
    },
    {
      "cell_type": "code",
      "execution_count": null,
      "metadata": {
        "id": "OzPb7aRbiuen"
      },
      "outputs": [],
      "source": [
        "X_train= X_train/255.\n",
        "#X_test = X_test/255."
      ]
    },
    {
      "cell_type": "markdown",
      "metadata": {
        "id": "f1dNidnhfVsd"
      },
      "source": [
        "## 1. Noise reduction"
      ]
    },
    {
      "cell_type": "markdown",
      "metadata": {
        "id": "_crjx75nqA7k"
      },
      "source": [
        "### 1.1. Image path generation"
      ]
    },
    {
      "cell_type": "code",
      "execution_count": null,
      "metadata": {
        "id": "92DokNdiBGSp"
      },
      "outputs": [],
      "source": [
        "def img_path(dir_path, img_size=(48,48)) : # returns an array of image paths\n",
        "    X_img_names = []\n",
        "    labels = dict()\n",
        "    for path in tqdm(sorted(os.listdir(dir_path))):\n",
        "        print(path)\n",
        "        if not path.startswith('.'):\n",
        "              for file in os.listdir(dir_path +'/'+ path):\n",
        "                if not file.startswith('.'):\n",
        "                    X_img_names.append(dir_path +'/'+ path + '/' + file)\n",
        "\n",
        "    X_img_names = np.array(X_img_names)\n",
        "    return X_img_names"
      ]
    },
    {
      "cell_type": "code",
      "execution_count": null,
      "metadata": {
        "colab": {
          "base_uri": "https://localhost:8080/"
        },
        "id": "nJIlQJh4CmBP",
        "outputId": "beb51ba3-764f-4750-87b4-4bd1abac5db0"
      },
      "outputs": [
        {
          "name": "stderr",
          "output_type": "stream",
          "text": [
            "\r  0%|          | 0/7 [00:00<?, ?it/s]"
          ]
        },
        {
          "name": "stdout",
          "output_type": "stream",
          "text": [
            "angry\n"
          ]
        },
        {
          "name": "stderr",
          "output_type": "stream",
          "text": [
            "\r 14%|█▍        | 1/7 [00:32<03:12, 32.11s/it]"
          ]
        },
        {
          "name": "stdout",
          "output_type": "stream",
          "text": [
            "disgust\n"
          ]
        },
        {
          "name": "stderr",
          "output_type": "stream",
          "text": [
            "\r 29%|██▊       | 2/7 [00:35<01:17, 15.47s/it]"
          ]
        },
        {
          "name": "stdout",
          "output_type": "stream",
          "text": [
            "fear\n"
          ]
        },
        {
          "name": "stderr",
          "output_type": "stream",
          "text": [
            " 57%|█████▋    | 4/7 [01:07<00:41, 13.86s/it]"
          ]
        },
        {
          "name": "stdout",
          "output_type": "stream",
          "text": [
            "happy\n",
            "neutral\n"
          ]
        },
        {
          "name": "stderr",
          "output_type": "stream",
          "text": [
            "\r 71%|███████▏  | 5/7 [01:39<00:41, 20.54s/it]"
          ]
        },
        {
          "name": "stdout",
          "output_type": "stream",
          "text": [
            "sad\n"
          ]
        },
        {
          "name": "stderr",
          "output_type": "stream",
          "text": [
            "100%|██████████| 7/7 [02:14<00:00, 19.15s/it]"
          ]
        },
        {
          "name": "stdout",
          "output_type": "stream",
          "text": [
            "surprise\n"
          ]
        },
        {
          "name": "stderr",
          "output_type": "stream",
          "text": [
            "\n"
          ]
        }
      ],
      "source": [
        "X_img_names = img_path(train_dir, img_size=(48,48))"
      ]
    },
    {
      "cell_type": "markdown",
      "metadata": {
        "id": "kpuY6iFcJwOA"
      },
      "source": [
        "## 1.2. Gaussian filter\n",
        "**The Gaussian filter was chosen, because :**\n",
        "\n",
        "For every pixel, it gives maximum weight to the pixel at hand, and exponentially decaying weights for surrounding values according to how far they are from the central pixel being treated,\n",
        "which is a very logical way of smoothing out the pictures without creating extremes or associating non representative values to a pixel. (unlike averaging out or taking the maximum value)."
      ]
    },
    {
      "cell_type": "code",
      "execution_count": null,
      "metadata": {
        "id": "SLUOZMXxqFn1"
      },
      "outputs": [],
      "source": [
        "def Gaussian_filter(X_img_names) : # returns array of Gaussian filtered images and saves them to a designated drive folder\n",
        "    X_filtered = []\n",
        "    x_Gauss_names = []\n",
        "    url_Gauss_img=\"/content/drive/MyDrive/2. Relevant Projects/1. Emotions Recognition/Gauss\"\n",
        "\n",
        "    for path in X_img_names :\n",
        "      img = cv2.imread(path)\n",
        "      dst = cv2.GaussianBlur(img,(3,3),cv2.BORDER_DEFAULT)\n",
        "\n",
        "      #only execute first time to save pictures to drive\n",
        "\n",
        "      cv2.imwrite(url_Gauss_img+f\"{path[81:]}\",dst)\n",
        "\n",
        "      #X_filtered.append(dst)\n",
        "\n",
        "    #X_filtered = np.array(X_filtered)\n",
        "    #return X_filtered\n"
      ]
    },
    {
      "cell_type": "code",
      "execution_count": null,
      "metadata": {
        "colab": {
          "base_uri": "https://localhost:8080/",
          "height": 36
        },
        "id": "6BgtMQwCt6f2",
        "outputId": "6f1a4d0f-c7d5-43cf-c4c5-c3c66fff3036"
      },
      "outputs": [
        {
          "data": {
            "application/vnd.google.colaboratory.intrinsic+json": {
              "type": "string"
            },
            "text/plain": [
              "'/fear/Training_76291570.jpg'"
            ]
          },
          "execution_count": 15,
          "metadata": {},
          "output_type": "execute_result"
        }
      ],
      "source": [
        "X_img_names[4700][81:]"
      ]
    },
    {
      "cell_type": "code",
      "execution_count": null,
      "metadata": {
        "id": "N2ReGgEPiqQv"
      },
      "outputs": [],
      "source": [
        "#x_filtered_Gauss =\n",
        "Gaussian_filter(X_img_names)"
      ]
    },
    {
      "cell_type": "code",
      "execution_count": null,
      "metadata": {
        "id": "9Run2KGxJ_jG"
      },
      "outputs": [],
      "source": [
        "plot_samples(x_filtered_Gauss, y_train, labels_tr, n=50)"
      ]
    },
    {
      "cell_type": "code",
      "execution_count": null,
      "metadata": {
        "id": "Av8X0BaDC85k"
      },
      "outputs": [],
      "source": [
        "# Show one specific example by index\n",
        "'''\n",
        "plt.figure(figsize=(15,6))\n",
        "plt.imshow(x_filtered_Gauss[5000])\n",
        "plt.imshow(X_train[5000])\n",
        "'''\n"
      ]
    },
    {
      "cell_type": "markdown",
      "metadata": {
        "id": "Hw6Lgc3GevVa"
      },
      "source": [
        "## 2. Feature Extraction\n",
        "\n",
        "2 types of methods exist :\n",
        "- **The appearance feature extraction methods** : *Gabor filter , Local Binary Pattern (LBP) , Histogram of Oriented Gradients(HOG)*\n",
        "are applied on the totality of the face image.\n",
        "- **The geometric feature-based methods** : commonly exploit landmark points in order to calculate geometric distances between face regions.\n",
        "\n",
        "\n",
        "  --> Research has concluded that **appearance feature-based techniques** achieved better results in terms of accuracy than geometric methods, therfore, we will adopt the first type methods.\n",
        "\n",
        "  -------------------------"
      ]
    },
    {
      "cell_type": "markdown",
      "metadata": {
        "id": "szQbFbWjXu1G"
      },
      "source": [
        "### 1.1.Edge Detection :\n",
        "Among existing edge detection algorithms, we find canny, sobel, Scharr, Prewitt ...\n",
        "These operators have been discarded for the following reasons :\n",
        "- **Canny** : it only keeps sharp edges and thins down the result, which won't work well in our case since the pictures are low quality and the wrinkles won't be that visible as opposed to more contrasted pixels (eyes and mouth relative to face will be the most contrasted).\n",
        "- **Sobel** : Sobel is usually used on RGB colors and performs grayscaling, whereas our dataset is already in grayscale, further grayscaling it will reduce contrast.\n",
        "\n",
        "=> Chosen operator : **Prewitt** : it avoids all the previous inadequecies, and includes a GaussBlurring effect.\n",
        "Another considered operator : **Scharr**"
      ]
    },
    {
      "cell_type": "markdown",
      "metadata": {
        "id": "o-VqNzdWijmj"
      },
      "source": [
        "- **Horizontal Edges** : Mouth - Eyes related\n",
        "- **Vertical Edges** : Nose around wrinkles : (indicator of disgust)"
      ]
    },
    {
      "cell_type": "code",
      "execution_count": null,
      "metadata": {
        "id": "6EVhZXG1yT9G"
      },
      "outputs": [],
      "source": [
        "def Prewitt(X_img_names) :\n",
        "  X_Prewitt = []\n",
        "\n",
        "  #when saving to drive on colab\n",
        "  url_edge=\"/content/drive/MyDrive/2. Relevant Projects/1. Emotions Recognition/Edge_Prewitt/\"\n",
        "\n",
        "  if 2 != 3 :\n",
        "    kernelx = np.array([[-1,0,1],[-1,0,1],[-1,0,1]]) # filter to detect the vertical edges\n",
        "    kernely = np.array([[1,1,1],[0,0,0],[-1,-1,-1]]) # filter to detect the horizontal edges\n",
        "\n",
        "    for path in X_img_names :\n",
        "      if path[82]=='a':\n",
        "        img = cv2.imread(path)\n",
        "        img = img/255\n",
        "        prewitt_vertical = cv2.filter2D(src=img, ddepth= -1, kernel=kernelx)\n",
        "        prewitt_horizontal = cv2.filter2D(src=img, ddepth= -1, kernel=kernely)\n",
        "        edged_img = np.sqrt(prewitt_vertical**2 + prewitt_horizontal**2).astype(np.uint8)\n",
        "\n",
        "        # Normalize the magnitude to 0-255\n",
        "        edged_img = cv2.normalize(edged_img, None, 0, 255, cv2.NORM_MINMAX).astype(np.uint8)\n",
        "\n",
        "        #only execute first time to save pictures to drive\n",
        "        cv2.imwrite(url_edge+f\"{path[81:]}\",edged_img)\n",
        "\n",
        "        X_Prewitt.append(edged_img)\n",
        "\n",
        "  return np.array(X_Prewitt)"
      ]
    },
    {
      "cell_type": "code",
      "execution_count": null,
      "metadata": {
        "id": "q-hv94VndRYf"
      },
      "outputs": [],
      "source": [
        "def Prewitt_2(X_img_names) :\n",
        "    X_Prewitt = []\n",
        "    kernelx = np.array([[-1,0,1],[-1,0,1],[-1,0,1]]) # filter to detect the vertical edges\n",
        "    kernely = np.array([[1,1,1],[0,0,0],[-1,-1,-1]]) # filter to detect the horizontal edges\n",
        "    for path in X_img_names :\n",
        "      img = cv2.imread(path).astype('float64')\n",
        "      #cv2.imwrite(\"bw.jpg\",img)\n",
        "      img/=255\n",
        "      img=cv2.GaussianBlur(img,(3,3),0)\n",
        "\n",
        "      cv2.imwrite(\"gaussianblur.jpg\",img)\n",
        "\n",
        "      prewitt_vertical=cv2.filter2D(img, -1, kernelx)\n",
        "      prewitt_horizontal=cv2.filter2D(img, -1, kernely)\n",
        "      #prewitt_horizontal=ndimage.convolve(img, kernely)\n",
        "      edged_img = np.sqrt( np.square(prewitt_vertical) + np.square(prewitt_horizontal))\n",
        "\n",
        "      edged_img*=255\n",
        "      horizontal_edge=prewitt_horizontal*255\n",
        "      vertical_edge=prewitt_vertical*255\n",
        "\n",
        "      X_Prewitt.append(edged_img)\n",
        "    return np.array(X_Prewitt)\n"
      ]
    },
    {
      "cell_type": "code",
      "execution_count": null,
      "metadata": {
        "id": "SXtCUtSNBcdC"
      },
      "outputs": [],
      "source": [
        "# Prewitt filter on orginal dataset\n",
        "X_Prewitt = Prewitt(X_img_names)\n",
        "#Prewitt(X_img_names)"
      ]
    },
    {
      "cell_type": "code",
      "execution_count": null,
      "metadata": {
        "id": "WYYGXlQ7eS9T"
      },
      "outputs": [],
      "source": [
        "X_Prewitt = Prewitt_2(X_img_names)"
      ]
    },
    {
      "cell_type": "code",
      "execution_count": null,
      "metadata": {
        "colab": {
          "base_uri": "https://localhost:8080/"
        },
        "id": "tohQBGgTQgfn",
        "outputId": "583bea78-99a4-4db1-8904-1608e5810fbc"
      },
      "outputs": [
        {
          "data": {
            "text/plain": [
              "(0,)"
            ]
          },
          "execution_count": 36,
          "metadata": {},
          "output_type": "execute_result"
        }
      ],
      "source": [
        "X_Prewitt.shape"
      ]
    },
    {
      "cell_type": "code",
      "execution_count": null,
      "metadata": {
        "colab": {
          "base_uri": "https://localhost:8080/"
        },
        "id": "6mPm4ZH5Qpfy",
        "outputId": "42664463-9711-4a24-d40d-0ea48f54bd84"
      },
      "outputs": [
        {
          "data": {
            "text/plain": [
              "(10,)"
            ]
          },
          "execution_count": 17,
          "metadata": {},
          "output_type": "execute_result"
        }
      ],
      "source": [
        "X_img_names[:10].shape"
      ]
    },
    {
      "cell_type": "code",
      "execution_count": null,
      "metadata": {
        "id": "H6AmXNzW2IKd"
      },
      "outputs": [],
      "source": [
        "# Prewitt filter on gaussian blurred dataset\n",
        "X_Prewitt_full = Prewitt()"
      ]
    },
    {
      "cell_type": "code",
      "execution_count": null,
      "metadata": {
        "colab": {
          "base_uri": "https://localhost:8080/"
        },
        "id": "Y9BRU--TVMLX",
        "outputId": "11631a87-b6af-49ff-b921-7d1ded1d3550"
      },
      "outputs": [
        {
          "data": {
            "text/plain": [
              "array([[[  0,   0,   0],\n",
              "        [  0,   0,   0],\n",
              "        [187, 187, 187],\n",
              "        ...,\n",
              "        [  0,   0,   0],\n",
              "        [ 17,  17,  17],\n",
              "        [  0,   0,   0]],\n",
              "\n",
              "       [[ 68,  68,  68],\n",
              "        [238, 238, 238],\n",
              "        [238, 238, 238],\n",
              "        ...,\n",
              "        [  0,   0,   0],\n",
              "        [ 85,  85,  85],\n",
              "        [  0,   0,   0]],\n",
              "\n",
              "       [[238, 238, 238],\n",
              "        [238, 238, 238],\n",
              "        [187, 187, 187],\n",
              "        ...,\n",
              "        [  0,   0,   0],\n",
              "        [238, 238, 238],\n",
              "        [  0,   0,   0]],\n",
              "\n",
              "       ...,\n",
              "\n",
              "       [[238, 238, 238],\n",
              "        [136, 136, 136],\n",
              "        [ 34,  34,  34],\n",
              "        ...,\n",
              "        [ 51,  51,  51],\n",
              "        [  0,   0,   0],\n",
              "        [  0,   0,   0]],\n",
              "\n",
              "       [[  0,   0,   0],\n",
              "        [  0,   0,   0],\n",
              "        [153, 153, 153],\n",
              "        ...,\n",
              "        [ 17,  17,  17],\n",
              "        [ 34,  34,  34],\n",
              "        [ 34,  34,  34]],\n",
              "\n",
              "       [[  0,   0,   0],\n",
              "        [  0,   0,   0],\n",
              "        [ 85,  85,  85],\n",
              "        ...,\n",
              "        [  0,   0,   0],\n",
              "        [ 51,  51,  51],\n",
              "        [  0,   0,   0]]], dtype=uint8)"
            ]
          },
          "execution_count": 13,
          "metadata": {},
          "output_type": "execute_result"
        }
      ],
      "source": [
        "X_Prewitt[28000]\n"
      ]
    },
    {
      "cell_type": "code",
      "execution_count": null,
      "metadata": {
        "colab": {
          "base_uri": "https://localhost:8080/",
          "height": 245
        },
        "id": "0iXWlLDTUy3e",
        "outputId": "e9a6c457-2519-457c-ad89-6d82b51dbdba"
      },
      "outputs": [
        {
          "ename": "IndexError",
          "evalue": "ignored",
          "output_type": "error",
          "traceback": [
            "\u001b[0;31m---------------------------------------------------------------------------\u001b[0m",
            "\u001b[0;31mIndexError\u001b[0m                                Traceback (most recent call last)",
            "\u001b[0;32m<ipython-input-15-b5899c4b712b>\u001b[0m in \u001b[0;36m<cell line: 3>\u001b[0;34m()\u001b[0m\n\u001b[1;32m      1\u001b[0m \u001b[0;31m# Visualiizing one specific picture by index\u001b[0m\u001b[0;34m\u001b[0m\u001b[0;34m\u001b[0m\u001b[0m\n\u001b[1;32m      2\u001b[0m \u001b[0mplt\u001b[0m\u001b[0;34m.\u001b[0m\u001b[0mfigure\u001b[0m\u001b[0;34m(\u001b[0m\u001b[0mfigsize\u001b[0m\u001b[0;34m=\u001b[0m\u001b[0;34m(\u001b[0m\u001b[0;36m15\u001b[0m\u001b[0;34m,\u001b[0m\u001b[0;36m6\u001b[0m\u001b[0;34m)\u001b[0m\u001b[0;34m)\u001b[0m\u001b[0;34m\u001b[0m\u001b[0;34m\u001b[0m\u001b[0m\n\u001b[0;32m----> 3\u001b[0;31m \u001b[0mplt\u001b[0m\u001b[0;34m.\u001b[0m\u001b[0mimshow\u001b[0m\u001b[0;34m(\u001b[0m\u001b[0mX_Prewitt\u001b[0m\u001b[0;34m[\u001b[0m\u001b[0;36m5\u001b[0m\u001b[0;34m]\u001b[0m\u001b[0;34m)\u001b[0m\u001b[0;34m\u001b[0m\u001b[0;34m\u001b[0m\u001b[0m\n\u001b[0m\u001b[1;32m      4\u001b[0m \u001b[0mprint\u001b[0m\u001b[0;34m(\u001b[0m\u001b[0my_train\u001b[0m\u001b[0;34m[\u001b[0m\u001b[0;36m5\u001b[0m\u001b[0;34m]\u001b[0m\u001b[0;34m)\u001b[0m\u001b[0;34m\u001b[0m\u001b[0;34m\u001b[0m\u001b[0m\n",
            "\u001b[0;31mIndexError\u001b[0m: index 5 is out of bounds for axis 0 with size 0"
          ]
        },
        {
          "data": {
            "text/plain": [
              "<Figure size 1500x600 with 0 Axes>"
            ]
          },
          "metadata": {},
          "output_type": "display_data"
        }
      ],
      "source": [
        "# Visualiizing one specific picture by index\n",
        "plt.figure(figsize=(15,6))\n",
        "plt.imshow(X_Prewitt[5])\n",
        "print(y_train[5])"
      ]
    },
    {
      "cell_type": "code",
      "execution_count": null,
      "metadata": {
        "id": "oQYFrQ0-WOT-"
      },
      "outputs": [],
      "source": [
        "plot_samples(X_Prewitt, y_train, labels_tr, n=50)"
      ]
    },
    {
      "cell_type": "code",
      "execution_count": null,
      "metadata": {
        "id": "qAr3s-u12h74"
      },
      "outputs": [],
      "source": [
        "#plot_samples(X_Prewitt_full, y_train, labels_tr, n=50)"
      ]
    },
    {
      "cell_type": "markdown",
      "metadata": {
        "id": "sv1E9DdFfME8"
      },
      "source": [
        "# II. Data Augmentation"
      ]
    },
    {
      "cell_type": "markdown",
      "metadata": {
        "id": "WgSVcCii3Isu"
      },
      "source": [
        "## Approach :\n",
        "1. We will create an RGB version of the original dataset (the RGB images won't be used for training).\n",
        "2. The RGB version will be used as an intermediary tool to create the YCbCr dataset and the YES dataset :\n",
        "- YCbCr : a default function is used to go from RGB to YCbCr\n",
        "- YES : a function is implemented to go from RGB to YES according to transformation matrix.\n",
        "3. The test results of the three color spaces will be compared.\n",
        "4. All the data generated after testing and benchmarking, will be used together in phases for training as an attempt to deliver better test results.\n"
      ]
    },
    {
      "cell_type": "markdown",
      "metadata": {
        "id": "OuiE8sUb5Cx3"
      },
      "source": [
        "## 0. conversion to RGB"
      ]
    },
    {
      "cell_type": "code",
      "execution_count": null,
      "metadata": {
        "id": "cnsNxgyA47l5"
      },
      "outputs": [],
      "source": [
        "# Converts images from GrayScale --> RGB &\n",
        "# saves pictures to drive folder &\n",
        "# saves path to an array (annuled)\n",
        "\n",
        "def RGB(X_img_names) :\n",
        "    x_rgb = []\n",
        "    X_RGB_names = []\n",
        "    url_RGB=\"/content/drive/MyDrive/2. Relevant Projects/1. Emotions Recognition/RGB\"\n",
        "\n",
        "    for path in X_img_names :\n",
        "        image = cv2.imread(path, cv2.IMREAD_GRAYSCALE)\n",
        "        # Convert the image to RGB.\n",
        "        image_rgb = cv2.cvtColor(image, cv2.COLOR_GRAY2RGB)\n",
        "\n",
        "        #only execute first time to save pictures to drive\n",
        "        cv2.imwrite(url_RGB+f\"{path[81:]}\",image_rgb)\n",
        "\n",
        "        x_rgb.append(image_rgb)\n",
        "\n",
        "\n",
        "    return(np.array(x_rgb))"
      ]
    },
    {
      "cell_type": "code",
      "execution_count": null,
      "metadata": {
        "id": "tc-5U2O8A6SP"
      },
      "outputs": [],
      "source": [
        "x_rgb = RGB(X_img_names)"
      ]
    },
    {
      "cell_type": "code",
      "execution_count": null,
      "metadata": {
        "colab": {
          "base_uri": "https://localhost:8080/"
        },
        "id": "DoVXUYY8VTN0",
        "outputId": "e82efba4-2b05-42a4-cab8-37880ed78a81"
      },
      "outputs": [
        {
          "name": "stderr",
          "output_type": "stream",
          "text": [
            "\r  0%|          | 0/7 [00:00<?, ?it/s]"
          ]
        },
        {
          "name": "stdout",
          "output_type": "stream",
          "text": [
            "angry\n"
          ]
        },
        {
          "name": "stderr",
          "output_type": "stream",
          "text": [
            "\r 14%|█▍        | 1/7 [00:30<03:00, 30.15s/it]"
          ]
        },
        {
          "name": "stdout",
          "output_type": "stream",
          "text": [
            "disgust\n",
            "fear\n"
          ]
        },
        {
          "name": "stderr",
          "output_type": "stream",
          "text": [
            "\r 43%|████▎     | 3/7 [00:34<00:37,  9.35s/it]"
          ]
        },
        {
          "name": "stdout",
          "output_type": "stream",
          "text": [
            "happy\n"
          ]
        },
        {
          "name": "stderr",
          "output_type": "stream",
          "text": [
            "\r 57%|█████▋    | 4/7 [01:15<01:01, 20.47s/it]"
          ]
        },
        {
          "name": "stdout",
          "output_type": "stream",
          "text": [
            "neutral\n"
          ]
        },
        {
          "name": "stderr",
          "output_type": "stream",
          "text": [
            "\r 71%|███████▏  | 5/7 [01:19<00:29, 14.88s/it]"
          ]
        },
        {
          "name": "stdout",
          "output_type": "stream",
          "text": [
            "sad\n"
          ]
        },
        {
          "name": "stderr",
          "output_type": "stream",
          "text": [
            "100%|██████████| 7/7 [01:44<00:00, 14.87s/it]"
          ]
        },
        {
          "name": "stdout",
          "output_type": "stream",
          "text": [
            "surprise\n"
          ]
        },
        {
          "name": "stderr",
          "output_type": "stream",
          "text": [
            "\n"
          ]
        }
      ],
      "source": [
        "x_rgb_names = img_path(train_RGB, img_size=(48,48))"
      ]
    },
    {
      "cell_type": "code",
      "execution_count": null,
      "metadata": {
        "id": "MCfLARr2-NHG"
      },
      "outputs": [],
      "source": [
        "#plotting RGB pictures\n",
        "plot_samples(x_rgb, y_train, labels_tr, n=50)"
      ]
    },
    {
      "cell_type": "markdown",
      "metadata": {
        "id": "Nz-3IVwPiBK3"
      },
      "source": [
        "## 1. Color shift\n",
        "### 1.1. YCbCr\n",
        "YCbCr Color model is specified in terms of luminance (Y channel) and chrominance (Cb and Cr channels). It segments the image into a luminous component and chrominance components. In YCbCr color model, the distribution of the skin areas is consistent across different races in the Cb and Cr color spaces. As RGB color model is light sensitive so to improve the performance of skin color clustering, YCbCr color model is used. Its chrominance components are almost independent of luminance and there is non-linear relationship between chrominance (Cb, Cr) and luminance(Y) of the skin color in the high and low luminance region.\n",
        "- **Range of Y** : [16, 235] , where 16:black | 235:white.\n",
        "- **Range of Cb and Cr** :  [16–240].\n",
        "\n",
        "The main advantage of YCbCr color model is that the influence of luminosity can be removed during processing of an image. Different plots for Y, Cb and Cr values for face and non-face pixels were plotted using the reference images and studied to find the range of Y, Cb and Cr values for the face pixels"
      ]
    },
    {
      "cell_type": "code",
      "execution_count": null,
      "metadata": {
        "id": "hF8nN3DoieGM"
      },
      "outputs": [],
      "source": [
        "def YCBR(x_rgb_names) :\n",
        "    x_YCBR = []\n",
        "    url_YCBR=\"/content/drive/MyDrive/2. Relevant Projects/1. Emotions Recognition/YCBR\"\n",
        "    i=0\n",
        "\n",
        "    for path in x_rgb_names :\n",
        "      if (path[72] == 'h') :\n",
        "        print('start')\n",
        "        if os.path.exists(path[76:]) == False :\n",
        "          print((os.path.exists(path[76:])))\n",
        "          img = cv2.imread(path)\n",
        "          image_ycbr = cv2.cvtColor(img, cv2.COLOR_BGR2YCrCb)\n",
        "\n",
        "          #only execute first time to save pictures to drive\n",
        "          cv2.imwrite(url_YCBR+f\"{path[71:]}\",image_ycbr)\n",
        "          i+=1\n",
        "          x_YCBR.append(image_ycbr)\n",
        "          print(i)\n",
        "\n",
        "    return(np.array(x_YCBR))"
      ]
    },
    {
      "cell_type": "code",
      "execution_count": null,
      "metadata": {
        "colab": {
          "base_uri": "https://localhost:8080/",
          "height": 36
        },
        "id": "jto9PJBAxq_h",
        "outputId": "a2c221d0-d28f-473a-8dbf-437f2bba73a9"
      },
      "outputs": [
        {
          "data": {
            "application/vnd.google.colaboratory.intrinsic+json": {
              "type": "string"
            },
            "text/plain": [
              "'Training_42892118.jpg'"
            ]
          },
          "execution_count": 15,
          "metadata": {},
          "output_type": "execute_result"
        }
      ],
      "source": [
        "x_rgb_names[22000][76:]"
      ]
    },
    {
      "cell_type": "code",
      "execution_count": null,
      "metadata": {
        "id": "h_vLS2fsiQpo"
      },
      "outputs": [],
      "source": [
        "x_YCBR = YCBR(x_rgb_names)\n",
        "# happy 5155"
      ]
    },
    {
      "cell_type": "code",
      "execution_count": null,
      "metadata": {
        "id": "BI3u0DO6bQff"
      },
      "outputs": [],
      "source": [
        "x_YCBR.shape"
      ]
    },
    {
      "cell_type": "code",
      "execution_count": null,
      "metadata": {
        "id": "o5yehRg4_GmZ"
      },
      "outputs": [],
      "source": [
        "plot_samples(x_YCBR, y_train, labels_tr, n=50)"
      ]
    },
    {
      "cell_type": "markdown",
      "metadata": {
        "id": "v7xJQEyZvF-D"
      },
      "source": [
        "### 1.2. YES\n",
        "Y represents the luminance channel and E and S denote the chrominance components.\n",
        "The YES space is defined by a linear transformation of the SMPTE (Society of Motion Picture and Television Engineers).\n",
        "\n",
        "It was chosen because :     \n",
        "1. It reduces variations in chrominance due to changes in luminance : in our case, we have a few pictures of dark skinned individuals with very low luminescence, making the face and edges hardly visible for the naked eye, let alone the model.\n",
        "2. It is computationally efficient the E and S channels can be computed from R, G and B by shifting bits rather than multiplication.\n",
        "3. it is free of nonsingularities : divergent values, infinite. (nonlinear spaces may have singularities)\n",
        "\n"
      ]
    },
    {
      "cell_type": "markdown",
      "metadata": {
        "id": "BRb9nkfkvPas"
      },
      "source": [
        "For further information about the YES color space, ref : https://link.springer.com/article/10.1007/s11554-023-01303-w"
      ]
    },
    {
      "cell_type": "code",
      "execution_count": null,
      "metadata": {
        "colab": {
          "base_uri": "https://localhost:8080/"
        },
        "id": "buVXJcvGOgEa",
        "outputId": "85f12396-562d-49b9-b16f-7ae5de462b5a"
      },
      "outputs": [
        {
          "name": "stderr",
          "output_type": "stream",
          "text": [
            "\r  0%|          | 0/7 [00:00<?, ?it/s]"
          ]
        },
        {
          "name": "stdout",
          "output_type": "stream",
          "text": [
            "angry\n"
          ]
        },
        {
          "name": "stderr",
          "output_type": "stream",
          "text": [
            "\r 14%|█▍        | 1/7 [00:39<03:55, 39.29s/it]"
          ]
        },
        {
          "name": "stdout",
          "output_type": "stream",
          "text": [
            "disgust\n"
          ]
        },
        {
          "name": "stderr",
          "output_type": "stream",
          "text": [
            "\r 29%|██▊       | 2/7 [00:43<01:32, 18.46s/it]"
          ]
        },
        {
          "name": "stdout",
          "output_type": "stream",
          "text": [
            "fear\n"
          ]
        },
        {
          "name": "stderr",
          "output_type": "stream",
          "text": [
            "\r 43%|████▎     | 3/7 [01:19<01:46, 26.68s/it]"
          ]
        },
        {
          "name": "stdout",
          "output_type": "stream",
          "text": [
            "happy\n"
          ]
        },
        {
          "name": "stderr",
          "output_type": "stream",
          "text": [
            "\r 57%|█████▋    | 4/7 [02:02<01:39, 33.13s/it]"
          ]
        },
        {
          "name": "stdout",
          "output_type": "stream",
          "text": [
            "neutral\n"
          ]
        },
        {
          "name": "stderr",
          "output_type": "stream",
          "text": [
            "100%|██████████| 7/7 [02:03<00:00, 17.59s/it]"
          ]
        },
        {
          "name": "stdout",
          "output_type": "stream",
          "text": [
            "sad\n",
            "surprise\n"
          ]
        },
        {
          "name": "stderr",
          "output_type": "stream",
          "text": [
            "\n"
          ]
        }
      ],
      "source": [
        "x_ycrb_names = img_path(train_YCBR, img_size=(48,48))"
      ]
    },
    {
      "cell_type": "code",
      "execution_count": null,
      "metadata": {
        "id": "lBO0_Jq8OeHn"
      },
      "outputs": [],
      "source": [
        "# This part will be realized in the next phase of the project\n",
        "\n",
        "def YES(x_ycrb_names) :\n",
        "  url_YES = \"/content/drive/MyDrive/2. Relevant Projects/1. Emotions Recognition/YES\"\n",
        "  '''\n",
        "  Filter_R = [0.253,0.684,0.063]\n",
        "  Filter_G = [0.5,-0.5,0.0]\n",
        "  Filter_B = [0.25,0.25,-0.5]\n",
        "  '''\n",
        "  x_YES = []\n",
        "\n",
        "  for path in x_ycrb_names :\n",
        "    img = cv2.imread(path)\n",
        "\n",
        "    # Extract Y, Cr, and Cb channels\n",
        "    Y, Cr, Cb = cv2.split(img)\n",
        "\n",
        "    # Calculate E and S channels from Cr and Cb\n",
        "    E = 0.5 * Cr - 0.5 * Cb + 128\n",
        "    S = 0.5 * Cr + 0.5 * Cb + 128\n",
        "\n",
        "    print(Y.shape)\n",
        "    print(E.shape)\n",
        "    print(S.shape)\n",
        "\n",
        "    # Merge the Y, E, and S channels to form the YES image\n",
        "    image_YES = cv2.merge(( Y, E, S))\n",
        "    print(image_YES)\n",
        "\n",
        "    #only execute first time to save pictures to drive\n",
        "    cv2.imwrite(url_YES+f\"{path[71:]}\",image_YES)\n",
        "    x_YES.append(image_YES)\n",
        "\n",
        "  return(np.array(x_YES))\n"
      ]
    },
    {
      "cell_type": "code",
      "execution_count": null,
      "metadata": {},
      "outputs": [],
      "source": [
        "x_YES = YES(x_ycrb_names)"
      ]
    },
    {
      "cell_type": "markdown",
      "metadata": {
        "id": "FdsvmP4picKS"
      },
      "source": [
        "## 2. Data augmentation for 'disgust' emotion\n",
        "We will perform image cropping and rotation and similar techniques only on the disgust dataset since it has remarkably less samples than the average of other emotions."
      ]
    },
    {
      "cell_type": "code",
      "execution_count": null,
      "metadata": {
        "id": "j5VpfUdAjaV3"
      },
      "outputs": [],
      "source": [
        "# ImageDataGenerator for flipping\n",
        "datagen = ImageDataGenerator(horizontal_flip=True, vertical_flip=True)\n",
        "\n",
        "datagen = ImageDataGenerator(rotation_range=20, fill_mode='nearest')"
      ]
    }
  ],
  "metadata": {
    "accelerator": "GPU",
    "colab": {
      "provenance": []
    },
    "kaggle": {
      "accelerator": "nvidiaTeslaT4",
      "dataSources": [
        {
          "datasetId": 806819,
          "sourceId": 1382739,
          "sourceType": "datasetVersion"
        }
      ],
      "dockerImageVersionId": 30587,
      "isGpuEnabled": true,
      "isInternetEnabled": true,
      "language": "python",
      "sourceType": "notebook"
    },
    "kernelspec": {
      "display_name": "Python 3",
      "name": "python3"
    },
    "language_info": {
      "codemirror_mode": {
        "name": "ipython",
        "version": 3
      },
      "file_extension": ".py",
      "mimetype": "text/x-python",
      "name": "python",
      "nbconvert_exporter": "python",
      "pygments_lexer": "ipython3",
      "version": "3.10.12"
    }
  },
  "nbformat": 4,
  "nbformat_minor": 0
}
