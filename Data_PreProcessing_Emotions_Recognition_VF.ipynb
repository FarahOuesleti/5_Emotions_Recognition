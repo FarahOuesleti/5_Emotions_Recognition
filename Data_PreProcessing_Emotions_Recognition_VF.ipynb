{
  "cells": [
    {
      "cell_type": "markdown",
      "metadata": {
        "id": "y_W8BBTX2dKJ"
      },
      "source": [
        "This project includes the following phases :\n",
        "- Pre-processing & Data Augmentation\n",
        "- Feature extraction\n",
        "- Classification\n",
        "\n",
        "The dataset used :    \n",
        "- In the wild data provided\n",
        "- Small dataset showcasing micro expressions in high quality : The objective of this addition is not merely having more data to train on, it's mainly to introduce real facial expressions showing micro expressions*1 that would not be visible in the first dataset.\n",
        "\n",
        "1* *Micro expressions* : Facial expressions that last **less than 0.5s** and are therefore hard to detect. They can serve to distiguish between real emotion and fake or lab made expressions.\n"
      ]
    },
    {
      "cell_type": "markdown",
      "metadata": {
        "id": "-vzMDbxW7QcC"
      },
      "source": [
        "#Details :\n",
        "\n",
        "### - Data Augmentation\n",
        "- Color shift\n",
        "  - YCbCr\n",
        "  - YES\n",
        "  --> compare separate training results between (YCbCr - YES - original (greyscale))\n",
        "\n",
        "### - Feature extraction\n",
        "\n",
        "0. Relevant features (Based on Business understanding) :\n",
        "  - mouth ratio to face\n",
        "  - nb of face curves\n",
        "  - curves around eyes\n",
        "  - curves around mouth\n",
        "  - curves around nose\n",
        "  - upper lip position relative to down lip : size of vertical distance between the two (relative to one lip length)\n",
        "  - eyebrows pente relative to horizontal axis\n",
        "\n",
        "\n",
        "1. Edge Detection (for curves)\n",
        "  - Prewitt\n",
        "  - Sobel is to consider\n",
        "\n",
        "2. Filters (Optional part : for optimization)\n",
        "  - Gabor filter\n",
        "  - Local Binary Pattern (LBP)\n",
        "\n",
        "\n",
        "\n",
        "### - Add microexpressions data & perform same pre-processing"
      ]
    },
    {
      "cell_type": "markdown",
      "metadata": {
        "id": "lmgnOCNAdA24"
      },
      "source": [
        "The following choices of techniques adopted in this project (Edge detection filters, noise reducers...) are relative to the Business, in other words;\n",
        "Emotions and facial expressions studies show that :     \n",
        "- vertical wrinkles around the nose, a small upward tilt of the upper lip, small frowning ==> associated with disgust\n",
        "- slight upwaard tilt on the sides of the mouth demonstrated with wrinkles + small wrinkles on the exterior sides of the eyes ==> indcator of genuine happiness.\n",
        "- slight upward tilt on the sides of the mouth demonstrated with wrinkles + various degrees of frowning ==> associated with sadness.\n",
        "- etc."
      ]
    },
    {
      "cell_type": "code",
      "execution_count": null,
      "metadata": {
        "colab": {
          "base_uri": "https://localhost:8080/"
        },
        "id": "bJcY_HlaiPS1",
        "outputId": "843ba89d-97a5-4399-8d19-2c8f1dba3073"
      },
      "outputs": [
        {
          "name": "stdout",
          "output_type": "stream",
          "text": [
            "Python 3.10.12\n"
          ]
        }
      ],
      "source": [
        "!python --version"
      ]
    },
    {
      "cell_type": "code",
      "execution_count": null,
      "metadata": {
        "id": "XS5Kv1yYgiz6"
      },
      "outputs": [],
      "source": [
        "import numpy as np\n",
        "import matplotlib.pyplot as plt\n",
        "import seaborn as sns\n",
        "import tensorflow as tf\n",
        "import pandas as pd\n",
        "import seaborn as sns\n",
        "from scipy import stats\n",
        "import json\n",
        "import ast\n",
        "from sklearn.cluster import KMeans\n",
        "from sklearn.metrics import accuracy_score, confusion_matrix\n",
        "\n",
        "from tqdm import tqdm\n",
        "import itertools\n",
        "\n",
        "import cv2\n",
        "import os\n",
        "from keras.layers import Dropout, BatchNormalization, LeakyReLU, Activation\n"
      ]
    },
    {
      "cell_type": "code",
      "execution_count": null,
      "metadata": {
        "colab": {
          "base_uri": "https://localhost:8080/"
        },
        "id": "JgNaH18KHauO",
        "outputId": "3f4d4e1d-c2a2-4dc3-8d17-3dd04f04c15b"
      },
      "outputs": [
        {
          "output_type": "stream",
          "name": "stdout",
          "text": [
            "[PhysicalDevice(name='/physical_device:GPU:0', device_type='GPU')]\n"
          ]
        }
      ],
      "source": [
        "print(tf.config.list_physical_devices('GPU'))"
      ]
    },
    {
      "cell_type": "code",
      "execution_count": null,
      "metadata": {
        "colab": {
          "base_uri": "https://localhost:8080/"
        },
        "id": "bhAv6akMgofv",
        "outputId": "bb660e39-b995-431a-bb2e-ea5301102a62"
      },
      "outputs": [
        {
          "output_type": "stream",
          "name": "stdout",
          "text": [
            "Mounted at /content/drive\n"
          ]
        }
      ],
      "source": [
        "# This is to be executed when woring with colab with the corresponding url\n",
        "\n",
        "from google.colab import drive\n",
        "drive.mount('/content/drive')\n"
      ]
    },
    {
      "cell_type": "code",
      "execution_count": null,
      "metadata": {
        "id": "uyyii_Nfgoh1"
      },
      "outputs": [],
      "source": [
        "# Main account\n",
        "\n",
        "url = '/content/drive/MyDrive/2. Relevant Projects/1. Emotions Recognition/Dataset'  ## Colab Drive URL\n",
        "url_2 = '/content/drive/MyDrive/2. Relevant Projects/1. Emotions Recognition'\n",
        "#url = '/kaggle/input/ferdata'    ##Kaggle url"
      ]
    },
    {
      "cell_type": "code",
      "source": [
        "# Accounts 2-3-4\n",
        "\n",
        "url = '/content/drive/MyDrive/1. Emotions Recognition/Dataset'\n",
        "url_2 = '/content/drive/MyDrive/1. Emotions Recognition'"
      ],
      "metadata": {
        "id": "DlF3H9S2KZQz"
      },
      "execution_count": null,
      "outputs": []
    },
    {
      "cell_type": "code",
      "execution_count": null,
      "metadata": {
        "id": "VI43B11eAiMz"
      },
      "outputs": [],
      "source": [
        "train_RGB = url_2 + '/RGB'\n",
        "train_YCBR = url_2 + '/YCBR'\n",
        "#X_RGB, y_RGB, _ = load_data(train_RGB)\n"
      ]
    },
    {
      "cell_type": "markdown",
      "metadata": {
        "id": "z34nC1HMgpwz"
      },
      "source": [
        "# 1. Load Data"
      ]
    },
    {
      "cell_type": "code",
      "execution_count": null,
      "metadata": {
        "id": "5GEwqPJR_Meg"
      },
      "outputs": [],
      "source": [
        "train_dir = url +'/train'\n",
        "test_dir = url + '/test'"
      ]
    },
    {
      "cell_type": "markdown",
      "metadata": {
        "id": "eDxf5TO1LGo0"
      },
      "source": [
        "## 1.1. Load Images as np array"
      ]
    },
    {
      "cell_type": "code",
      "execution_count": null,
      "metadata": {
        "id": "onBdHbHstgxK"
      },
      "outputs": [],
      "source": [
        "def load_data(dir_path, img_size=(48,48)):\n",
        "    X = []\n",
        "    y = []\n",
        "    i = 0\n",
        "    labels = dict()\n",
        "    for path in tqdm(sorted(os.listdir(dir_path))):\n",
        "        if not path.startswith('.'):\n",
        "            labels[i] = path\n",
        "            for file in os.listdir(dir_path +'/'+ path):\n",
        "                if not file.startswith('.'):\n",
        "                    img = cv2.imread(dir_path +'/'+ path + '/' + file)\n",
        "                    X.append(img)\n",
        "                    y.append(i)\n",
        "                    i += 1\n",
        "    X = np.array(X)\n",
        "    y = np.array(y)\n",
        "    print(f'{len(X)} images loaded from {dir_path} directory.')\n",
        "    return X, y, labels"
      ]
    },
    {
      "cell_type": "markdown",
      "source": [
        "## 1.2. Load data as np arrays from subdirectory ( of one emotion only )"
      ],
      "metadata": {
        "id": "DRFhnS_tfre0"
      }
    },
    {
      "cell_type": "code",
      "source": [
        "# This is a function that loads data from a sub directory reltive to one emotion\n",
        "# ( purpose : faster loading for testing certain functions later on and to save resources)\n",
        "\n",
        "def load_data_One_Emotion(Sub_dir_path, img_size=(48,48)):\n",
        "    X = []\n",
        "    y = []\n",
        "    i = 0\n",
        "    labels = dict()\n",
        "\n",
        "    for file in os.listdir(Sub_dir_path ):\n",
        "        if not file.startswith('.'):\n",
        "            img = cv2.imread(Sub_dir_path +'/' + file)\n",
        "            X.append(img)\n",
        "            y.append(i)\n",
        "            i += 1\n",
        "    X = np.array(X)\n",
        "    y = np.array(y)\n",
        "    print(f'{len(X)} images loaded from {Sub_dir_path} directory.')\n",
        "    return X, y, labels"
      ],
      "metadata": {
        "id": "Q6wxvXgMVWsi"
      },
      "execution_count": null,
      "outputs": []
    },
    {
      "cell_type": "code",
      "execution_count": null,
      "metadata": {
        "colab": {
          "base_uri": "https://localhost:8080/"
        },
        "id": "0GeGeWMit0EM",
        "outputId": "e81453c2-3fdb-4381-e4b0-d054f8067470"
      },
      "outputs": [
        {
          "output_type": "stream",
          "name": "stdout",
          "text": [
            "436 images loaded from /content/drive/MyDrive/2. Relevant Projects/1. Emotions Recognition/Dataset/train/disgust directory.\n"
          ]
        }
      ],
      "source": [
        "Sub_train_dir = url +'/train/disgust'   # Change emotion according to subdirectory, chosen disgust beacause it's the dataset with the least samples.\n",
        "X_train_Emotion, y_train_Emotion, _ = load_data(Sub_train_dir)"
      ]
    },
    {
      "cell_type": "code",
      "source": [
        "X_train, y_train, labels_tr = load_data(train_dir)"
      ],
      "metadata": {
        "colab": {
          "base_uri": "https://localhost:8080/"
        },
        "id": "XUo-90h2cEGH",
        "outputId": "40611eab-e39d-4c21-8d48-324fbaef58f1"
      },
      "execution_count": null,
      "outputs": [
        {
          "output_type": "stream",
          "name": "stderr",
          "text": [
            "100%|██████████| 7/7 [09:35<00:00, 82.24s/it]"
          ]
        },
        {
          "output_type": "stream",
          "name": "stdout",
          "text": [
            "28779 images loaded from /content/drive/MyDrive/2. Relevant Projects/1. Emotions Recognition/Dataset/train directory.\n"
          ]
        },
        {
          "output_type": "stream",
          "name": "stderr",
          "text": [
            "\n"
          ]
        }
      ]
    },
    {
      "cell_type": "code",
      "execution_count": null,
      "metadata": {
        "id": "TGWe8N4tiPS4"
      },
      "outputs": [],
      "source": [
        "X_test, y_test,labels_ts = load_data(test_dir)"
      ]
    },
    {
      "cell_type": "markdown",
      "metadata": {
        "id": "d1LdP5znVjtU"
      },
      "source": [
        "# 2. Data Visualization"
      ]
    },
    {
      "cell_type": "code",
      "execution_count": null,
      "metadata": {
        "colab": {
          "base_uri": "https://localhost:8080/"
        },
        "id": "VbN05xeZiPS4",
        "outputId": "07c06a35-44eb-4f27-cd5d-b248d1aab1d4"
      },
      "outputs": [
        {
          "data": {
            "text/plain": [
              "{0: 'angry',\n",
              " 4005: 'disgust',\n",
              " 4441: 'fear',\n",
              " 8548: 'happy',\n",
              " 15763: 'neutral',\n",
              " 20738: 'sad',\n",
              " 25588: 'surprise'}"
            ]
          },
          "execution_count": 8,
          "metadata": {},
          "output_type": "execute_result"
        }
      ],
      "source": [
        "labels_tr"
      ]
    },
    {
      "cell_type": "code",
      "execution_count": null,
      "metadata": {
        "id": "V8bwgR0jiPS5"
      },
      "outputs": [],
      "source": [
        "# Function to count values of each emotion in the dataset ( separately for train & test data )\n",
        "\n",
        "def count_values(labels_dict,X_data) :\n",
        "    count = {}\n",
        "    i = 0\n",
        "    L=[]\n",
        "    for key,value in labels_dict.items() :\n",
        "        L.append(key)\n",
        "    L.append(X_data.shape[0])\n",
        "    for value in labels_dict.values() :\n",
        "        count[value] = L[i+1]-L[i]\n",
        "        i+=1\n",
        "    return count"
      ]
    },
    {
      "cell_type": "code",
      "execution_count": null,
      "metadata": {
        "colab": {
          "base_uri": "https://localhost:8080/"
        },
        "id": "_YwtZhiPiPS5",
        "outputId": "5de008e5-f10d-4ae7-bc28-f51c9b4b987a"
      },
      "outputs": [
        {
          "data": {
            "text/plain": [
              "{'angry': 4005,\n",
              " 'disgust': 436,\n",
              " 'fear': 4107,\n",
              " 'happy': 7215,\n",
              " 'neutral': 4975,\n",
              " 'sad': 4850,\n",
              " 'surprise': 3191}"
            ]
          },
          "execution_count": 11,
          "metadata": {},
          "output_type": "execute_result"
        }
      ],
      "source": [
        "Nb_train=count_values(labels_tr,X_train)\n",
        "Nb_train"
      ]
    },
    {
      "cell_type": "markdown",
      "metadata": {
        "id": "L3Z_BiSOglqs"
      },
      "source": [
        "## 2.1. Observation :\n",
        "The data is unbalanced :\n",
        "- disgust training data is 1/10 less than the other emotions' datasets.\n",
        "- Happy has the maximum training data.\n",
        "\n",
        "==> This should cause biased results in identifying those two emotions later in the test set."
      ]
    },
    {
      "cell_type": "code",
      "execution_count": null,
      "metadata": {
        "id": "IJSrtBvfiPS5"
      },
      "outputs": [],
      "source": [
        "Nb_test=count_values(labels_ts,X_test)\n",
        "Nb_test"
      ]
    },
    {
      "cell_type": "code",
      "execution_count": null,
      "metadata": {
        "id": "54JnLrAumPoH"
      },
      "outputs": [],
      "source": [
        "df_tr=pd.DataFrame.from_dict(Nb_train, orient='index')\n",
        "df_tr = df_tr.rename(columns={0: \"Count\"})\n",
        "#df_ts=pd.DataFrame.from_dict(Nb_test, orient='index')\n",
        "#df_ts = df_ts.rename(columns={0: \"Count\"})"
      ]
    },
    {
      "cell_type": "code",
      "execution_count": null,
      "metadata": {
        "colab": {
          "base_uri": "https://localhost:8080/",
          "height": 269
        },
        "id": "YFQUnqTMmSAT",
        "outputId": "7877b692-d503-474f-c780-2689354574b3"
      },
      "outputs": [
        {
          "data": {
            "text/html": [
              "\n",
              "  <div id=\"df-cdd80d38-9720-4f69-8d7f-71c09d4b1f8c\" class=\"colab-df-container\">\n",
              "    <div>\n",
              "<style scoped>\n",
              "    .dataframe tbody tr th:only-of-type {\n",
              "        vertical-align: middle;\n",
              "    }\n",
              "\n",
              "    .dataframe tbody tr th {\n",
              "        vertical-align: top;\n",
              "    }\n",
              "\n",
              "    .dataframe thead th {\n",
              "        text-align: right;\n",
              "    }\n",
              "</style>\n",
              "<table border=\"1\" class=\"dataframe\">\n",
              "  <thead>\n",
              "    <tr style=\"text-align: right;\">\n",
              "      <th></th>\n",
              "      <th>Count</th>\n",
              "    </tr>\n",
              "  </thead>\n",
              "  <tbody>\n",
              "    <tr>\n",
              "      <th>angry</th>\n",
              "      <td>4005</td>\n",
              "    </tr>\n",
              "    <tr>\n",
              "      <th>disgust</th>\n",
              "      <td>436</td>\n",
              "    </tr>\n",
              "    <tr>\n",
              "      <th>fear</th>\n",
              "      <td>4107</td>\n",
              "    </tr>\n",
              "    <tr>\n",
              "      <th>happy</th>\n",
              "      <td>7215</td>\n",
              "    </tr>\n",
              "    <tr>\n",
              "      <th>neutral</th>\n",
              "      <td>4975</td>\n",
              "    </tr>\n",
              "    <tr>\n",
              "      <th>sad</th>\n",
              "      <td>4850</td>\n",
              "    </tr>\n",
              "    <tr>\n",
              "      <th>surprise</th>\n",
              "      <td>3191</td>\n",
              "    </tr>\n",
              "  </tbody>\n",
              "</table>\n",
              "</div>\n",
              "    <div class=\"colab-df-buttons\">\n",
              "\n",
              "  <div class=\"colab-df-container\">\n",
              "    <button class=\"colab-df-convert\" onclick=\"convertToInteractive('df-cdd80d38-9720-4f69-8d7f-71c09d4b1f8c')\"\n",
              "            title=\"Convert this dataframe to an interactive table.\"\n",
              "            style=\"display:none;\">\n",
              "\n",
              "  <svg xmlns=\"http://www.w3.org/2000/svg\" height=\"24px\" viewBox=\"0 -960 960 960\">\n",
              "    <path d=\"M120-120v-720h720v720H120Zm60-500h600v-160H180v160Zm220 220h160v-160H400v160Zm0 220h160v-160H400v160ZM180-400h160v-160H180v160Zm440 0h160v-160H620v160ZM180-180h160v-160H180v160Zm440 0h160v-160H620v160Z\"/>\n",
              "  </svg>\n",
              "    </button>\n",
              "\n",
              "  <style>\n",
              "    .colab-df-container {\n",
              "      display:flex;\n",
              "      gap: 12px;\n",
              "    }\n",
              "\n",
              "    .colab-df-convert {\n",
              "      background-color: #E8F0FE;\n",
              "      border: none;\n",
              "      border-radius: 50%;\n",
              "      cursor: pointer;\n",
              "      display: none;\n",
              "      fill: #1967D2;\n",
              "      height: 32px;\n",
              "      padding: 0 0 0 0;\n",
              "      width: 32px;\n",
              "    }\n",
              "\n",
              "    .colab-df-convert:hover {\n",
              "      background-color: #E2EBFA;\n",
              "      box-shadow: 0px 1px 2px rgba(60, 64, 67, 0.3), 0px 1px 3px 1px rgba(60, 64, 67, 0.15);\n",
              "      fill: #174EA6;\n",
              "    }\n",
              "\n",
              "    .colab-df-buttons div {\n",
              "      margin-bottom: 4px;\n",
              "    }\n",
              "\n",
              "    [theme=dark] .colab-df-convert {\n",
              "      background-color: #3B4455;\n",
              "      fill: #D2E3FC;\n",
              "    }\n",
              "\n",
              "    [theme=dark] .colab-df-convert:hover {\n",
              "      background-color: #434B5C;\n",
              "      box-shadow: 0px 1px 3px 1px rgba(0, 0, 0, 0.15);\n",
              "      filter: drop-shadow(0px 1px 2px rgba(0, 0, 0, 0.3));\n",
              "      fill: #FFFFFF;\n",
              "    }\n",
              "  </style>\n",
              "\n",
              "    <script>\n",
              "      const buttonEl =\n",
              "        document.querySelector('#df-cdd80d38-9720-4f69-8d7f-71c09d4b1f8c button.colab-df-convert');\n",
              "      buttonEl.style.display =\n",
              "        google.colab.kernel.accessAllowed ? 'block' : 'none';\n",
              "\n",
              "      async function convertToInteractive(key) {\n",
              "        const element = document.querySelector('#df-cdd80d38-9720-4f69-8d7f-71c09d4b1f8c');\n",
              "        const dataTable =\n",
              "          await google.colab.kernel.invokeFunction('convertToInteractive',\n",
              "                                                    [key], {});\n",
              "        if (!dataTable) return;\n",
              "\n",
              "        const docLinkHtml = 'Like what you see? Visit the ' +\n",
              "          '<a target=\"_blank\" href=https://colab.research.google.com/notebooks/data_table.ipynb>data table notebook</a>'\n",
              "          + ' to learn more about interactive tables.';\n",
              "        element.innerHTML = '';\n",
              "        dataTable['output_type'] = 'display_data';\n",
              "        await google.colab.output.renderOutput(dataTable, element);\n",
              "        const docLink = document.createElement('div');\n",
              "        docLink.innerHTML = docLinkHtml;\n",
              "        element.appendChild(docLink);\n",
              "      }\n",
              "    </script>\n",
              "  </div>\n",
              "\n",
              "\n",
              "<div id=\"df-bed06e87-0752-4666-9e01-64d2bddecd3d\">\n",
              "  <button class=\"colab-df-quickchart\" onclick=\"quickchart('df-bed06e87-0752-4666-9e01-64d2bddecd3d')\"\n",
              "            title=\"Suggest charts\"\n",
              "            style=\"display:none;\">\n",
              "\n",
              "<svg xmlns=\"http://www.w3.org/2000/svg\" height=\"24px\"viewBox=\"0 0 24 24\"\n",
              "     width=\"24px\">\n",
              "    <g>\n",
              "        <path d=\"M19 3H5c-1.1 0-2 .9-2 2v14c0 1.1.9 2 2 2h14c1.1 0 2-.9 2-2V5c0-1.1-.9-2-2-2zM9 17H7v-7h2v7zm4 0h-2V7h2v10zm4 0h-2v-4h2v4z\"/>\n",
              "    </g>\n",
              "</svg>\n",
              "  </button>\n",
              "\n",
              "<style>\n",
              "  .colab-df-quickchart {\n",
              "      --bg-color: #E8F0FE;\n",
              "      --fill-color: #1967D2;\n",
              "      --hover-bg-color: #E2EBFA;\n",
              "      --hover-fill-color: #174EA6;\n",
              "      --disabled-fill-color: #AAA;\n",
              "      --disabled-bg-color: #DDD;\n",
              "  }\n",
              "\n",
              "  [theme=dark] .colab-df-quickchart {\n",
              "      --bg-color: #3B4455;\n",
              "      --fill-color: #D2E3FC;\n",
              "      --hover-bg-color: #434B5C;\n",
              "      --hover-fill-color: #FFFFFF;\n",
              "      --disabled-bg-color: #3B4455;\n",
              "      --disabled-fill-color: #666;\n",
              "  }\n",
              "\n",
              "  .colab-df-quickchart {\n",
              "    background-color: var(--bg-color);\n",
              "    border: none;\n",
              "    border-radius: 50%;\n",
              "    cursor: pointer;\n",
              "    display: none;\n",
              "    fill: var(--fill-color);\n",
              "    height: 32px;\n",
              "    padding: 0;\n",
              "    width: 32px;\n",
              "  }\n",
              "\n",
              "  .colab-df-quickchart:hover {\n",
              "    background-color: var(--hover-bg-color);\n",
              "    box-shadow: 0 1px 2px rgba(60, 64, 67, 0.3), 0 1px 3px 1px rgba(60, 64, 67, 0.15);\n",
              "    fill: var(--button-hover-fill-color);\n",
              "  }\n",
              "\n",
              "  .colab-df-quickchart-complete:disabled,\n",
              "  .colab-df-quickchart-complete:disabled:hover {\n",
              "    background-color: var(--disabled-bg-color);\n",
              "    fill: var(--disabled-fill-color);\n",
              "    box-shadow: none;\n",
              "  }\n",
              "\n",
              "  .colab-df-spinner {\n",
              "    border: 2px solid var(--fill-color);\n",
              "    border-color: transparent;\n",
              "    border-bottom-color: var(--fill-color);\n",
              "    animation:\n",
              "      spin 1s steps(1) infinite;\n",
              "  }\n",
              "\n",
              "  @keyframes spin {\n",
              "    0% {\n",
              "      border-color: transparent;\n",
              "      border-bottom-color: var(--fill-color);\n",
              "      border-left-color: var(--fill-color);\n",
              "    }\n",
              "    20% {\n",
              "      border-color: transparent;\n",
              "      border-left-color: var(--fill-color);\n",
              "      border-top-color: var(--fill-color);\n",
              "    }\n",
              "    30% {\n",
              "      border-color: transparent;\n",
              "      border-left-color: var(--fill-color);\n",
              "      border-top-color: var(--fill-color);\n",
              "      border-right-color: var(--fill-color);\n",
              "    }\n",
              "    40% {\n",
              "      border-color: transparent;\n",
              "      border-right-color: var(--fill-color);\n",
              "      border-top-color: var(--fill-color);\n",
              "    }\n",
              "    60% {\n",
              "      border-color: transparent;\n",
              "      border-right-color: var(--fill-color);\n",
              "    }\n",
              "    80% {\n",
              "      border-color: transparent;\n",
              "      border-right-color: var(--fill-color);\n",
              "      border-bottom-color: var(--fill-color);\n",
              "    }\n",
              "    90% {\n",
              "      border-color: transparent;\n",
              "      border-bottom-color: var(--fill-color);\n",
              "    }\n",
              "  }\n",
              "</style>\n",
              "\n",
              "  <script>\n",
              "    async function quickchart(key) {\n",
              "      const quickchartButtonEl =\n",
              "        document.querySelector('#' + key + ' button');\n",
              "      quickchartButtonEl.disabled = true;  // To prevent multiple clicks.\n",
              "      quickchartButtonEl.classList.add('colab-df-spinner');\n",
              "      try {\n",
              "        const charts = await google.colab.kernel.invokeFunction(\n",
              "            'suggestCharts', [key], {});\n",
              "      } catch (error) {\n",
              "        console.error('Error during call to suggestCharts:', error);\n",
              "      }\n",
              "      quickchartButtonEl.classList.remove('colab-df-spinner');\n",
              "      quickchartButtonEl.classList.add('colab-df-quickchart-complete');\n",
              "    }\n",
              "    (() => {\n",
              "      let quickchartButtonEl =\n",
              "        document.querySelector('#df-bed06e87-0752-4666-9e01-64d2bddecd3d button');\n",
              "      quickchartButtonEl.style.display =\n",
              "        google.colab.kernel.accessAllowed ? 'block' : 'none';\n",
              "    })();\n",
              "  </script>\n",
              "</div>\n",
              "\n",
              "  <div id=\"id_16060a88-cfbc-4d2a-a5c2-b106f45b283d\">\n",
              "    <style>\n",
              "      .colab-df-generate {\n",
              "        background-color: #E8F0FE;\n",
              "        border: none;\n",
              "        border-radius: 50%;\n",
              "        cursor: pointer;\n",
              "        display: none;\n",
              "        fill: #1967D2;\n",
              "        height: 32px;\n",
              "        padding: 0 0 0 0;\n",
              "        width: 32px;\n",
              "      }\n",
              "\n",
              "      .colab-df-generate:hover {\n",
              "        background-color: #E2EBFA;\n",
              "        box-shadow: 0px 1px 2px rgba(60, 64, 67, 0.3), 0px 1px 3px 1px rgba(60, 64, 67, 0.15);\n",
              "        fill: #174EA6;\n",
              "      }\n",
              "\n",
              "      [theme=dark] .colab-df-generate {\n",
              "        background-color: #3B4455;\n",
              "        fill: #D2E3FC;\n",
              "      }\n",
              "\n",
              "      [theme=dark] .colab-df-generate:hover {\n",
              "        background-color: #434B5C;\n",
              "        box-shadow: 0px 1px 3px 1px rgba(0, 0, 0, 0.15);\n",
              "        filter: drop-shadow(0px 1px 2px rgba(0, 0, 0, 0.3));\n",
              "        fill: #FFFFFF;\n",
              "      }\n",
              "    </style>\n",
              "    <button class=\"colab-df-generate\" onclick=\"generateWithVariable('df_tr')\"\n",
              "            title=\"Generate code using this dataframe.\"\n",
              "            style=\"display:none;\">\n",
              "\n",
              "  <svg xmlns=\"http://www.w3.org/2000/svg\" height=\"24px\"viewBox=\"0 0 24 24\"\n",
              "       width=\"24px\">\n",
              "    <path d=\"M7,19H8.4L18.45,9,17,7.55,7,17.6ZM5,21V16.75L18.45,3.32a2,2,0,0,1,2.83,0l1.4,1.43a1.91,1.91,0,0,1,.58,1.4,1.91,1.91,0,0,1-.58,1.4L9.25,21ZM18.45,9,17,7.55Zm-12,3A5.31,5.31,0,0,0,4.9,8.1,5.31,5.31,0,0,0,1,6.5,5.31,5.31,0,0,0,4.9,4.9,5.31,5.31,0,0,0,6.5,1,5.31,5.31,0,0,0,8.1,4.9,5.31,5.31,0,0,0,12,6.5,5.46,5.46,0,0,0,6.5,12Z\"/>\n",
              "  </svg>\n",
              "    </button>\n",
              "    <script>\n",
              "      (() => {\n",
              "      const buttonEl =\n",
              "        document.querySelector('#id_16060a88-cfbc-4d2a-a5c2-b106f45b283d button.colab-df-generate');\n",
              "      buttonEl.style.display =\n",
              "        google.colab.kernel.accessAllowed ? 'block' : 'none';\n",
              "\n",
              "      buttonEl.onclick = () => {\n",
              "        google.colab.notebook.generateWithVariable('df_tr');\n",
              "      }\n",
              "      })();\n",
              "    </script>\n",
              "  </div>\n",
              "\n",
              "    </div>\n",
              "  </div>\n"
            ],
            "text/plain": [
              "          Count\n",
              "angry      4005\n",
              "disgust     436\n",
              "fear       4107\n",
              "happy      7215\n",
              "neutral    4975\n",
              "sad        4850\n",
              "surprise   3191"
            ]
          },
          "execution_count": 13,
          "metadata": {},
          "output_type": "execute_result"
        }
      ],
      "source": [
        "df_tr"
      ]
    },
    {
      "cell_type": "code",
      "execution_count": null,
      "metadata": {
        "colab": {
          "base_uri": "https://localhost:8080/",
          "height": 269
        },
        "id": "KCDYqXF6mSpy",
        "outputId": "c4d171f5-847e-4820-98b7-62ab92325d58"
      },
      "outputs": [
        {
          "data": {
            "text/html": [
              "\n",
              "  <div id=\"df-4d704846-edcc-4afe-8785-f9ea4de93460\" class=\"colab-df-container\">\n",
              "    <div>\n",
              "<style scoped>\n",
              "    .dataframe tbody tr th:only-of-type {\n",
              "        vertical-align: middle;\n",
              "    }\n",
              "\n",
              "    .dataframe tbody tr th {\n",
              "        vertical-align: top;\n",
              "    }\n",
              "\n",
              "    .dataframe thead th {\n",
              "        text-align: right;\n",
              "    }\n",
              "</style>\n",
              "<table border=\"1\" class=\"dataframe\">\n",
              "  <thead>\n",
              "    <tr style=\"text-align: right;\">\n",
              "      <th></th>\n",
              "      <th>Count</th>\n",
              "    </tr>\n",
              "  </thead>\n",
              "  <tbody>\n",
              "    <tr>\n",
              "      <th>angry</th>\n",
              "      <td>958</td>\n",
              "    </tr>\n",
              "    <tr>\n",
              "      <th>disgust</th>\n",
              "      <td>111</td>\n",
              "    </tr>\n",
              "    <tr>\n",
              "      <th>fear</th>\n",
              "      <td>1044</td>\n",
              "    </tr>\n",
              "    <tr>\n",
              "      <th>happy</th>\n",
              "      <td>1774</td>\n",
              "    </tr>\n",
              "    <tr>\n",
              "      <th>neutral</th>\n",
              "      <td>1243</td>\n",
              "    </tr>\n",
              "    <tr>\n",
              "      <th>sad</th>\n",
              "      <td>1247</td>\n",
              "    </tr>\n",
              "    <tr>\n",
              "      <th>surprise</th>\n",
              "      <td>831</td>\n",
              "    </tr>\n",
              "  </tbody>\n",
              "</table>\n",
              "</div>\n",
              "    <div class=\"colab-df-buttons\">\n",
              "\n",
              "  <div class=\"colab-df-container\">\n",
              "    <button class=\"colab-df-convert\" onclick=\"convertToInteractive('df-4d704846-edcc-4afe-8785-f9ea4de93460')\"\n",
              "            title=\"Convert this dataframe to an interactive table.\"\n",
              "            style=\"display:none;\">\n",
              "\n",
              "  <svg xmlns=\"http://www.w3.org/2000/svg\" height=\"24px\" viewBox=\"0 -960 960 960\">\n",
              "    <path d=\"M120-120v-720h720v720H120Zm60-500h600v-160H180v160Zm220 220h160v-160H400v160Zm0 220h160v-160H400v160ZM180-400h160v-160H180v160Zm440 0h160v-160H620v160ZM180-180h160v-160H180v160Zm440 0h160v-160H620v160Z\"/>\n",
              "  </svg>\n",
              "    </button>\n",
              "\n",
              "  <style>\n",
              "    .colab-df-container {\n",
              "      display:flex;\n",
              "      gap: 12px;\n",
              "    }\n",
              "\n",
              "    .colab-df-convert {\n",
              "      background-color: #E8F0FE;\n",
              "      border: none;\n",
              "      border-radius: 50%;\n",
              "      cursor: pointer;\n",
              "      display: none;\n",
              "      fill: #1967D2;\n",
              "      height: 32px;\n",
              "      padding: 0 0 0 0;\n",
              "      width: 32px;\n",
              "    }\n",
              "\n",
              "    .colab-df-convert:hover {\n",
              "      background-color: #E2EBFA;\n",
              "      box-shadow: 0px 1px 2px rgba(60, 64, 67, 0.3), 0px 1px 3px 1px rgba(60, 64, 67, 0.15);\n",
              "      fill: #174EA6;\n",
              "    }\n",
              "\n",
              "    .colab-df-buttons div {\n",
              "      margin-bottom: 4px;\n",
              "    }\n",
              "\n",
              "    [theme=dark] .colab-df-convert {\n",
              "      background-color: #3B4455;\n",
              "      fill: #D2E3FC;\n",
              "    }\n",
              "\n",
              "    [theme=dark] .colab-df-convert:hover {\n",
              "      background-color: #434B5C;\n",
              "      box-shadow: 0px 1px 3px 1px rgba(0, 0, 0, 0.15);\n",
              "      filter: drop-shadow(0px 1px 2px rgba(0, 0, 0, 0.3));\n",
              "      fill: #FFFFFF;\n",
              "    }\n",
              "  </style>\n",
              "\n",
              "    <script>\n",
              "      const buttonEl =\n",
              "        document.querySelector('#df-4d704846-edcc-4afe-8785-f9ea4de93460 button.colab-df-convert');\n",
              "      buttonEl.style.display =\n",
              "        google.colab.kernel.accessAllowed ? 'block' : 'none';\n",
              "\n",
              "      async function convertToInteractive(key) {\n",
              "        const element = document.querySelector('#df-4d704846-edcc-4afe-8785-f9ea4de93460');\n",
              "        const dataTable =\n",
              "          await google.colab.kernel.invokeFunction('convertToInteractive',\n",
              "                                                    [key], {});\n",
              "        if (!dataTable) return;\n",
              "\n",
              "        const docLinkHtml = 'Like what you see? Visit the ' +\n",
              "          '<a target=\"_blank\" href=https://colab.research.google.com/notebooks/data_table.ipynb>data table notebook</a>'\n",
              "          + ' to learn more about interactive tables.';\n",
              "        element.innerHTML = '';\n",
              "        dataTable['output_type'] = 'display_data';\n",
              "        await google.colab.output.renderOutput(dataTable, element);\n",
              "        const docLink = document.createElement('div');\n",
              "        docLink.innerHTML = docLinkHtml;\n",
              "        element.appendChild(docLink);\n",
              "      }\n",
              "    </script>\n",
              "  </div>\n",
              "\n",
              "\n",
              "<div id=\"df-f3f8fe68-f569-487e-ab24-5abd844f1448\">\n",
              "  <button class=\"colab-df-quickchart\" onclick=\"quickchart('df-f3f8fe68-f569-487e-ab24-5abd844f1448')\"\n",
              "            title=\"Suggest charts\"\n",
              "            style=\"display:none;\">\n",
              "\n",
              "<svg xmlns=\"http://www.w3.org/2000/svg\" height=\"24px\"viewBox=\"0 0 24 24\"\n",
              "     width=\"24px\">\n",
              "    <g>\n",
              "        <path d=\"M19 3H5c-1.1 0-2 .9-2 2v14c0 1.1.9 2 2 2h14c1.1 0 2-.9 2-2V5c0-1.1-.9-2-2-2zM9 17H7v-7h2v7zm4 0h-2V7h2v10zm4 0h-2v-4h2v4z\"/>\n",
              "    </g>\n",
              "</svg>\n",
              "  </button>\n",
              "\n",
              "<style>\n",
              "  .colab-df-quickchart {\n",
              "      --bg-color: #E8F0FE;\n",
              "      --fill-color: #1967D2;\n",
              "      --hover-bg-color: #E2EBFA;\n",
              "      --hover-fill-color: #174EA6;\n",
              "      --disabled-fill-color: #AAA;\n",
              "      --disabled-bg-color: #DDD;\n",
              "  }\n",
              "\n",
              "  [theme=dark] .colab-df-quickchart {\n",
              "      --bg-color: #3B4455;\n",
              "      --fill-color: #D2E3FC;\n",
              "      --hover-bg-color: #434B5C;\n",
              "      --hover-fill-color: #FFFFFF;\n",
              "      --disabled-bg-color: #3B4455;\n",
              "      --disabled-fill-color: #666;\n",
              "  }\n",
              "\n",
              "  .colab-df-quickchart {\n",
              "    background-color: var(--bg-color);\n",
              "    border: none;\n",
              "    border-radius: 50%;\n",
              "    cursor: pointer;\n",
              "    display: none;\n",
              "    fill: var(--fill-color);\n",
              "    height: 32px;\n",
              "    padding: 0;\n",
              "    width: 32px;\n",
              "  }\n",
              "\n",
              "  .colab-df-quickchart:hover {\n",
              "    background-color: var(--hover-bg-color);\n",
              "    box-shadow: 0 1px 2px rgba(60, 64, 67, 0.3), 0 1px 3px 1px rgba(60, 64, 67, 0.15);\n",
              "    fill: var(--button-hover-fill-color);\n",
              "  }\n",
              "\n",
              "  .colab-df-quickchart-complete:disabled,\n",
              "  .colab-df-quickchart-complete:disabled:hover {\n",
              "    background-color: var(--disabled-bg-color);\n",
              "    fill: var(--disabled-fill-color);\n",
              "    box-shadow: none;\n",
              "  }\n",
              "\n",
              "  .colab-df-spinner {\n",
              "    border: 2px solid var(--fill-color);\n",
              "    border-color: transparent;\n",
              "    border-bottom-color: var(--fill-color);\n",
              "    animation:\n",
              "      spin 1s steps(1) infinite;\n",
              "  }\n",
              "\n",
              "  @keyframes spin {\n",
              "    0% {\n",
              "      border-color: transparent;\n",
              "      border-bottom-color: var(--fill-color);\n",
              "      border-left-color: var(--fill-color);\n",
              "    }\n",
              "    20% {\n",
              "      border-color: transparent;\n",
              "      border-left-color: var(--fill-color);\n",
              "      border-top-color: var(--fill-color);\n",
              "    }\n",
              "    30% {\n",
              "      border-color: transparent;\n",
              "      border-left-color: var(--fill-color);\n",
              "      border-top-color: var(--fill-color);\n",
              "      border-right-color: var(--fill-color);\n",
              "    }\n",
              "    40% {\n",
              "      border-color: transparent;\n",
              "      border-right-color: var(--fill-color);\n",
              "      border-top-color: var(--fill-color);\n",
              "    }\n",
              "    60% {\n",
              "      border-color: transparent;\n",
              "      border-right-color: var(--fill-color);\n",
              "    }\n",
              "    80% {\n",
              "      border-color: transparent;\n",
              "      border-right-color: var(--fill-color);\n",
              "      border-bottom-color: var(--fill-color);\n",
              "    }\n",
              "    90% {\n",
              "      border-color: transparent;\n",
              "      border-bottom-color: var(--fill-color);\n",
              "    }\n",
              "  }\n",
              "</style>\n",
              "\n",
              "  <script>\n",
              "    async function quickchart(key) {\n",
              "      const quickchartButtonEl =\n",
              "        document.querySelector('#' + key + ' button');\n",
              "      quickchartButtonEl.disabled = true;  // To prevent multiple clicks.\n",
              "      quickchartButtonEl.classList.add('colab-df-spinner');\n",
              "      try {\n",
              "        const charts = await google.colab.kernel.invokeFunction(\n",
              "            'suggestCharts', [key], {});\n",
              "      } catch (error) {\n",
              "        console.error('Error during call to suggestCharts:', error);\n",
              "      }\n",
              "      quickchartButtonEl.classList.remove('colab-df-spinner');\n",
              "      quickchartButtonEl.classList.add('colab-df-quickchart-complete');\n",
              "    }\n",
              "    (() => {\n",
              "      let quickchartButtonEl =\n",
              "        document.querySelector('#df-f3f8fe68-f569-487e-ab24-5abd844f1448 button');\n",
              "      quickchartButtonEl.style.display =\n",
              "        google.colab.kernel.accessAllowed ? 'block' : 'none';\n",
              "    })();\n",
              "  </script>\n",
              "</div>\n",
              "\n",
              "  <div id=\"id_1a0d200f-2c77-4237-83a8-950559fe0e34\">\n",
              "    <style>\n",
              "      .colab-df-generate {\n",
              "        background-color: #E8F0FE;\n",
              "        border: none;\n",
              "        border-radius: 50%;\n",
              "        cursor: pointer;\n",
              "        display: none;\n",
              "        fill: #1967D2;\n",
              "        height: 32px;\n",
              "        padding: 0 0 0 0;\n",
              "        width: 32px;\n",
              "      }\n",
              "\n",
              "      .colab-df-generate:hover {\n",
              "        background-color: #E2EBFA;\n",
              "        box-shadow: 0px 1px 2px rgba(60, 64, 67, 0.3), 0px 1px 3px 1px rgba(60, 64, 67, 0.15);\n",
              "        fill: #174EA6;\n",
              "      }\n",
              "\n",
              "      [theme=dark] .colab-df-generate {\n",
              "        background-color: #3B4455;\n",
              "        fill: #D2E3FC;\n",
              "      }\n",
              "\n",
              "      [theme=dark] .colab-df-generate:hover {\n",
              "        background-color: #434B5C;\n",
              "        box-shadow: 0px 1px 3px 1px rgba(0, 0, 0, 0.15);\n",
              "        filter: drop-shadow(0px 1px 2px rgba(0, 0, 0, 0.3));\n",
              "        fill: #FFFFFF;\n",
              "      }\n",
              "    </style>\n",
              "    <button class=\"colab-df-generate\" onclick=\"generateWithVariable('df_ts')\"\n",
              "            title=\"Generate code using this dataframe.\"\n",
              "            style=\"display:none;\">\n",
              "\n",
              "  <svg xmlns=\"http://www.w3.org/2000/svg\" height=\"24px\"viewBox=\"0 0 24 24\"\n",
              "       width=\"24px\">\n",
              "    <path d=\"M7,19H8.4L18.45,9,17,7.55,7,17.6ZM5,21V16.75L18.45,3.32a2,2,0,0,1,2.83,0l1.4,1.43a1.91,1.91,0,0,1,.58,1.4,1.91,1.91,0,0,1-.58,1.4L9.25,21ZM18.45,9,17,7.55Zm-12,3A5.31,5.31,0,0,0,4.9,8.1,5.31,5.31,0,0,0,1,6.5,5.31,5.31,0,0,0,4.9,4.9,5.31,5.31,0,0,0,6.5,1,5.31,5.31,0,0,0,8.1,4.9,5.31,5.31,0,0,0,12,6.5,5.46,5.46,0,0,0,6.5,12Z\"/>\n",
              "  </svg>\n",
              "    </button>\n",
              "    <script>\n",
              "      (() => {\n",
              "      const buttonEl =\n",
              "        document.querySelector('#id_1a0d200f-2c77-4237-83a8-950559fe0e34 button.colab-df-generate');\n",
              "      buttonEl.style.display =\n",
              "        google.colab.kernel.accessAllowed ? 'block' : 'none';\n",
              "\n",
              "      buttonEl.onclick = () => {\n",
              "        google.colab.notebook.generateWithVariable('df_ts');\n",
              "      }\n",
              "      })();\n",
              "    </script>\n",
              "  </div>\n",
              "\n",
              "    </div>\n",
              "  </div>\n"
            ],
            "text/plain": [
              "          Count\n",
              "angry       958\n",
              "disgust     111\n",
              "fear       1044\n",
              "happy      1774\n",
              "neutral    1243\n",
              "sad        1247\n",
              "surprise    831"
            ]
          },
          "execution_count": 56,
          "metadata": {},
          "output_type": "execute_result"
        }
      ],
      "source": [
        "df_ts"
      ]
    },
    {
      "cell_type": "code",
      "execution_count": null,
      "metadata": {
        "colab": {
          "base_uri": "https://localhost:8080/"
        },
        "id": "5MtkmQF8nNXk",
        "outputId": "09bdced3-3a6a-4377-e5c0-57e684770b25"
      },
      "outputs": [
        {
          "data": {
            "text/plain": [
              "angry        958\n",
              "disgust      111\n",
              "fear        1044\n",
              "happy       1774\n",
              "neutral     1243\n",
              "sad         1247\n",
              "surprise     831\n",
              "Name: Count, dtype: int64"
            ]
          },
          "execution_count": 16,
          "metadata": {},
          "output_type": "execute_result"
        }
      ],
      "source": [
        "df_ts.iloc[:, 0]"
      ]
    },
    {
      "cell_type": "markdown",
      "source": [
        "## 2.2. Visualizing examples"
      ],
      "metadata": {
        "id": "5SujItDKgCEW"
      }
    },
    {
      "cell_type": "code",
      "execution_count": null,
      "metadata": {
        "colab": {
          "base_uri": "https://localhost:8080/",
          "height": 540
        },
        "id": "9g-i8AD2VmWE",
        "outputId": "c411579f-a2e7-4656-a31b-ed8c2bf29d80"
      },
      "outputs": [
        {
          "name": "stdout",
          "output_type": "stream",
          "text": [
            "28000\n"
          ]
        },
        {
          "data": {
            "image/png": "[encoded data removed]",
            "text/plain": [
              "<Figure size 1500x600 with 1 Axes>"
            ]
          },
          "metadata": {},
          "output_type": "display_data"
        }
      ],
      "source": [
        "# Visualiizing one specific picture by index\n",
        "plt.figure(figsize=(15,6))\n",
        "plt.imshow(X_train[28000])\n",
        "print(y_train[28000])"
      ]
    },
    {
      "cell_type": "code",
      "execution_count": null,
      "metadata": {
        "colab": {
          "base_uri": "https://localhost:8080/"
        },
        "id": "fX_C0VsrqIBb",
        "outputId": "13720855-0bfb-45fc-a75f-5c8888daafc6"
      },
      "outputs": [
        {
          "data": {
            "text/plain": [
              "{0: 'angry',\n",
              " 4005: 'disgust',\n",
              " 4441: 'fear',\n",
              " 8548: 'happy',\n",
              " 15763: 'neutral',\n",
              " 20738: 'sad',\n",
              " 25588: 'surprise'}"
            ]
          },
          "execution_count": 18,
          "metadata": {},
          "output_type": "execute_result"
        }
      ],
      "source": [
        "labels_tr"
      ]
    },
    {
      "cell_type": "code",
      "execution_count": null,
      "metadata": {
        "id": "2JRYH2okYAyc"
      },
      "outputs": [],
      "source": [
        "# This functions plots a set of pictures from the dataset with their label, it plots 50 pictures by default\n",
        "\n",
        "def plot_samples(X, y, labels_dict, n=50):\n",
        "    \"\"\"\n",
        "    Creates a gridplot for desired number of images (n) from the specified set\n",
        "    \"\"\"\n",
        "    for index in range(len(labels_dict)):\n",
        "        imgs = X[np.argwhere(y == index)][:n]\n",
        "        j = 10\n",
        "        i = int(n/j)\n",
        "\n",
        "        plt.figure(figsize=(15,6))\n",
        "        c = 1\n",
        "        for img in imgs:\n",
        "            plt.subplot(i,j,c)\n",
        "            plt.imshow(img[0])\n",
        "\n",
        "            plt.xticks([])\n",
        "            plt.yticks([])\n",
        "            c += 1\n",
        "        plt.suptitle('Emotion: {}'.format(labels_dict[index]))\n",
        "        plt.show()"
      ]
    },
    {
      "cell_type": "code",
      "execution_count": null,
      "metadata": {
        "colab": {
          "base_uri": "https://localhost:8080/"
        },
        "id": "Ve6cdpvSPMI7",
        "outputId": "74c61930-005d-4548-e090-ef8e3a9e567b"
      },
      "outputs": [
        {
          "output_type": "execute_result",
          "data": {
            "text/plain": [
              "array([    0,     1,     2, ..., 28776, 28777, 28778])"
            ]
          },
          "metadata": {},
          "execution_count": 15
        }
      ],
      "source": [
        "len(labels_tr)\n",
        "y_train"
      ]
    },
    {
      "cell_type": "code",
      "execution_count": null,
      "metadata": {
        "id": "JuF6f2grKXHx"
      },
      "outputs": [],
      "source": [
        "plot_samples(X_train, y_train, labels_tr, n=50)"
      ]
    },
    {
      "cell_type": "markdown",
      "metadata": {
        "id": "0MPhDw2Jh1Am"
      },
      "source": [
        "# 3. Data Preprocessing"
      ]
    },
    {
      "cell_type": "markdown",
      "metadata": {
        "id": "LGpkw_4hio9R"
      },
      "source": [
        "## 3.1. Normalization"
      ]
    },
    {
      "cell_type": "code",
      "execution_count": null,
      "metadata": {
        "id": "OzPb7aRbiuen"
      },
      "outputs": [],
      "source": [
        "X_train= X_train/255.\n",
        "#X_test = X_test/255."
      ]
    },
    {
      "cell_type": "markdown",
      "metadata": {
        "id": "f1dNidnhfVsd"
      },
      "source": [
        "## 3.2. Noise reduction"
      ]
    },
    {
      "cell_type": "markdown",
      "metadata": {
        "id": "_crjx75nqA7k"
      },
      "source": [
        "### 3.2.1 Image path generation"
      ]
    },
    {
      "cell_type": "code",
      "execution_count": null,
      "metadata": {
        "id": "92DokNdiBGSp"
      },
      "outputs": [],
      "source": [
        "def img_path(dir_path, img_size=(48,48)) : # returns an array of image paths\n",
        "    X_img_names = []\n",
        "    labels = dict()\n",
        "    for path in tqdm(sorted(os.listdir(dir_path))):\n",
        "        print(path)\n",
        "        if not path.startswith('.'):\n",
        "              for file in os.listdir(dir_path +'/'+ path):\n",
        "                if not file.startswith('.'):\n",
        "                    X_img_names.append(dir_path +'/'+ path + '/' + file)\n",
        "\n",
        "    X_img_names = np.array(X_img_names)\n",
        "    return X_img_names"
      ]
    },
    {
      "cell_type": "code",
      "execution_count": null,
      "metadata": {
        "id": "nJIlQJh4CmBP",
        "colab": {
          "base_uri": "https://localhost:8080/"
        },
        "outputId": "8e916628-34fa-4ce3-b901-e16deff05ac9"
      },
      "outputs": [
        {
          "output_type": "stream",
          "name": "stderr",
          "text": [
            "\r  0%|          | 0/7 [00:00<?, ?it/s]"
          ]
        },
        {
          "output_type": "stream",
          "name": "stdout",
          "text": [
            "angry\n"
          ]
        },
        {
          "output_type": "stream",
          "name": "stderr",
          "text": [
            "\r 14%|█▍        | 1/7 [00:42<04:16, 42.70s/it]"
          ]
        },
        {
          "output_type": "stream",
          "name": "stdout",
          "text": [
            "disgust\n",
            "fear\n"
          ]
        },
        {
          "output_type": "stream",
          "name": "stderr",
          "text": [
            "\r 43%|████▎     | 3/7 [00:44<00:46, 11.62s/it]"
          ]
        },
        {
          "output_type": "stream",
          "name": "stdout",
          "text": [
            "happy\n"
          ]
        },
        {
          "output_type": "stream",
          "name": "stderr",
          "text": [
            " 71%|███████▏  | 5/7 [01:03<00:18,  9.49s/it]"
          ]
        },
        {
          "output_type": "stream",
          "name": "stdout",
          "text": [
            "neutral\n",
            "sad\n"
          ]
        },
        {
          "output_type": "stream",
          "name": "stderr",
          "text": [
            "100%|██████████| 7/7 [01:19<00:00, 11.33s/it]"
          ]
        },
        {
          "output_type": "stream",
          "name": "stdout",
          "text": [
            "surprise\n"
          ]
        },
        {
          "output_type": "stream",
          "name": "stderr",
          "text": [
            "\n"
          ]
        }
      ],
      "source": [
        "X_img_names = img_path(train_dir, img_size=(48,48))"
      ]
    },
    {
      "cell_type": "markdown",
      "metadata": {
        "id": "kpuY6iFcJwOA"
      },
      "source": [
        "### 3.2.2. Gaussian filter\n",
        "**The Gaussian filter was chosen, because :**\n",
        "\n",
        "For every pixel, it gives maximum weight to the pixel at hand, and exponentially decaying weights for surrounding values according to how far they are from the central pixel being treated,\n",
        "which is a very logical way of smoothing out the pictures without creating extremes or associating non representative values to a pixel. (unlike averaging out or taking the maximum value)."
      ]
    },
    {
      "cell_type": "code",
      "execution_count": null,
      "metadata": {
        "id": "SLUOZMXxqFn1"
      },
      "outputs": [],
      "source": [
        "def Gaussian_filter(X_img_names) : # returns array of Gaussian filtered images and saves them to a designated drive folder\n",
        "    X_filtered = []\n",
        "    x_Gauss_names = []\n",
        "    url_Gauss_img=\"/content/drive/MyDrive/2. Relevant Projects/1. Emotions Recognition/Gauss\"\n",
        "\n",
        "    for path in X_img_names :\n",
        "      img = cv2.imread(path)\n",
        "      dst = cv2.GaussianBlur(img,(3,3),cv2.BORDER_DEFAULT)\n",
        "\n",
        "      #only execute first time to save pictures to drive\n",
        "\n",
        "      cv2.imwrite(url_Gauss_img+f\"{path[81:]}\",dst)\n",
        "\n",
        "      #X_filtered.append(dst)\n",
        "\n",
        "    #X_filtered = np.array(X_filtered)\n",
        "    #return X_filtered\n"
      ]
    },
    {
      "cell_type": "code",
      "execution_count": null,
      "metadata": {
        "colab": {
          "base_uri": "https://localhost:8080/",
          "height": 36
        },
        "id": "6BgtMQwCt6f2",
        "outputId": "6f1a4d0f-c7d5-43cf-c4c5-c3c66fff3036"
      },
      "outputs": [
        {
          "data": {
            "application/vnd.google.colaboratory.intrinsic+json": {
              "type": "string"
            },
            "text/plain": [
              "'/fear/Training_76291570.jpg'"
            ]
          },
          "execution_count": 15,
          "metadata": {},
          "output_type": "execute_result"
        }
      ],
      "source": [
        "X_img_names[4700][81:]"
      ]
    },
    {
      "cell_type": "code",
      "execution_count": null,
      "metadata": {
        "id": "N2ReGgEPiqQv"
      },
      "outputs": [],
      "source": [
        "#x_filtered_Gauss =\n",
        "Gaussian_filter(X_img_names)"
      ]
    },
    {
      "cell_type": "code",
      "execution_count": null,
      "metadata": {
        "id": "9Run2KGxJ_jG"
      },
      "outputs": [],
      "source": [
        "plot_samples(x_filtered_Gauss, y_train, labels_tr, n=50)"
      ]
    },
    {
      "cell_type": "code",
      "execution_count": null,
      "metadata": {
        "id": "Av8X0BaDC85k"
      },
      "outputs": [],
      "source": [
        "# Show one specific example by index\n",
        "'''\n",
        "plt.figure(figsize=(15,6))\n",
        "plt.imshow(x_filtered_Gauss[5000])\n",
        "plt.imshow(X_train[5000])\n",
        "'''\n"
      ]
    },
    {
      "cell_type": "markdown",
      "metadata": {
        "id": "Hw6Lgc3GevVa"
      },
      "source": [
        "## 3.3. Feature Extraction : Edge Detection\n",
        "\n",
        "2 types of methods exist :\n",
        "- **The appearance feature extraction methods** : *Gabor filter , Local Binary Pattern (LBP) , Histogram of Oriented Gradients(HOG)*\n",
        "are applied on the totality of the face image.\n",
        "- **The geometric feature-based methods** : commonly exploit landmark points in order to calculate geometric distances between face regions.\n",
        "\n",
        "\n",
        "  --> Research has concluded that **appearance feature-based techniques** achieved better results in terms of accuracy than geometric methods, therfore, we will adopt the first type methods.\n",
        "\n",
        "  -------------------------"
      ]
    },
    {
      "cell_type": "markdown",
      "metadata": {
        "id": "szQbFbWjXu1G"
      },
      "source": [
        "### **Edge Detection :**\n",
        "Among existing edge detection algorithms, we find canny, sobel, Scharr, Prewitt ...\n",
        "These operators have been discarded for the following reasons :\n",
        "- **Canny** : it only keeps sharp edges and thins down the result, which won't work well in our case since the pictures are low quality and the wrinkles won't be that visible as opposed to more contrasted pixels (eyes and mouth relative to face will be the most contrasted).\n",
        "- **Sobel** : Sobel is usually used on RGB colors and performs grayscaling, whereas our dataset is already in grayscale, further grayscaling it will reduce contrast.\n",
        "\n",
        "=> Chosen operator : **Prewitt** : it avoids all the previous inadequecies, and includes a GaussBlurring effect.\n",
        "Another considered operator : **Scharr**"
      ]
    },
    {
      "cell_type": "markdown",
      "metadata": {
        "id": "o-VqNzdWijmj"
      },
      "source": [
        "- **Horizontal Edges** : Mouth - Eyes related\n",
        "- **Vertical Edges** : Nose around wrinkles : (indicator of disgust)"
      ]
    },
    {
      "cell_type": "code",
      "execution_count": null,
      "metadata": {
        "id": "6EVhZXG1yT9G"
      },
      "outputs": [],
      "source": [
        "def Prewitt(X_img_names) :\n",
        "  X_Prewitt = []\n",
        "\n",
        "  #when saving to drive on colab\n",
        "  url_edge=\"/content/drive/MyDrive/1. Emotions Recognition/Edge_Prewitt/\"\n",
        "  kernelx = np.array([[-1,0,1],[-1,0,1],[-1,0,1]]) # filter to detect the vertical edges\n",
        "  kernely = np.array([[1,1,1],[0,0,0],[-1,-1,-1]]) # filter to detect the horizontal edges\n",
        "  i=0\n",
        "  for path in X_img_names :\n",
        "    img = cv2.imread(path)\n",
        "    img = img/255\n",
        "    prewitt_vertical = cv2.filter2D(src=img, ddepth= -1, kernel=kernelx)\n",
        "    prewitt_horizontal = cv2.filter2D(src=img, ddepth= -1, kernel=kernely)\n",
        "    edged_img = np.sqrt(prewitt_vertical**2 + prewitt_horizontal**2).astype(np.uint8)\n",
        "\n",
        "    # Normalize the magnitude to 0-255\n",
        "    edged_img = cv2.normalize(edged_img, None, 0, 255, cv2.NORM_MINMAX).astype(np.uint8)\n",
        "\n",
        "    #only execute first time to save pictures to drive\n",
        "    cv2.imwrite(url_edge+f\"{path[61:]}\",edged_img)\n",
        "    i+=1\n",
        "    print(i,' done')\n",
        "    X_Prewitt.append(edged_img)\n",
        "\n",
        "  return np.array(X_Prewitt)"
      ]
    },
    {
      "cell_type": "code",
      "source": [
        "X_Prewitt = Prewitt(X_img_names)"
      ],
      "metadata": {
        "id": "bBLMtSRoXa-I"
      },
      "execution_count": null,
      "outputs": []
    },
    {
      "cell_type": "code",
      "source": [
        "X_Prewitt"
      ],
      "metadata": {
        "colab": {
          "base_uri": "https://localhost:8080/"
        },
        "id": "5kvbYmK4f2Po",
        "outputId": "978b30b4-3ed4-47be-ea77-544c1a6c756a"
      },
      "execution_count": null,
      "outputs": [
        {
          "output_type": "execute_result",
          "data": {
            "text/plain": [
              "array([], dtype=float64)"
            ]
          },
          "metadata": {},
          "execution_count": 16
        }
      ]
    },
    {
      "cell_type": "code",
      "execution_count": null,
      "metadata": {
        "id": "0iXWlLDTUy3e"
      },
      "outputs": [],
      "source": [
        "# Visualiizing one specific picture by index\n",
        "plt.figure(figsize=(15,6))\n",
        "plt.imshow(X_Prewitt[5])\n",
        "print(y_train[5])"
      ]
    },
    {
      "cell_type": "code",
      "execution_count": null,
      "metadata": {
        "id": "oQYFrQ0-WOT-"
      },
      "outputs": [],
      "source": [
        "plot_samples(X_Prewitt, y_train, labels_tr, n=50)"
      ]
    },
    {
      "cell_type": "code",
      "execution_count": null,
      "metadata": {
        "id": "qAr3s-u12h74"
      },
      "outputs": [],
      "source": [
        "#plot_samples(X_Prewitt_full, y_train, labels_tr, n=50)"
      ]
    },
    {
      "cell_type": "markdown",
      "metadata": {
        "id": "sv1E9DdFfME8"
      },
      "source": [
        "# II. Data Augmentation"
      ]
    },
    {
      "cell_type": "markdown",
      "metadata": {
        "id": "WgSVcCii3Isu"
      },
      "source": [
        "## Approach :\n",
        "1. We will create an RGB version of the original dataset (the RGB images won't be used for training).\n",
        "2. The RGB version will be used as an intermediary tool to create the YCbCr dataset and the YES dataset :\n",
        "- YCbCr : a default function is used to go from RGB to YCbCr\n",
        "- YES : a function is implemented to go from RGB to YES according to transformation matrix.\n",
        "3. The test results of the three color spaces will be compared.\n",
        "4. All the data generated after testing and benchmarking, will be used together in phases for training as an attempt to deliver better test results.\n"
      ]
    },
    {
      "cell_type": "markdown",
      "metadata": {
        "id": "OuiE8sUb5Cx3"
      },
      "source": [
        "## 0. conversion to RGB"
      ]
    },
    {
      "cell_type": "code",
      "execution_count": null,
      "metadata": {
        "id": "cnsNxgyA47l5"
      },
      "outputs": [],
      "source": [
        "# Converts images from GrayScale --> RGB &\n",
        "# saves pictures to drive folder &\n",
        "# saves path to an array (annuled)\n",
        "\n",
        "def RGB(X_img_names) :\n",
        "    x_rgb = []\n",
        "    X_RGB_names = []\n",
        "    url_RGB=\"/content/drive/MyDrive/2. Relevant Projects/1. Emotions Recognition/RGB\"\n",
        "\n",
        "    for path in X_img_names :\n",
        "        image = cv2.imread(path, cv2.IMREAD_GRAYSCALE)\n",
        "        # Convert the image to RGB.\n",
        "        image_rgb = cv2.cvtColor(image, cv2.COLOR_GRAY2RGB)\n",
        "\n",
        "        #only execute first time to save pictures to drive\n",
        "        cv2.imwrite(url_RGB+f\"{path[81:]}\",image_rgb)\n",
        "\n",
        "        x_rgb.append(image_rgb)\n",
        "\n",
        "\n",
        "    return(np.array(x_rgb))"
      ]
    },
    {
      "cell_type": "code",
      "execution_count": null,
      "metadata": {
        "id": "tc-5U2O8A6SP"
      },
      "outputs": [],
      "source": [
        "x_rgb = RGB(X_img_names)"
      ]
    },
    {
      "cell_type": "code",
      "execution_count": null,
      "metadata": {
        "colab": {
          "base_uri": "https://localhost:8080/"
        },
        "id": "DoVXUYY8VTN0",
        "outputId": "866bf6df-154a-4880-c31b-ca76d0ba3bb9"
      },
      "outputs": [
        {
          "output_type": "stream",
          "name": "stderr",
          "text": [
            "\r  0%|          | 0/7 [00:00<?, ?it/s]"
          ]
        },
        {
          "output_type": "stream",
          "name": "stdout",
          "text": [
            "angry\n"
          ]
        },
        {
          "output_type": "stream",
          "name": "stderr",
          "text": [
            "\r 14%|█▍        | 1/7 [00:31<03:08, 31.46s/it]"
          ]
        },
        {
          "output_type": "stream",
          "name": "stdout",
          "text": [
            "disgust\n"
          ]
        },
        {
          "output_type": "stream",
          "name": "stderr",
          "text": [
            "\r 29%|██▊       | 2/7 [00:34<01:14, 14.86s/it]"
          ]
        },
        {
          "output_type": "stream",
          "name": "stdout",
          "text": [
            "fear\n"
          ]
        },
        {
          "output_type": "stream",
          "name": "stderr",
          "text": [
            " 57%|█████▋    | 4/7 [01:07<00:41, 13.86s/it]"
          ]
        },
        {
          "output_type": "stream",
          "name": "stdout",
          "text": [
            "happy\n",
            "neutral\n"
          ]
        },
        {
          "output_type": "stream",
          "name": "stderr",
          "text": [
            "100%|██████████| 7/7 [01:07<00:00,  9.62s/it]"
          ]
        },
        {
          "output_type": "stream",
          "name": "stdout",
          "text": [
            "sad\n",
            "surprise\n"
          ]
        },
        {
          "output_type": "stream",
          "name": "stderr",
          "text": [
            "\n"
          ]
        }
      ],
      "source": [
        "x_rgb_names = img_path(train_RGB, img_size=(48,48))"
      ]
    },
    {
      "cell_type": "code",
      "execution_count": null,
      "metadata": {
        "id": "MCfLARr2-NHG"
      },
      "outputs": [],
      "source": [
        "#plotting RGB pictures\n",
        "plot_samples(x_rgb, y_train, labels_tr, n=50)"
      ]
    },
    {
      "cell_type": "markdown",
      "metadata": {
        "id": "Nz-3IVwPiBK3"
      },
      "source": [
        "## 1. Color shift\n",
        "### 1.1. YCbCr\n",
        "YCbCr Color model is specified in terms of luminance (Y channel) and chrominance (Cb and Cr channels). It segments the image into a luminous component and chrominance components. In YCbCr color model, the distribution of the skin areas is consistent across different races in the Cb and Cr color spaces. As RGB color model is light sensitive so to improve the performance of skin color clustering, YCbCr color model is used. Its chrominance components are almost independent of luminance and there is non-linear relationship between chrominance (Cb, Cr) and luminance(Y) of the skin color in the high and low luminance region.\n",
        "- **Range of Y** : [16, 235] , where 16:black | 235:white.\n",
        "- **Range of Cb and Cr** :  [16–240].\n",
        "\n",
        "The main advantage of YCbCr color model is that the influence of luminosity can be removed during processing of an image. Different plots for Y, Cb and Cr values for face and non-face pixels were plotted using the reference images and studied to find the range of Y, Cb and Cr values for the face pixels"
      ]
    },
    {
      "cell_type": "code",
      "execution_count": null,
      "metadata": {
        "id": "hF8nN3DoieGM"
      },
      "outputs": [],
      "source": [
        "def YCBR(x_rgb_names) :\n",
        "    x_YCBR = []\n",
        "    url_YCBR=\"/content/drive/MyDrive/2. Relevant Projects/1. Emotions Recognition/YCBR\"  # Main account\n",
        "    url_YCBR=\"/content/drive/MyDrive/1. Emotions Recognition/YCBR\" # other Accounts\n",
        "    i=0\n",
        "\n",
        "    for path in x_rgb_names :\n",
        "      if os.path.exists(path[76:]) == False :\n",
        "        print((os.path.exists(path[76:])))\n",
        "        img = cv2.imread(path)\n",
        "        image_ycbr = cv2.cvtColor(img, cv2.COLOR_BGR2YCrCb)\n",
        "\n",
        "        #only execute first time to save pictures to drive\n",
        "        cv2.imwrite(url_YCBR+f\"{path[71:]}\",image_ycbr)\n",
        "        i+=1\n",
        "        x_YCBR.append(image_ycbr)\n",
        "        print(i)\n",
        "\n",
        "    return(np.array(x_YCBR))"
      ]
    },
    {
      "cell_type": "code",
      "execution_count": null,
      "metadata": {
        "colab": {
          "base_uri": "https://localhost:8080/",
          "height": 36
        },
        "id": "jto9PJBAxq_h",
        "outputId": "a2c221d0-d28f-473a-8dbf-437f2bba73a9"
      },
      "outputs": [
        {
          "output_type": "execute_result",
          "data": {
            "text/plain": [
              "'Training_42892118.jpg'"
            ],
            "application/vnd.google.colaboratory.intrinsic+json": {
              "type": "string"
            }
          },
          "metadata": {},
          "execution_count": 15
        }
      ],
      "source": [
        "x_rgb_names[22000][76:]"
      ]
    },
    {
      "cell_type": "code",
      "execution_count": null,
      "metadata": {
        "id": "h_vLS2fsiQpo"
      },
      "outputs": [],
      "source": [
        "x_YCBR = YCBR(x_rgb_names)\n",
        "# happy 5155"
      ]
    },
    {
      "cell_type": "code",
      "execution_count": null,
      "metadata": {
        "id": "BI3u0DO6bQff"
      },
      "outputs": [],
      "source": [
        "x_YCBR.shape"
      ]
    },
    {
      "cell_type": "code",
      "execution_count": null,
      "metadata": {
        "id": "o5yehRg4_GmZ"
      },
      "outputs": [],
      "source": [
        "plot_samples(x_YCBR, y_train, labels_tr, n=50)"
      ]
    },
    {
      "cell_type": "markdown",
      "metadata": {
        "id": "v7xJQEyZvF-D"
      },
      "source": [
        "### 1.2. YES\n",
        "Y represents the luminance channel and E and S denote the chrominance components.\n",
        "The YES space is defined by a linear transformation of the SMPTE (Society of Motion Picture and Television Engineers).\n",
        "\n",
        "It was chosen because :     \n",
        "1. It reduces variations in chrominance due to changes in luminance : in our case, we have a few pictures of dark skinned individuals with very low luminescence, making the face and edges hardly visible for the naked eye, let alone the model.\n",
        "2. It is computationally efficient the E and S channels can be computed from R, G and B by shifting bits rather than multiplication.\n",
        "3. it is free of nonsingularities : divergent values, infinite. (nonlinear spaces may have singularities)\n",
        "\n"
      ]
    },
    {
      "cell_type": "markdown",
      "metadata": {
        "id": "OsAQj7_4iPTD"
      },
      "source": [
        "### **Transformation Matrix from RGB color space to YES color space**\n",
        "  \n",
        "  Filter_R = [0.253,0.684,0.063]\n",
        "\n",
        "  Filter_G = [0.5,-0.5,0.0]\n",
        "  \n",
        "  Filter_B = [0.25,0.25,-0.5]\n",
        "  \n",
        "\n",
        "![image.png](attachment:acf0e1a4-103e-4ee6-add7-d0ff58086ab7.png)"
      ]
    },
    {
      "cell_type": "markdown",
      "metadata": {
        "id": "SINPqSRSiPTD"
      },
      "source": [
        "### **Comparison of Skin detection between color spaces**\n",
        "\n",
        "![comaprison color spaces.webp](data:image/webp;base64,UklGRhK9AABXRUJQVlA4IAa9AACwLgKdASqtAuYBPjEWiUOiISYSqtYQYAMEtLd8IyRgDA/xlV/empz7Sd3g1v2dlX01f1beC+aXzUfUtvZHowdNjkHfm/+w/j57t+/76//e/1z/sf/U9b/xr5t+xf339cf7h/1/9F8n/+r41fUf7j/jf6T1I/jX2V+x/3H/Jf4b+3//T/S/Nv+q/zP7H/mn71/LX+r/y37R/4z94/sI/FP4//W/7H/if8V/d//x/ofsk+//7Pfwbv/tv91/n/YL9bvmX93/t3+Z/2f99/d324v4H/Mftj/Zv/P87/pP+L/y35V/4b/9fgD/Fv5Z/cv7j/j/9H/cf///wfur/cf8Xyh/v3+c/2v+f/JL7A/5H/Q/8t/fv8j/1/8H////V+Lv89/vv8f/nv/D/j////7fj1+cf3//e/4z/O/9v/O////zfoH/Hf53/m/7f/lP+n/hv///5/u3/9vt4/aj/3f779////9nX69/+f8/zKYpXPeLVN6v/tT9nu7RSTkX62JgeGIqXdovPxdXFhYhheK4zlFoz4TA/87jd0rMpeYmNn3kYdnC1aLTtMK0oyNFUrOUXX11LO64F0lgXBY0aJeE9fhSIecSlydhol4T14j1Q/Jsqe3/oT1+FDl/cOsfS0Ralb/ib8HcL+E24clbVwwui2svlThhckJhYB4wHMesKXB+94z2KBC9/x8HRYoPFLA0/Kn2gSJmoGOc1jovPZJsnzp6V/gDWHyG1xuTyD0uiOBF21vsei9AB9L74oN1rfLp99EqQQ/Xv4qUhPs5YR4JFHHgaY3q2Fg2gM4r1BiwdpaLYyPWsDD+WIMhh1JDoOf1idiL0waJikaFAXZS21CD1xw6GQ+030rpbhXPPfs59Keikw+E8TLs2CSsBO9ZqLsh/GLi8saIFPZfD3gSpU3GbFVm9/9oEsfQbhRI58WebbdC4le3q944FJzerKXOQyelUdZD79Ghw9ceMHyj+HhRtPAYulwUvkSs3JsXmfb2AhY5Mp7qCUrjM4d0ohsTK4HyY+jV/tUgCiVLdY8Qk4zc8bBgyL8h+2hyrD1D+pNS9P56OCxmVntEHiS1vmLW8UkAzZtUPuMq74lujOjxGB3WfFdKFFnuKEKgGhYAHbHgThmAi5Cl+tT86NrblXk4sUtvweMPT86Mb+EUKpeN4GKDEaSgH1PZJiv/xc4RbIMubAyML2skY/NGzbYO+SiTL+/GNkrMBpvP88+vd9jH4Cc+uiEYl8UPdvOuXR0/s59II4+H8CpLjBAXMjaBTRIQJDq92vzHrVMfVVyWg0qD8bbMMtPGE306rN6QVMSONkOnyhSytymL202OxYBw10nlCXT6tyOxKWhugizbAb9H8juw8U81DZvqwCq0QF/Lx7hLS9yv8T8GZiBqGHDSSUGlPYwPEmKDirCmQV06fXKw8vHLnGed+N1QW8FxIPcUzYxQvsNWcdJPwvaBrY0Y0Cou6wDjdu6y78AEVim/3AJAq4jLmXFxE7S9YP8Tz/cMnNL2vR4i6Q4jkG9cnLow4kG2HfZVjILgy1bwP9wDSzOERjIbuFSe2Z6pQyWIMO6Wh+hCKvZoYAWAbvvTLoIy7xCejDnbzI+t6ghM4MaWVPjEsEiaFOHYnnUw0OgzLo65qcyEeNTF+ernfxqTXIsr9zemVLt5LVR3y3ctCMONvEoypD2VXQPJfsXSw0rGFp3LY2gkmLZVbhLjryh4DJK/dmJwSvaKaJDuGx8/j0kVOG2Rkqjfhj+DuhAu0GgmQbscZ+5bLQfQJshX28s67C0CrdFy6l+F7oniaPIgY7cflhHpxm+aFDKO57J7cGargS+ste5YksDr47qUgR/wnLSoPlijvrqVQ/slxisxnvi10BCfGXnXzDjolRJjyGhaYddBwPUV8KkePC5Z6OnEJqL/5W8sBMr1v1Ed1cX9EwEcbo66BBt2uio66k/BOfV2vy8bZxRIgrjIAX7j7pzBVmnzk3iswslmmiTxCB7Bh0ZELX8IMs/M1U6FUlLbONZe0SUb51SeJ0kzn9aIkGMX1p+GsDACsI5r3jTeN3nS8rX2FqyNT4LbZ9q5dS783TYDFTxgkgKm2Lo4Iv7eEAEHBVdAKCgY5nJ/mKpO3j6OwCvk/w5ZthhLFp0/VBtW56OegAArODMwXxBEd1WToQmLih/Ar0VgKX3548Va/z5sBLmmmzWeSPjuxyZR/83K4SzT59NZ+1NMGBPA8MNJAnagF7HDT0SsQsEiUrmWt4BhN+7XEFkgvF5xHvWbEdVQItbbwJ/tJ3lsecfqlWxnDaRt14dP5GsERNj7iAFG8NO29TjnWNTPb9ZFUVL3yuNBntwzNy0LKv11kfYLDGY/QwX0Kb1Jdu9QA9fBqIakB+jK7rMMYmM4qTGkhWTPG32+ylu2jmO5v9f0DikwEqENzI47EhtRUZbkr3JJWsSUihqvVli/1KOs8VBPaG3UA4rhPp7gA8QXPuhdUPeNn/jyT6+veRoS9vbnc0ZClOhsD8xCFZSgwJtmSq7z1mxrMV05ZFWmMO6Xt/8Gfb0Yx/7TTiLEtLrZhjipCtYXG/o8xJaWXQ0TU2rnRfSa1chC3k4Leb0kbYpt6Q0Kr7LSbNQYFDqeDluYXOLd8fs3W54/nAFKueohlogKlzUDBepgQxicIGjvgmlV+VLkPpem8LtMm4DZ8qWPBh88p7/r4zy5lJ7Z2I95H1QUYEHhKlFoTxymlgzxR44IOZEBR5ZxU00cerkYybWb+9RPWJWGz7WxF948WrT1TE1GeafXTA9Z2ZGKAfuKl6rpIvH03z3BPJnyfhn+MG1ayJzeRhRoB1fGoI2bc3B4B2v/Qku2UgoLyaWp8FPsxF1Z7HRDhI5mAhWtOXe9Xg//usURQpLm1b4GiCobjilr84ypXohvkM4llzTf5Sn6KRsC1AKVhGE2ayEV3t4aou13EA+u9G1t0X5YbTMm8zH5OQSnTC+9VEWfqYfZF+PuE60pkwDxw+u8/j2etXSlEt18yJRf0EXyFv1iKHAqsVIVpVW4+m9WQKY07ckRr4zUA8rGBFMI+mH3WKqpfrk1p8J0bpLxdI7AQEuSSRN3CzMioSbyGrdZ2/S6K3Q0TCqlk8GEGztLFtjWyA/KUnQuNT3IaA01vH5PBoeRO15YAiehX1fhdN+JdK5ZYtBWBnGNSeECDX/sMKZ+jNHKWi8t9fDMLoN8qzmKjt0rx+znfPo5/465oe+IQQsBeoU0Qn4fCUQ3asTPcDsMWZXV3520NbkbJwcOqWa62TTdsqXYAx9pkVgSbXUpZTU11ZTu1Jz2UkuXPhad6coLrQOBGWCMRwoavBSXflYx8DA+XQ5k7h0kNLSyYg/zkglbrZH/rWc7PNo9pa+OWRYeXY4xqn4TT6zCywpDsJi5Ms/72Q9KROL38uOrfikpmYtWGEBWoSn/7CTlC8S/t9/cTrGKjxEwUAKH0kpySlK/K6hLYSB2OKZY3oeYg4Gtj3Edgc8ZFuT490O5bntIFykGc6pOGx6y6ntR9WdvnQIlz+jT3bDIYkwRP/Rp7tiW4RU3eYt9ClGoTemsiH0F6qacSzcENxA2XuOA6BA39Rr5ylXGShCxSeuK5BCW2C1TuwajdNTxHK7Nfe15xU//vqarVtCl+DldNYSMe7CU33/N3KEQdhocTESEJB8EHWprX0MphUfco9C21K/hAL5nMduc7lVrbs8WCx9+VAxIPjAA0Rh6t/tCO2uo+NE0rzuayX1x4VzjYFBeMQ4kAgovznq+SQ7WBlaowEsRAfT7iTy1WwauQpS/BzCjSDjyXJ3IUM1GLj7ed/ZcfOoSfhY1BelJqjz0uPP95z9Jg0lISjgmkF8ogrfpvjZn2pw4bRfJXjcz0OBKa8nA+GDfijSA0iaiIAKeSrT1NlNETrwAzjzvDztfy8Q6uV0tZJHu2u+2KOzvRb3lDwuwxsnuG4Id8Uy5TVauQpS/BueEikfr++z3ZSaKrSPOJXNawoCJHFVeMgxdZLoxHGA8bovU36qeM6vM7SxBz/9W4cRg6BPwX4T7uLUSvn2WF15HgByb/CsFC5CO+wGML7FEmf88f8yvnbnusGFRAAowZ0NdeUF4nwazRQEkgcVP/76mlH7FytCaf0S+37Y3Glkpd2mjMIUOTSUhHd8Pj/0/A1x2LY0boVUTZaHXy1a8RvuIfuN1DVnFTOoIm4aGguOxGVO38ca4hB0ZIGlmREKDOceNxHEgRc4RFNVq5ClL8G54Ood0a6QZupQlwpE1au6xEo85fEy1Vxcdsn8D6css1ovJbEZ79nZPMRL+4nT3PouI0izzBGNqJWNjj0smhkmFjAOjmNj1CSN1ZNnqBCszKQQ9VORO/FmMxiQBDFsK9syp7pboqrgIV5TwAU66JlwRWcl4zlttcKRJIE+ZZk3+8J200ecbEG7wKSfTXuIroKU+oRFeoSZvb+W56c1hQ+sNz1WA5snuCwu4nWlgSSDc3RWHGUoMlFjs3PUYlNiNka20dxQRTGIEtwunv/mmEAWnm8PHRLyB3GR/0dsr+nV+3K6g3kO69Sfh3cFokdaoIIxfaLaFl3B9hD7c2IxFT/++pqtW0KTgcVOhvbtc4ioiIFGFRlcEVVupaNTjp6kspRRVgjUCcnwj/FHhg1JM8B08swbkCWDvOVIhcYteVZTKaHWB05iIL+pGmLRlkAvdIl2LUoAuAw0PDW60/bP+qP7RPBj17UhFz630Xk5FT/++aDSy/XNL7go6xM7mZ/XyBlm6xiA+40dwSu2j9dZf+mxq1H+QOmZPv+b5h+MJCzpWDopmDwoZqEnMEzdCGCDJiDd3ofni0BFj1EvzB4vgXMkblxshuMXKWRJQNqqO4uAFPuCqGWalJL6Y4hV9bcuA8yppw9hSJJA4qf/iUI31PJIV26UbvDG74exyxWvUw0mak+yyEOzKSACMVebuNMsDgGRMy6fo4DE2XM9eELVt4DTCqvMgiAP0AQxaT8+7OVRW9mmDXFetqPlYMi1144lmsIMPyDnt7EQjnyzzuvjwVRzby/cmxDk2jOoTEWfJA4qf/31NKP2/nk+0R099/UDq3cdy5zy3xl5JMKmMp7IjLeIb4+FLqCEMMjdPqgtkdCl0Y+uPo1HhaAxod4rdOQNJ0uHw+42jaYx7MOjOwZfhBeI7eaVbXPOr+xEXaa9Jk8M7aot2y1yILByBHXfZFIRoqG21wpEkgcUeKMDvEGqord2Gm8iLx+xYkvK6puVUOsEjDOK1tlAeqPOUX5AUCdSzGnw+T1cWJcYlyNNoDvKIlKSj3J0s1Xg579DSKm3PaQtnqXZBPUYLmEpvelaX5jHJQT9JTl+p+1yRMkT/++pqtXIS0h3oIlJugs+co3fS4hZafQA97vIJm9rXCJkiG2Yy9eAoTkavGJ3yf3NDSGZfIUpzuLSM3A46hFzkRQyuMlfq56438IUuOFhpGNAMFmDw1y6HttJ++cqma3umauQpS/BzCisZptdq3cxpVsvZPenihrUAHP17cp6Sg5Wzytjh8Cvu+hShLJvLJPHTI84ECx0o6EICjq6kxkRB2hcO23wdNVUbpFZvEgAjqUJvmO2lHX0daFOT9gTwV2yqyHHvBFhti1Jl57IJxZB3UlRgkkDip//YcUfqrQry1lNopNFzThyg2IvcMfAbT4igx8ekadVtn/Gt919ekMXpERZGrgxRm8j34/Z5P/PSuRtEVBo75oObbNlI8td42lqDKaSnSfQg83yhxfezd1B6LlKyJTa4XMq1V+JXDlbav+AagRldTYbVFRHpc6Lfx1YS/z3h8CPK7L7L+PiC6r+l7DSUalQZ/HIkVZqLFi29wbTKn2lqpHJ5BJJSYmhqT4b/l/ht9EkgcVP/76mhHSKYsjtE+AXjELsul1ePrJ5NaXY8LFmEUMzSz2OoTf7hFIzTGxCmJM0iR93qf/26+2XlEZjuQZbg/QVHn8o8+dwtbul0F6MQsxcVL8HMKRJGAAD8uwAxPjnFbJvNDrc8nIqB9skJ2mrm3kzc5M29/fcrLM9xOrWi+OykpB0fJ+2W24eN+DcoB8gqoozvhZnLeHoQCuV27Mukv8rIK7awwzm/cEQlmUngYUsPC507M8gnKp833FKajhEBhDYsHngY/pZHypLBPXASOCUm4ISc+wx/bY7K5Cry7/fzkhfrd97DUI8HYu4c5oWDqkfJwgwbSl2wyDVNWQut3/9MVkwGNdm99tQkWK4m3hHbqKT8esFzfTzMHqKirwWC/3bNLh5mF9zkgJhNtoEbU2yM649AzhrslGw2tC8z1hljwjoueZpJSjHlwvzeeIvFH29RReORCpGmKgaseZCyOZ2XI/4Hsv8gvbrAQsMSjUIFfyGNExH0xKbdfdqFW7Cos9lEamZQnxbncDVzQ0QZHSiU5wTrSJXs/TTdFIC2sWJtd+VRB+sd87QMfDEv0kMbFJw0oveVehypRcKqDYasJ3iqlvYe3iPjWp10ms/olJsgP6aoZaPm9mTfTBqx8fqhQqpExpuCjqlF33dZ7OUI5E+ScDSoO2h1s6oEYcvZrsmpb0GrD18sywDdFengFRaA9LazC1M0uwTNiTX8SFY3MdADDuRNKiFGyom1itocR3rmCiMZSbFW7TqVre0+XXF4EE0OMwcip4iuUVx0BGSGpp1yl2jzDbPsyLj2Q+IOxnzRVPq2fd4p7X8wEljrx4qfgl00SD500HpLP3h/5OXGOYEEaZ5Hg9xS8kdQ3vxTaEjrs3MxoaQWu7x2WRnBggBDqBDzQlIlvY1FGksIVz6WCNtWbq7elYuSaHbdTw4GnZQbsOtfzS6d6tHoI1FRgUbdb3EYEPz6zO1i84O/AmxkcK12jLEUlQzmA5SGHFYS1Y4BsAGwE4jL9Sv/Nqj2L8876yqjrh84jSBPrX7cDVClH9LDX4ubxJppaM4lDLF+BuQo7+gwsX83XXXjFA19zW+Q7SaXrtXSb7Ag4UfyhUmeg/i7sgVFL8A39Y4jfiGHJzw4DCYBGG4Fg2wYkRXSz7jmCI8aU3LCTQMwcEVqlis+vBTs6b/vvw8ArkiFOOrTtnYMBcHzM7U7JDdJi5QeskxDmdYZ4a7NJI82yFVyon7WzCkT6ZVaZNuBc5sJg0VhYGoG8+Rwu14pwte61VzTKETvfYsD8l5mzQEGqbghsFbhIZfkiuK/NzEg3l51yDcoQ9niaSFicnT20t5AyhB7JJndHMVP2VAGAycvr5FQNGbT7NNip/+mlNxEgmZJmcg1E3iyH+w2MBQLfZrYqKaxSeH8CRKnxTQXz2Qzz8iBe0fQtsoY9wg2Rx5nLoEo0e9DBeUmWWJGWuzTh3dlXocOf6ts5MQxR3HpGjYk/rkb5hKSkT+sjHhbdld/f3Wt5Zr72OxjsTfePaa9S2iITUqTFAoyDxGX89p3S/rKyzDinIAa5ZMD4zLiwfCxynrjrpaVyYmAkPFIZWY+4MrONMwxgAriK7hNXWxBh3ITmiy4jg7Dx5N3jjM4unM+/1pawIMUVSgMY0P/R2WgzjIc54VPbN64Y/VCmOuLSdspvaBDud38fDtaoaxV2nXZrhkIBogww/7igUIwnkyHbBSM5L55awEgfPC+TsOR9KKFJqGjMlwXwplb5rqUDGNK0j9W4Mra66L+ZH1NxcdRfNplc3H7/f+hcMSmh8HZHcncXIDOLnZM09KuhaQInz6AJzYITaiVOR3jBiY2tmJ3kZaoSWC8O0NqQOYmmNYF3hpPvPRRA7U8LxosuDrUez+jjEakeEzqhhki7OeqFaPfsz4NlZijJ31vFJ197q1znuNw4lQeW8ilaQ48mbxUQBRMNR2Lnt+GHwBDtmUay7/cm39yVkNgQ8EWrgYNqJ2p6+ZKnbI9gTKk+A6jcOCaXyOgUPyOuN1ArBWoUEVJj/tByuJ5JNVLoMHa6TdiEdZXAWLnp+qYJZOnhLpeBHoc1NxGv6NBn1kXIvs2TYfT8qPbjzNcxmlNP8vYIqCLvP4+VNvQizr7Px7x2I6gFwhK/TUaHQ4WYTLyfwSNZOM05S+x5i74pRPfG46+nNKTrmRYYsPJNiaqJouIxSSFIlBqeMkxDr1g0z16jAF45zzjkV5rW5C6ZPTv3LoCGah8D6mhHg1PHDMD68UDBwZaisR+0zbbwJtCzjFOlq/kCG09DKHZkOrcM3qzfS3VZIDovxE8lc/csMyZELNTjgOyUmcZPuVhpYpOB+KbgCrRuGBwTp7AXSyLp/R63ddqChoPNc7upVNo37WjunbKGe2hRXYHQGZixbDN4odkAiiyKapSDP0uKbYYO+70FUTl4q94Z8oQspcmoMZ6HwijNGUsCg/l1u+prIKM1EqvUthyLJdcLICYWiNZulYkYoTrBB/qnC42ZpdIkouAx5fNEv2HWFuk8QqL/My6ilFxD+SQeIcfg90H24S4bmhz4zRorOYbGK7yhLcLqKriFnuEKLRaSUM4tS05qJ/pLUynH2G9V4LBM/d3IQW6r8MsgqHIqrjpIlYpRhP14YUf04REugjDz2WgqykDgzCuBiplNUAPnqg67JUWcS+HUwmMqNF95t3Mp5zDV3p2+nmOkoo/VClCQE3gp9M9YzrQA0Km1HKJ1dsPsS2B0I0jjTg1VXa75QQlhqMICzSFvKLIghrbZ83Xr3q2XUgowIHzIvwA7G/9DK2DYLItDUNQ+df1oj53myBlF6v2VwJWkfzZK0T9V4GfrhuXdENXfNPWRTGQQxD1dVIHOdZyI5SIZl+F/ize87sOq2FgsXQYdLHcItz02b25maFxVokAh1zfTY2F51pnyTlYdQUr1iY1z+KTMz0MCJMcMmVCDfN/QANEAowL1J/9j2ceRvjBEo8WXNOo4b/YvktDseIoCP7F/IV7/BwDOS2AFg/IYmgf59ZUH+zzmq2paUNGBwzotCcdQOFLHer2AsSuJpDwiu5q1Ve2p8OLRFdIrynbAiJG4C31pua70m4ixvRnymjcAV1Bw4nCIHQQz2+pL0BtsNhomi0Wqrcn3Te8tzD7MRSxzsl/YzRR31BlWEYcPnLqSYBFGY1Qv435abmJFJxl8pLym4NDbdWB90Zh/rjzheebknZx02BC+lJIGkWUfx3tiyK2hCVt1EaMKBbssWMixg7QvcwjG6/n6qUXliGOJJ0syQUGNqbW7/IbnRis//ZXgVWx06RKIfuYP9H5aWGhBO/u4r78kpphi3BckXLs/qwZozcvz8aFknsS7ONWCUlQn30s0GjwyXOu0oET//Ah6dyPJYAHngbDF2ltmUamJGwjGEbCe0eCgv+7Mrnroxa9SKXCDK13FQi+dZSpdJzemwTpxVlUHT0UdbcSeunZaltmDnRWD/WRZTFYkvkFhghLEes3935dRqNHiB4h/kiNUPPyOxPSoh6LvvexgrEzPqR2oLQD/JX6XOcrzGWmNO1t7866U27v8jXRQxH5/tiPeBpjYavW+h4rIbdBlnyrjDM3KMIK+KDuhoK7XJ58Z3SbbaPOTpivrj3MzMh5B6go5LNiJ4bLSAx/sKKHEIRfnaDhj6i27R9DLG4fkxr6iqtYC4vg7DU8Egjwu8Jo+t4RTB0rmHdISK6Ys8dnqf+Z/LLvrWUB9sKaUlcPf5LES0zwQFexU2FzlwM0UHsWV31F5pQtI4kScSph2tmZhyNoJxiklytEKB0ns0bIk6Fq7XIMl7VCpBOM7Wf5sS2lR1Dg//G8kBfywzlAuJ+8wU2kovwzu3/t2rahETLeM1bFICsPWe2HOABOM4tXH6IkGDxhC1XcNaQORAZAVRfKMQEP3ikGN3lEu7azh/evBOYMgWr6rRfVsXhxdLcBtoOaO8L5llSjGRlO8HFC1yJzYbMbwL2xDIY1bih0qRm+j7SaFgQzEI/qTlLkpCXf4xjw3dH/3QSFMxJlr8YEThFheMVb5v2T5oPZM1gOUMz7dz+gRAQImpluTwFtue/+NXBXmeubCbcpqfXMZm681/wsRy3vjxGALJFQMdkVQs0J264g89Fn690h/qpHd9KNUxD93JiyIqaagp+DnhBOUai37Vud8/kwQtTx0EjqNYD29ZITCo5eJuhM8OcDti4L2gAXYtFWlkE6tcBbgeoFZ8SDAKhVWKIeLrlYQ41NfNF5sdERrmyK/QhC0gfcfE1tLeCAR4s/sARjueuyTVuN4PXJRNOXcKBRmsV8qHKG9ZXC+2XkDtdCnsFAbOe1Iz4ELdLN60lhQOKlMFP+9ScAl+o2dMtzB9PsW4wjbOxrwDTSmllnGJnae6m/JdP3MSfcAskE/SATcPMXlsUrqhCH+HpGgrj2CaBucZA1HF9Pv0j9DAEdSqgziGqaojz+XGjFsxVTOgYC+oPOLFFIW2JWpf8Pn/oHuah8eMUwzRcPsjLO/LM2sDDizNOJ0axMTOrl+gnsdcuH0u/++oQZgWvhHQJW3vMqYJRcQR8lgrjjPGaQI7QikkesL/p0lhO3ZumlSPVwXDs9aYso8pjyzhvmn0wmEDd93EID5s9H2Vb38QaVf2gpp3ZROfMjhCHr45wKjoup/3nuR4MuaQTRQhRcLovAOTBtaW/LMq3+mxbHI5G01/2lDuDu5JOB3cIUt4RMRZV+wRHA7gjdvpfaFm3A32bkBN0FMeuSZs0DfMNXvSF74xN+XZwmL/OHsEUYdVym3IX1vVFcLlNSjNG9ZIFGICfjVckGDRCY9+zQ24TQoceebxYcFlrlnGK9wE1TNrcY5rKMIyApwqiPKPNKBRnVLPV/S6bbYmgz5QtjTiyWRppB5ucgSSgNHa98MUbWHUMpSAcHA1FIaIbIWQ/YzwxgzHV7hNtTL/6kGNzWezIlwa+Q5DP+DuSQ3TgS8AelVQY/K3lQqqn+suVqF5o/ANTzzeUBji4p3zDNLEx1VwPRsH58rF0Vpx1x6rO33euNrQ66o12tWaqKpSmELoD2C06xPSa1P5UerBlViSgjIoWzfHgoYNy3oGptwaRWdqU46+lX1hRb0YfTEBc9M6a4YzVelydcAZZ3Ip+SApTNXWD0rcYH6Q9AWu2IzE54ql/nuaPE6UuGcqfGixBqEYsUqksDiFoeS4KUyXp8KeYa+SNE4dB+S661zcBZiDLES3sw3G3zBb4GXjkwRnqmJacotLG1XN6MGBf9vFNuaZ77xIM8/A2C1rPdU1M35Fa0oP0/QSdyYaUBxyQNt0ZSyDu8CUyWZZnp9wxxVnjtWfSrze4B9VDXnV68rZ4Glp6GWrn0cDI/EAy0//KINeA9d7uTAaCf/seG7oFaU4ghSlNpHs6VPAmNAC2GAivYRtGOf3zQ0w95nL+6CxDxkUnwut3jVScV12vEcTK51fJfhJrrap7blwN7FlEkAfPqb4ygMu3YxQmsRAd+ir3jFKmrTv+fJYyCNIUjmDephNg3AZAMrZpH/wCpm18MgtEu6UtTovI/UaOWBY4sNLbbrL/sax/UK0MoU+Q6AbmC35brSzpEqVoPwgOThagrWChkpJw9lrMOYvKe1o+e01ZXVLY32kOjB5BC/d+1GsmJxYLAWYepSRXSSN8kj6oPdeZc2NDri06UmeCE+eb5oUiedoHLXi++K+UR6ihAS/xBFPHXXptJRQWCDBf+rZ/pSRmpQC46O95g1GtyuNBufPO/eahal0J5tx+YJXshVZYsALEHRSwDg6VfUFuzyTPgLntzqS2eU5hSHGRPoB7GtqBnhptSE0ou9EZ/HErnlYTYKhlmGCTjHNtdybq0aogF64ZiHzH1p/oHpeYcNmfU8krZMcBrj82RFGcqoN2THzkWQVS7UuAV5VjPpBzsfoxPI1u5g3yhjHHjXxxq/WB8lIx2XtFyDlTQK32hIXdzVJK1HELgp36C7En3lNLrSr+kIIRqq23WHcjHQTNjmxG9Z9N7mTE03LtGp7gsQG9RCuyChu+muwpXVIINdNBqoh9KsXGmpsLOCl8K2RcJKl9ZU/RTOxnNMr1Pl87GErfnNTWW5VFvLOF8E4dtsIA0/zo4uLvmsz0IxxVngTBvWa8IrmHsKta8/wUuWTSYoRDIDckyB6nmto7t5ZHkjSIJEFh4GarWblC4cnQzihRauQqWvf1MDX631Nxdo2Wm56XwrPX6mnsUkDGBvAS/zZQg4S/qBIXPwgnD3x0LzfWW4k6MGAdXWo3Ec1vemQBl3gochymBsRNdaOYRRjKhEcYJ85o/lckumReculUbaVpoZ/6iDGKt3K38+DxmJ2FJC2fdDg8K/pnkeOrnUWsA3D4NG9m0ETDZaLU1ewxYqtWZJNlwG5VghLFkQFUOmLGUpDMGBr7bxow2jx2jrWFaMP8tIe5743lBxUO8gJ6xBA54K9Tbd6D5RTkwmCB250sSi6LCxWv/xypqepazrNFicrCJbUYRORRAW3+NpsU9/66gg4B6Vm/OHSYYjqv7bX5cYpZ08NWswg/p28M864iVgW298Lb8Hof+s6UDgn671QYg1UKTmjR+SLpMleUuahY/KX4K+AAlUHudbb9IJ2YJMDO8leDDZNdaSy7eFDkxs/6jA53VEc3DoaEtSTRRWNmnqzQQui5W/7+1Ckb6fE7NsfmXTh5yTgE+s65rIuz6GpGJbY4B8IrT/jjz7mdgIPRl3th4WD43N4z8iutMRA+BG0BcqLAGut4SeJSplhQXTnmC8FZwmKERwotZBQK69yTFqi+GBvavqXPQQ57qEpsO4XBbkEtKkAicGUSg+3SiffHAqTCtahO8Sd6FEZvxbHGFWpeEBB0oVDIsJH94+4mwH2b1YgobTMwwPBGQAUqjUy2KizN3D6+j0vwX8uHkbdtvIzUvKvABD2JoRGWJjNN3lX8NMvd4wHTaQ0DZuEWRfyPoy4C/5TtyiRUSD3GkBNfyTkiS3V6DK/Xz1+bUvLFC1AtvmiWB6MbA8FSBMm6MDDftJ8OM/RcOPwedEGZYKbXYJi1U795u5TeSyXadqKVb+wCX+k4UEgFPcuGB6Zn69qlLZkqosne/yIfKHFxcvx1BQvlHEzb64Rf6+bhLltOM8lwEFW2OffGSuDMu7389eSXZUF8h7OBQ6y2TD3VFR/FZhH6+ohmCIWOyX7NxoVbTzsnMLOkaEsn7Bhr0tdK8tZz/glsNgrPRigUM4f1j7xdr74ctEXwaRCByNLtVBjEcXj69tgvAurggcICYFAR+HFZBkEWLm5xZqS01+bbPl1fepXp+jBJ9Ej2JSRVU5VSUbXVNHsWtG2G6Qu4NRo8UN52TjYhjSMyy62A2YCiHPNN2RMQ/mwLS1PcytQzQb15Ps77EYqYwKt2yrKkft+JyHjtgCfablIkfi9KZLas+Yp5iH9GY1NJW0oijGtxQprsb/n5ztFSIewo40dabuI3OuQnk674fnm81EoU+tysoe/qVdiSJWKCBbDkB05HnU/37CU5u+Pz51xVgTEtAO/eHdZEogrua/2fp4pbRNg5E+7fRHBfZ6G0LWXlB2oyZC1KyW/0/SscGu30Hytrg1pOq9s5RnlRLMao6iskFyBNtreguBjbzXcZh+08KEzBxbEEQ1GtCCGJhk3vWBd1b9Zw19JNF2ko8CMVcGRDVTJ10U2OHIqHBnBDFGRQFK7xiAU7Vnt+MHT8LCsh0qrQhA/RGUxe51v9cdMa28k0bFl8yEFDN4f0Umhx1KqYGD6YIu8KB6Df6MSGo+2BMJjloIfjU5X5DKLLpzg53IoG3790xnibQtWxpwuWlijRG/Y8pm6ELxB/Vx/bq4ZXk8v00kGfvOEa0G2QG4pEmt03K5AKpWzWQPHeASVRzrDcu8bMTou+dpe88/Iq4ANMiCnJPmD/5NFM39ct1viu5Q0nzFaDpxbCz4iEhNNEnOcyKal1wzH9o8aNF16JtMyv4OKuvPKrL92Lu36mNj9yzzJ6PoEdn+ZHOxaAo1fhFF3hXLFYFbM14OFN8vL/A3zasRuD2ze7CrCe4BBH8P8t7V3TpoGnVTUmTK7YtD5K9M3ykTc7o9eFzML57PMkrZ532XRgo5ShCkDLt4kBHozVoVhViTQseYpqMFV2ADKnAW6Y6UHePdBFKWVgfk96nWwVunJAF//MydBlOwI7gKQkZWX/fR5vo6a4Mp4RkOhPNfv6WCPeVHncnf9d0dNEMirmh/xCaFFIKyTO/Rx95yvJeefs57+CBhszKLIjsxIyvmTjzoyjHUVJYOfa+JhCqTzFU3qmaBtax4KXLXw27KVMD+SrbIq86Fg1UbE9whMYmct0dcSO22Y8V2OLmmkKqKV8oKPcPYV5gwJ5gaUOHZowGEraP20+66bxb3hdnqRamXQn7m1ZTE9mJl8m+538fA6M+Y6ahOoMRDPV9QchL9lqw3oAsRjstVPKzCK6rqmJib6wvxLWmJIsDJbyRurgd5R/y5EfxjzpIRG6lfVEagpumPT5wnlnE9bUQGNSD+HLVl+6Edi3QXoru2QviwCGrUcDY8DX84LTSE8T9B5+XnLy0R6RQ0zyIKxhHzPOrC0BuSJqYDqzHGiHwz8bJheZBaLOddJtOKHVwIWzTRpj7o4ODi1chKg0RJURcbTLR+jXdbDKTrRVlwL8fnCFexs0OnI2nx+jgvMBmMs3Lj7aoeO84ExxaY6nVD9Lo7Js6yVBdDriOvpPh9pPqlTunGtM0vTtkZX31wqNttU7H5RYGwq1Zsx5C062JhHXEQh3ko9kiH5fBLcRz/uh+DnNLYZzZ0eaDTceyrGycJ345L2Uyf1GnBaOOjaWyhUupLMXRRrgdcM5KO8PCao9vhLec9h1zus3rVbSQxuusVtQYK+XoFagVzYmrxV+IxKrPliumdFAY7nMSizwQhe956ZULXQ/peo3Uo9dXr3QGbvNaC9VD+f5eduTHO0+yg/kdbMuuh+emHIX4YPpngu/x19uKeXU79v1MmO+Pg3ir70xuAKjJOGRDGvbyWLg79MhrFvky0Py8f/FS3xTYv520+EEhsUvAmdy5sjcTe2SHYw29EyZaaEz5rTsd2ABteHvY+jAYRSkqH8Nbcs1aHfjIGXUEC2Y670l76GYZsL10E8FYDmn/buk3LN6c7yS7jEWp+61eQqVHgMslrNWEx9TjDO7uyPJuXPxSIn+scc8k+Z+6YBRIogr+1DEvWxv6oOY6Ey1+cH2JSmCHM/9dADJlObUXSn1L6ZrLBssu3j4tRg2/rfuWld5U1TIBI/QAvALDDVcpUykVSel9CD1uiDoXTQ3Ur08n+VI84UclvqnlZf2MbDGrwQGnxu37r0yj5JqN898JjzFcgFO4Q0ZWhFW1BbvEbZQTuAudSXniJJ8HP2GqR2By63YbD+fYXMJxiZtahu4pPQ2clpyd9SYIiVnjcgPMhDAIc4nzigiruCpsRg216/13y1N8erT5xzdcnRQzUYLGSKmM7dyvGaeTxIC12xmfnkvNALI1RT2Sy6amBAQEKC+yQFLKeXvJ7i2n6GJPJB8a05qzdX7tXIeX+t9PQJ5KustQHTzDvKATZH3DOeG4pW/DRgXPs6OSxXHD6wcJBvLvJ4Y9UmCPLadgnrD6XOXJ4aIFlnuF2+WRZvruH9OvWQcPcwGf/xnxcwC46P4aRNxaIe/QQhBNFG+BEkCiMw3BTcc3hbdQAiYzivqX3LStbLb0S1k4ZHgrh6/Z6pxBLV5FgsQfv3EslGkgSQBjtYL9X8ao74SV/w87v7DpHffNkwg57D38UG6kt4kPC6tky+JyzwZnOIqwCnXdmBoGdxdnJX1znRNl4cK9NDsRG5G8uaX80zXRzD1RRqSx8OSy/XW05qNf1cMBycATiGQOS7l4svgeNDi1uFpm8hya3JhILHfGu9WM41cQe6woy7PmuDZxQ7vsv+aFMqFdbMWv5ykUZmzyQB210ABo+MkxKU9OmsoKmlg2PATxCzV9HrPPOt5cF6l6/4ZAIvs+vL5xeLyP95aKU6chr0DITsKMEimYmMBg/E7GvIybY65vk+OYzYVzLBhCzl3WIa05CieG6Vt6jn/+oxwnsxqhTyVVoD5/C/icwQkE27YpiK+RCLGgE3WwltKYugUnU3/IugAro2VJCtS3pfbL9bVu3ZUEUr9CbjmS3f3p3BGaF3Nbtm6RpzmPrNxS9792x6kg3daLF+C3iUHA6lVVB5xUsqRgy1zaEp5LN0nlsHEZ8qSYKmJl9l+WSRYiUq+oHjR/JFCpIdjyDqBH0xIyvkDp1utDY4EqKys3s+qmDDWxLxmZxFudjKlYGluVjbMISdiBIoRpK6EMYNP8SFxZDdqD7T7w/RuUshsN2eu5m15Dd+v7Nlya+OIVi4OfKQ1t6cMTp/JtJbikOpyiuGOUSlcFxoWnz+A1RPNeweRWw+Mx+2MsR9gBmFNRuVYJt0kUcimJJB0VQnApjvlJtRKigosL3sTWd30s2aaeSrA7mRytBjJhQNjfqlMMQ/UmW+zWKzEohD2rpMXF5hKp3N2Jr9fGbvr10q2tvfsZvpq0DdXO4MgKo+m/5264Rf1wjD2Q9yakfMqjflwYOZ9kVrTSvcjWNcOvIpkvhIHhCe4u5xOznP/cDIpe+WqxPNyGraLj6zbBSeCuLqLu8CDKiPeHuXvwb+sKNCYjEhnCBBkFzbRmW+wOqcuAABGgvUXXwi8EVDN35+PXaUhMq17XU+7+lysr5qIdwecgaPlNAfXOKZSYVOuAnx89OqmOJsVmBN9nvXw6N24OJdR85PbDkzaWlsh+b5N7lUJUko/KZBhNTAu2q1lT6I8mrwZmPTns261nbQJ/b2KuaIGtD58ziQ1KVkDRbwEAwOU0LywhvvsWVr0+rN5kk/rXwsImQDtanVGXg545kIZWoKZMwvcsn8R+s0v9GMquSXBJwoCcx3TEngSvV3JuJvPJZ5iJjdkUP4NKZSmEfjujOS1gTF+BnIbgODSHfbN0yI96REGyl1atduzdy6awUF89z3ZfjLrCIxg4YvyuXbSbbjnHir07vCKUx2ZKN7Z9Houo6S6eWOgW6hfRC+nZhoCsjRR7N8yFKlUYxD6eZDbPR1krypzEwMMQ0tyv4l10cFGvh3mvBZEaMx0y/IIEKfhaRW847JB8x/+OjFnq4d9DNS0Mv3a/pfYFviyvuAOQpA+yI5SWSYHkpexkibvuqFL+shGCB22Uani6X+QPUkI41mZXlgpgrHk/pIS0F6Mdck9RCJKCzuot/EibrfZjDWCGddZzbawuaFa2OWPel6xttBD96uRQqkV1bo2Eqv5+MDqzdtTFYBuWAfm0zUpvCjiuucaZl90YJpfgNgtQ9xaLsb69Hzs4NrXdYyqYEnBwFvNUEZHA/BjhAoZ1K69gDznYFXsTiIhFr3egJ4Zt6XObM31HZ2umf8zT0GrfE2fyEKsJLLuPG0jSWEWewwbQ4P9jU2boLNFIx84s9caNxCNPN21cLt5AMPcsRJxfVN7GiUFXDy6FjKm4bObAKSVFFjDF5ady4IrItg0oVlG4XFRKYRm0iIjXW4vQ1TEHCyq4WDMzKRhDy3MZ91vRgrsLRbxD2e/Y4XbXiCxD3fm04/MhmA62S/Fr8niingCFJdy4h/e8yfcLElmeLOQFAPgn/QShbB7Xm/Unhan7vXWXUKF2oUy9JXPzLWEBO3a8L7HoXmKeUSV7Ww0Efbnmu9ycMMXpyBboMkKtR96LiUajMCTrlPWBZB2i3mE1mn50Vysz1b1JfZbuWUtVuJs1KIomlpDo+kNDmIy7zhKqFZvDxvmSCmLIytKtUEQy5s/K1//8p8WcBh8n3y5c8ZiEYx4FtnUIxytfTwKH0MYdDRcp8OSn7brKFfUzOQjP1IW4A7cFe/V6xG8bYhubnxOAfzipeMaeoGEcBbZQwsIPLvOFcYUBYV7/8jwPjj/wbXDckc8uxmX7Wsd9ZtnCsr+ABis6PZt6SO8EhlgzYyedwrt1A+07uMJiEuZXfFWt/lllQikPfHUrsyiD3k6t2Fp+uGgTwe+gG4xpu+dS9gyHHPUJAswn/8MKRBWlLLXmwTXOoD3h2bVIe4IV2V2Mji+nFO4UlfZ44EZkVKjuIDyOn/qc+rFuQ0rEzT35cHbNcWUdMSK5g3DZceb6QooiI9NcoecaxWIqNtdBzgHBOZAsIVvkheodLkyEWhrja3ggkeJP1JaSDCBqQJzgJAtZE7ieRhxfXjptWnP+yW15+J0UoqnqKLmMCuu83GdngjEgkfdBKNTm6FeirfQuKUcQIpW49aodqWRMr3RKuW1j3txX9tikeQTi9cZZhgM+/I6Y3mFRxaAz3M0DamtUh+FG4oRV9q6CeWJxPH9A4VjRwg/8ga3jlRdtQwizxu3im6WDgofeKmpyEdfYmHzaK/Oi5eal7zLE89sdBld73VK0Pl3dMmKA9+m9RTMnsNZE4eSs24ML7YwjlZ/h8yxIk4aHvEMh0sU6G+1kCz1yrzPvZd3gzWB3u7lHnxQn/7F2lNtg0JdxPuKks09At/4sf/7E5w9UiJz3ZySuEusXEnQggs6cZStx0jFJabpPb2HPnaKTggbQz4gx/3fsZWur6G9wG/AwS6K3OhyxR+vbm40CH+BZ0H3LZJNkA9r9rOeyqDUENLKQERL0ul34HjNjRsY32u6SAm+E1pljhmaqWVhVgpsyVtSibg6u7tw94TxaOKy7ehWrtAQ+EPTMc7wUMtWzdTK8m0qdypwQez5ioc32KJJ+uGr0Ex7AZ1jSEU+p84/bON5m1iwL2FgwqY9dL8uNW8G4CNTG4mzy+X+hrkdMXABSL+bGp1xThBiQvNMQqXPmaKnGV7y2khXsSNqUeWyRIlj977XmTZJ2Hf1CC4xdSHeDWk1QBSJGJFmPQobAghwGQVLhelSigvAvqUOgCRFztWr9PCL3T1BI4gyosp7V3DQqxNt/lO73CtnAgjUHeVL08xKFVA7dvSAhVU6dXTafjPYZk3ZrW2pxr9qE+PBBOPsImmiEWgS35CwqlfElnQ1fKyoPfeKLrSrg7q4WxxuTiw7MOan6zqiG32cJh3MyKBSqA/45zvflwdZuQWjfgeFuj/xQufEWkwsQYxx2/dQ1Rih28zqWODdNZ7KG9jlBEZ2imixlr1mxXTMuct+h0JYMUc8Rmch5okIWpUf7nKuOH52F3K4o3SrGuk8T5YsCtAuSQApasd/9LqsO8gRZiYIKBX67eILExyH6E+FUGw5uEK/NJFU4Sur8nCqfLRR/rmk+aSZr3k/0ZCmyRn+GCfJ3mossJrooJvx2BHleJbweFKRX/dZrw2Mv251DzBqELss6HFurprw2tZXgA+l2zlv+EUxZZ5sVZ/3uK2Sw8eC7ys257xRGQC3U5wz7lLj0eAK1xftuRKfu2E0FdKaAxP79hGOmwxPDDpP/0QSrFQPDGGMBRpYtCBXJdU2BTe4hiaT2xdu+jb9xQaR6D/MMk4bXqX10LvCZo2TQ0AHx5FiKKhMCUwdeiLUm95Lj6xK3n/ETks/NDzpIVDl6FjhFYeiMlBuHr7bP8BNQ982Xl/4YCP2An2DDQ+JTV4FLEDfPgvc9sdFOWx1FJHx0WEWj8GqV2n5DPkxU4OFm0uI1KkphGHDxRxTsBOAyrIf30ROEJzK0b9rzUGB5l6EVPo1uLkWCS3eMQI7yAJ/CUo+2pPi6K821Y/kXCmalGaZnnTqJZ8yimz1Ao2QDGzuIQy+totcHk+SbqHKHo+px0mcXwoIf7SQ2JpP6Lfxp5U7vRycWaG+fc/wl20nvvQxZJWjYznuKbjbZpCVD6a/s7Pm5rAmLH6MmriJRGTGVEM+fADzJetBO8G1KbMMQPM3MAK1A0TOFUXaQnOvhqoGk8S+LD7wGriqYMg+HYXkujq7r4FNMcrzRNvOvogTP9gTZ2u9ZXMq+LrxeHjdLecRCFkLjTMrZdYg9WAmmZoQVtvMtYtWbByT7EdVpoczCTdvv4Gt3ydGcuRTldLZK215WODauSuYX6xmjgS6Xe3/0+CG9vmNwnYmhH3iDdyIPdS6gZPGdkJ5FqOFrKgkph3Q6wLVKrR9v8ywX7zVplfmisqHOQ+i7srWzeAPA9lSQflvFG+AWej0RtFk8zPPOgy1OsWVKF7N17TNJ7t9UgVA1UPZ+wxnQCke2MEZ4TsiMb88TtK/bgp2In/r3t5rsQ93Sl9OyHCVLMgmVswN1llKu3oFfVHFEh5/po+uk9TwTok818qDZFWtbFVH88fWfXyMi+gvgbI9NpRCJuyjcKDhGJmWq7CxGvY3NV2l6PiiSmoUbXd44gNj2YYYcl/rO7C3MzsUNwK1gJlZMd63zun7f9wc+EUkn2qy+SGptUXqfUKsD6pMxZD3Hx/MDdaWYvYnnb35Wv8PWFGOQqplkTXgF4A4E9LKViY8a9eKbWfiWqdAYDbRHETDYNwljwHbkzFDatfgPQ+Nh0f9DGO8fAAOSHUOU7U5iQhrM58K/3W4vdDQxIl5ji+20T/oMDX5WoW6EbyhGxwthxqbsGptYU+kwBoiymiicklYJ/WhskthjLYfkS2NMVEuw9mAhfSK94wul3WV7Fal7Jo+ufUq9w2dszSEFxr8A0dwQaZS+UhsUDk+OMw98Tr6OrPN4QcTjMRuxP02kGn3c4LOdews08MmWz0IfLjffEzqR8Sn4pqsWjqy2g52150/DwmiwHchBgwgcZPasYJI0fqew8w6WsPhta13+Wfl7m4r3aGpSAUVEPQ31O0ZcWzCxW7BREsKuhhnbDG3fR2/8g2WDA+RFAL1HXfFuUmuxEaU7WECmov4AANIWA7vI7OtRzjzwtuxKzQfcHjEWaImPReia6uDOHcPJljU9mlrOZ9Fc7DRYCR8KmlKeR98gTcG8OAt/qk4qqnDAncmHHe4D3+oFY00IloD5/pEk9IryfWGr8KaoMYY+bMG2SdA6PQk5Vkm2nxXIjQBHcr+7gyJd6cIFfoFjVA97KYfOaBMgpTCCes2Mwu17jx0woRxBnYUakLkRwcs3eZ8QSlrSW8W6wpXOmnw4Kwnvf5y3CbGkD4FYJnunSMxyznJrSQ754L7dsNjFlRAuO3vuaW8+NiajN6KtejulapGSFl2QDZZcRc6LSjFfOK2Dk6pdcR1nSoZUCy4dPOdutglX2VbcR4RdljJTL4RsaJht9EnOPlRbtapAMnwqN06hF5vEAmoP9m2lZovlksRyDwHaCxU0QN2xSvQlrPlPKz1ltni022HazgDH71248rDf1OWkbG1U5ABmnnvvqITmYZLUJRjjvxK6GPdrBNYHmjKEA+75naHOh0Bkmor4di9YWdSJ5QvFvenJ5IhsiIaqhabsWwnbvzCi4q01DGSHgefkBuS/KfUlxHdGEGXpMnQDVzyYkR4D3YYkEZYvCdoUWBSr8XrAvG9krsZn5DG3X4oXiN4x92r7Rr+Qxj+s2hDpdNsxOqChd4j11fKX8zOcQuvYpkibyn1YlBDc/hc6kLwlucLKNJC63e7hZwb7uHSzcKugIpbwDm8BFd+9Tr2bAxtgJ55ffjUuJ1Q9qU94N4RMqMsQFQIVSm3rl7gS5jRtnbdwOmPYUVdb+k4+1B73kBzid8ZMofZs4wQ3z91B0ZY6R3d2gzOWvW8XcZFpQ3yzBGNvvMsiij08vWwC/bJXjK83sAZg8sv3zFAOLwYerO5M2Nfz0My6NWh9j3zT2V7/xZU7SeblxE9OFv7eEf9u56ov/HQdmATluxIP7PZOk9dxqvA2nvRFKz/E55cEQkKF0G5bPwDHWDrMSDOXBTr8/B8BReT7NbcvrHU0ucgRDTBRW1folmZ1C96kRI0iYyli6hdj2nS6UMDIyrQ7dHMd3VPzBY5IgxYB39quH5O793jwcnV5tQSbFxehvTbVY1phsIxVMaLIkdE+ERgICuOJXIdeLBqb8n8JksHD8KPY6V4ea9ek5dVGPY3VdFVvOhLGAn+iKownbEmGFR4Iar3s78Vmo69AeUYmi4XBm5SUjPAfYDEiI8w7lSOWsMiOxw77Np65kTwYx/h3BfvIdDCn98y5grmWE5dH0UXUNAaB08B611wu0ea3xOY9hwwadhnBx+hITnyim2O+TRlFIn6rS+ywv85vrm32KYxjNxZnC3a8vA3oumjjNkpaHsDj2mN9Aiq7LPv0wsSDJIxqaHe394nQVrunSSwM3jqPeD/7e80TD217vFe0Hi0ygW4/qKdd4zSS7jMMN0Pm3twQNB4P7Qw4N09i+Hfu41iYYyxMjbo7alNrzH//gdniA6jFF1fvTLOnY+lSqHqsd+eki1qUGOH0Uiu8DiJT0FUOtUdhSQPoaGGrWuEwOrmTkXXwCGOtbW0sLF/cwBP5ITE6sj8Z4r/ZQXleULkKwY+gVqsH3gg16unVIws+iIhvrug0v4wAh5jt+XO4vkpf4stt5k261R42xfCxcAR/y+JIgE7nzdn7FJutOG1Jm5kzwD3lUFZN64BUTDCoTHRcgF0s29URAzOq5WWl6AapHRDanxyZmO9n2eSEsADOm4EfJlrxS4ptjSvvO7cxMXZ33qif/kJwSJPRkIcVi4tR3jx8T3awLwiYT0qruoxBuBWO1PQUg8GMMQ8XcIMG68mnuaLPFqta99RAZs502DuQJZmGKCkLrrua2C79P/sZGdFz41A03rsSW8mLU7hOTdQsVxYLfwMuIRqLzU2pQbX4T7vZfB42Yo6taurdC5ds+jvmdBH/18OL9llOANCXfUJ6Dy75g0gSptO5M0PYIP1zh+faWn1iqy7fo60UgYu6K9HUG+r2a6As8zfLuv3MYq2xXDRVnGv1BLRm3qXGNs7He223XIOHuGHigWYwB9vidZG1MCXzCnVnVq9a4dFtQqBsu0cCKRYjUKDoR1yEzLU8361he5c+CcZ4GDw7MAVgkkMPpPAfIqQ4gO9QfjWzkphTQxJ7BBCof0d8dLEMdpeHzuzbVNnSgKJWTkBCbgfRGSBopXGeAyl6EW0GGmbowmM0xomItkzjoL44ITTU5xU9aqlfGnUvEZeOG6ksBcqokS9wd2dk8jz9kLnQoB4tRhii5N+8sxrGfxojlU3AfkbR93QZZA5riFfH5GDfGcy8SVOHmvdnRcb3AvYDXrkU6if8jUzHqkRkr0oyE7qvBsIf+xFP68PRnbVLQ8PcuwSSH2hAEJJZlG+3SVJj6YeFjhYRZrBKflEuhm9od1MwNQA/cjB1JKiLHEBI2K5kuKw6R/cJLxazRQw9cZCBj+Ns78qVOihZUxTA1hz4lahZJR8mQHufFEsPSGrnqXIMXXdyDepLVpneqZITmwikYSMQSGcNqkpZq7HAnZOoJGaHFS4jBz3SiMZqtxONr4PtnXO62FiWZq99FD0yaDPVMaxBrkhlodWFHyt87GT1NTmDRn4qTgBAAEvJGQqKQcQ9ZVgUOzQYPupsF7SdR5vMVGbOmsTLttzV1XaN+le08lA4mKs14n4BlwpH5kS3XNJkL8o5VExaWSZTl80put/mIeLW6LjCxkAGr6hwQRnjDTmwTuSSsF1qLQzP5rtBg9Ukq55oI3NCp0qEr6mWyAFXDlWRK7n5ngekCeMdu3gcyqJUoFc6PkJ8LJLvZY/YyYiELg1wbx5FQSIpE9vdPJxL8hCz7uD+cQ9EajXU2vGUeEM6SvY2JKAnqjMTv1sKf59IZ2IlT5bT/Uqzp9WFT88KXL2Iwou6EKCqhkREmH/BL/UuKU5R/qXNUiRH5Fjmjc3SUnJW5BWgHXFfZEdcIFEBDS7OGtGrNT4/IIoLZ2sBFDD2W0WMnSCtFCWLav8RlUaSGRtzQS4t1urmHMwXm+TTpzjU9jYSxGP/n26S3zbYyiPvJd18Y1wTwNd6oWwRMNEfhlR9dOc0rH8Wgh+U/rDDi2rd2JDM4iXGVEVnm60gQH4m35yvBQgK1WzUKLOov7gIGoTff/ufpqoSDa8nE3KKsRxr1jHchh/f3aOaLLllr0A+cMgQtSjmf1yxPF04ZGRSgaVN6EnVQl7V9dUHyWgbp4xfKeZrbnKy6UdIeJlhlIUF8ktCiZOatpFrgttUBlssFHMlTvHLsLv4X1NoOugzRHjkMGF32jdKO/O5GAwEMBHAfXGbyNkVmtKm3wtCGcLC/13WAtFnrTrGrlZlREO/GFcP1SxPZQlw02HEjq62U6Ho/jSEbNpwR5g0FYIm6WK21fSBXoLWYCiGDnhohaq9bMXkeNfXMXPWoXyEil0AU14eLoFktXhWCjVRRsfyyytpf2xQ5jyenr3PX5WyS0SNfqgZZrrqfyT24Wr0ISofH0mAitFR4A0K7oV5w8ykCPXIj81Bu4RcIQMVDgC/hUx7pcnZfwc/BykpH2pFQCzyB76Y7EQYBZH1/bs+TXVsJH8zzttFG9+LuY06Rx5Lkq4gBCd7fEdRxHJBdjywmWtQhxVYNqqJQ/svnHIUopx8Q0SHw4AAfjZ/d81vW3mKmLxlRXJpPDd5YTeqMIxqC2Q52tLGHtK/NMA5f7s+YKrzkAPHLAbsp8+xf+bG6967Hmvofk7y0eOfWj4VemNDD8Zqku8ALZpATv+KSbrykFOQZ1AmGv6waHlQevBJjpU6zS4RK37/aHjUpKwYHNbctHDd3EK4l7Qk7GVmtkQmWoUUzAARf6NUr6tN+J6FsM73rcj62em8V3NIEitEL7jpAreeEUM6r+C6aBc69umuQzL/pJ+OOp9/fktard4WsasP+mc9ejyGUI8pTxgZYEt9O38RCC/qZYdvs+DyYVPPsOhCJkmPk7gD0vzpb0TsM2aeqjMhlqNVdPew5GzLSvLnh6796MUfacEoHjMkDkCfOAzOaUxJt7qpqHXMHBatdtOUpODNf0owUdorMGInULQWGwq8YVucK0kuKr5cmOvgbHTv6IsVck5aQmCcLRn4r0nj7Icru1WuYWOGYHz3vetAPaN6M4OIIBcPV224cuC9gJZXtuwulpZQZX1SPzAQc2MEzGcYpcYMb8eV4fb2VPhJEZx+b33ElTg1HNSpywLLPiV6On7CwLRom6vIj3gfxr1SL/WwCa4EiPNy0+v6QKXKN45C2vVx0b4KpSDOIwlbkE7ES52QZiq6vniIT5Ppt3E/ywG4huwoEd8jW/kOUP2O9oGweMDeM9dq56TTGPPVvu/9FMbpKiD68KX8WpiEiZBqUpfVuyluDrN5PFhexpBjsOkNqeppQG6rOVYkRRfOWGYUZt1wch4Hl6+oHYgACRp/XYHPT4xZIrYxETjuvTCyYADg8h0b53uaUDp3vhLdG+6t2+kiZiZBSRh0/IZKb99QIPM/ji2psZ/JaIBVpKbUUUSvJaE1AGNzkMSroyFRJawySwN0G18u6c2o1jCT2vWIDz7SHQgM84uS+uTGTwhcaZ7TS67bLOa/4/GHB1O62u7LnkdK78coSrR0DupWj2IC6nZj/rF7/AMObmhIFIx39T3ZQAS2Da9tMPcEraHn5b96VJW4U8pD9LdFBfuIBt6h5+24WUY8oKF2SPUnU1dLMGi+uovhpRwN1CuyWpk6OYqpvyxSUSED3u+WX8pymq773fcDu3THjKfjYoOl+Eng6GXn5AiZ7q15K1vbZk+GvOSU6P6TN7y88k0BftwtDNWL3v0wzhL+7y3hv/RE++sdGzCETUPM4RuGp4JmFdA+9b5n6xr0uISvbj6tIW7x/aEaAoy8EJEwJxj1rUMH5i+w78YMED/jOVN/b4+SMm6yTdYZq1+qMumSdzLtAESOm5aRZaaU1ucqDNNM+smcPcLUdJyDPo/ay/arrtPLNypxjVof3ZTwPF/3XpJethV8wUjlyvEBVfOluJdtTTSOkH4wvw2iviRiSuYPbNXxKbjvTkCU/5KJRyCOmUeLtjCXiSbkVcyk+pFjtzBLvJL6PrlCyZXKrL+3aODcPYsC1fmtFB7RHNoVoXNCJZbo97yARkCXN+KAUdMYC7NwmsE1kH0WdaKeijkpHgPp71sTH/Qr7Bf7Ks7KrLTBqXdpIAdPVt1PZ3FQn2tq71IVueGWr4+kcQYktdrMGd6PDPhF6oj1ROtjwygcrnGuzTm/XWyPOnS2hvxO4Ua/ODn8H1sxVswNk8/SYGLkv9E1LdHJfjTd0Xu8xv5i7/rWY/gcohxi25Btq5cpBolw/om92uyNu1RJmG+4dVuxTrBkZ1fuJ6Blq7FiS0ZBul/wZNWozHyL4TGoKBwQd4VNw3NM8NpryZQTAs9qLkZMOpPB84URd78sEqRsiOnosJZRIX8jTm7Sfi+q9OPZBoVY6LiSA9TC2EbbTsCpmzZ3yBdxhDYINu89qGec1115otnwq1j28pS0bqXr2HawrhIppopz69/2k3UBxNsdlx+wtzLHCKEAhbhSQPdtl5IC+Ni9BakwX+YnDQ4l+J8jR2Qjbvy2be9day2pTCBdFrhtQjcu+YsSFAOD7VuiU9lKcoueyzFmFNULwAVAIgrkJCgfRpVK2if3UbRtialg4ZuHgeC6qipvxPM0BbpRz9nbK1v4e2Wj/k6AxppW1KGY9B5KGSM9rYpVLtalLvo7MsUkIIkAL1f/ELCVMbmOHT9kDVbi7VnHqD4K3PuT/UtSY541HPdll0K2oY3idBQmkO4Hf/UwGDIRzRDRK+N0JiSOWyUUHU6S+Ee761Zo8t2QNoeAwaHC2ZF7338l3ldTDSxF8lX/YWAfNBRA03/L9OoE0A8ftyL/1DeKGCSGjGoMxL7epKxZ3tJT29i7Vk41kraNi/WTUyCojeTMaSKGbJTCMXFfZkGuBPIGVmCtEUD1ORTn28gmIzISU9TIcD2WgejGBN19F/G5ZMa0knPvKYTUL1ISZa51RGADeQ9lD9JJArx2e5OCAMosn/h7lHBbpE9Ddd0FjCeq3r2RJP3bw+3YoavzYblPo93bSBiTbxBKM3Bydi/11xTRz2cnUqPLfKB5Zdf0m4bcou4mZqWVYuy1LS2qIdQJ1hYzAbiYIqHqSc7txA2/6f+FFANhJjq/5OFtDw7Dy2XuUWjTMu+L6Qdv7CWX+VNuBMVkj2tQkfcoT1vK//ILaVMeRU852eCly66dp3AWK1F0+AJ39rzStDEVY2HZVA8pDjWL52HcDgeuxaZiHTgifwb+6+/lHptIAVXDPdw3RjsbYblMgELf5mwRUOQq0cuc28u7r4KCRWGPJfml81rGpck5Uh8E8bV2wmziu3ZThNNyzjIozymnrvWNw3oBJmxeqVTl9IPWf9+bpk9Pcn/fwv/8o5h32ndPMl9ka57OGvwNTC079eH1WnFfb9tWVpTdRVoyaSVvfUwlRF/+bWTJBmfCVKE8NsmUgEYNW6+WSUQ5LFoAExaM4j1lMopGCtva26VDIFbKeD+OsUrZOUa/t/vecfGGbAyMbNS8BISbWeYc2cqBqRsyKOonHDnHUfkXmeQ/7HKC2pk3LFxeUQKv5gaIN+thTbr3l4O/1nOf0X+J9YaLbSgqz8MlXNCjcsYtQwJJ2RKAh8VlBnU/++sb4iuQtuOFx0QPWGqbWcxqTTMhbijvbXWEsLqieHhFhCxyna2kuS08N1iHOQXzsSbV6uqhAr04b7KOfbLfFPEz+FP+p3RW2q+odIbdmGyQ4UYbVToiVU1i+GXGdrDSOKGnn9rMfvzJ7hXLFVqEdelCS6k0aBxcMpm7YfMO2mZ0wZlqbo7MQQo+cDzLfJFO0o8dF/kdgsz1XsGsdMablUTojy3nO6jYqjivXJh8bIdlh/SKzC4YZLZfuRIX8/PIP8rtOURb1W8BcYL9VSL63lfSa+RI7pDRJWWyn9fHl+cjcNTbpayuUsnndf6y0Kw6OGMiHtLDiB8y5GRs1lqvR2XkZk4juEPMzUaC8blbNFpKEyKu/3cOZ4pvNSIfbSaUeRq5JrK9YtU1OOgFO8zEb+Rv99g/v4z9WCMcEYaZ7bWkdG+owIcxa/lBM2XB0SK1jyaFBKcXOkRXp7udcegqqMaYdDsHDFGGRNbvrZQZoNh61s7LhMkbzei2luIHKn5X4CdU2HCIL3yBbUgysbLKX4y9qpwkH5/dWy7WYjDPedjuxzhDcTz3GK8fk8fsw1jz9QSbHmGp81FqtlUjkOrSHhwLErsuyFKDUOMdSoXQLPRW23vuZNbyLmfv0W3NsGlkWGYgSKMaLyx9+galdGbOnZ59XvfxU33agd8LL+/M5iv7WVtk1yKxIy+fWgplVGUWuDrYaNEg6o3HWmyGFi7GZGbCPS1UQCndvraKuG+YjNbgTvDcH08RxU9zuNN2sbKxbEWSzi/FeWXtIjaLwlemk4JQgTVM3RCIn6EfTMsqzOF33f0xV/bp7HL24pZP/3ynlXaNHWd/Y93mouRPQ4gwnW2PpcTk0DRDBFUnLiC84XIyDdHh1JQ3gcHkBT6NGdBQqVykXmoNrwysrQxT79bqOWMX9NPDwBwENHaY1s+U25F9t0wbw/DU+jtXhlgMcJiHxkcHiQ+PYFzip3Lk0VdlxZw+MnPcrsrJ+f0Zp/t6H1XKNPfWhbz+8ayLk7XLuB2lkiter1+ttduZMoTsZ/ZKmrBf5iwSxoE78aXLwaK3pjtlo3+zvnjiY9t7yD4Eb4Wnef/RSeR6YY7G8+UKhhCh7VOS4Crx6cVsL2IJn1fWpVfyvh//5KU6T8aqCovtkZE2O2yN8NRvl3BI3TV1K42x2NRmu66PdjmO9rZAvAW4P/W5l7bAnSLYm7TM0z4bROsCaVcC8LfFztAOII6itH4URzg+lxeCeoAbPT7swtiFHqCy5UixYRqMjoMKbBaFEBY05cICyIOVIwdIt63aNjnyfClSLOjN9exiITGfw0WnQqyvf8eUrMM88xcncZhB4G/CqPVImKorn1ky2x4usPMQU5xpwAEqMCrURAT5IiEf5Zy497Y5HT98Z9pzrue7CB6DgpDTHAKH6MRC8O0p3JTJx3JnA2w1bDD2jiKA0D+uKW8EiEkt3WQSJel2TVxT4MkhivVdqQ+mBWX8YqbwUd7vnY0Kis53ikfpnyyVQFcsBzWI/SzJV7GQQXrefm74lZPLmop6pd8EN9gOQAAAMmL/ICkag4QndHjz9cFU0pDyNb/Ad686t6OLGPaEjt9CMG1ZVKjUnkKN/9Mbr223owKq7vqrLpvxCQGO2URYP6s+aZ4X48O8wyuaXxobUZH1DI2Sn+NMWgA9IWoyGslWDTGo+3ggY0wMVDBz+1jyCdhLNxR99DaTGilJUPOqzWfB1C1WjuAsN0BqtKnWVsgX4iRSgJ841pq/Xz/EdJhdRVCXR6ehLFCie8S5ZPi+ub1zd32PgdsCezVpTlJqjXYkAkrXvfwL5pXuv2yubS+VRd6HWvN6Qr9WCN/Lfol3sSbtanPlJmGKy4a7Nh/186YyLqXIBG1+kYb/rgBCHH+Rcj7fBdJuDManZwRKAIIhQoHbW+GO00tub2QABjpEqaViW72KSRi3YsWmKrOHvFKKosNIq4up9m29TSulbg1G2DhVCYEFKQwqS7edc1yhWwlNvp44or0gzj5rxgfthxJ3aWaNFHffSriOAg6ZUtbIx5mWTn8teBTAw27LE/8pPX1WpBe3m/71MeGDb0FFUF/5F7bsx0Y0L7bYGHKO+CM/qigv6tRkeJVeoY+BeYuUADYNrh+8K54eP5ttGM/8G4QFOeHSSh2R8R+NDqe66Z5da83muMEEgRPeefEsc8J3k4eQCyEfkaXtEg6xUbFlMdwIHnQwkuKsnfQjSpWmzx6ioJqrG+7rn2AYM5mFWkHQ0RUt+/wL7eh+CeSm9rOkrUTq6gbcRwIT6LfjD4NagFiDr0ZArC+wp+XfnZNP2bLEdF+1yCzeq9uIXBRnWye8A+b+/PjnM84H9SLk3ekkB1skRnDd7OrXK6pkMiRoIMLX4Z5hzE1r7ZzGBYn612pUVqZCYENNgcmfrlAkCD2tbYd8F5LpLbo6GhFtHks4wIX/Lu8FWGme9iEDwK1RgT2NtXG9FhdPf8zpNtsRIv3aDpfWIH9kKkt9/vz8z2QPWjD+3Mr2eenIOsOFxt34pTMPh7Voyp1rpUHePuFsHthMV/COgZuvJpOgF59uaxqy0i9kK6NB0fsMFSjQDLM9wnY6OWpq4BvnGTCTpdlqDun5njmpuZ8aI5pDftRUCfuVhN41O6hiaMhniu6fpHdnOMm7pbNTvDbSgx8TK3NSYzMA3cCAk6JN4pG4IdHD90rSLjMCq4W+cMGG+6uL2tB/+pjU0unHL1nfno/UtEoDInNpV4wuzoVv4JH4u+dpilUybtObB3Gs1wvkHZmhtFrgFJ7sldSE4EI1vwLEMWUAYAZzjmkKtnr3+6qJX2ijxFmTKiJCqelvEjHrFMP5awSl8RhlgsnBTGqh1pjMZoQORqOYv3p3Z1tH+GxJWVwSgn6b1TBfbSegCaZWvn69HYv+GrRSCPEaGbfFcsZCtVtSEx7Zwpxm2yBENiANJbD1TdkMnx6vxb5ctezeFxyDO+85crRz/Gn03avzY0FFV845dPY70jkb2PkVKVz06asFAsZAWq64/GYQihvnGtrV1cIuXCFU0fTC3BamtNIUFu/E6dYpMZuEqILlXxUW9ejDBAJx+lce1Qj8HZ+fXmVOtgmdh7m2hQW+t7fpQJ9NzolcS5PBGZNaxFSCyYQ/B2CVewAtmoQPnAaseQWvfu5TbtU3ctKJmj59RYsBhEoNUCJm7tb8vuUwNgS/rgtu8Os+ZinuaIBDUfzJx1WpvavUCXy6Sqqsl8SN1mWlVabLjdPOvINwcYeR5clXa0u3qbnLUSD5I81UdqT8Wx+1QnWQiSszQgw9z1vgKSnO5I3vRtXBmWmXtj0phRqEAHUeurDsRzIEQCoK9rp7vsZ4pg5TyiRKHo+YCPcdu5mWaYmjuG0gqHvwTjNhFO+5LIzy888xEsP2Qn7yOKBZivvwZeytc10FRIbwG6Cmt9iIK8u6jyV634cOWXezgQCY1KjSDiA/HA0SOr0WStNSCdc7tm7doZhsZIRCiPu82X34okg0sBkOuMYbq0vqCMsrCCFinLNK+A1qxOr6AI/JHHce08sbYdWdWPac7LI2sOyogDTDAX/TxHlq5aa0NeeQWb9DTBtQFFKMh+VUr+1J4Ndz5fAxroaoPMyCJbp9Oj3uJD+yzl5o4GqNlzKi7M6xK7QbG3MT6dx1xDG4e69k4nelfddFCqQzkBXYTbqs7ZGhAhUNndGgIXA0g92aPG6fvp/Pyep5zuOxlhmWrFlYGKEEynj4MIfziRPK45YJ3ssuxdnfJI+iwrro4BR06m1yKlsCkipgLlXq8J7sMkgvzKqJfZh+q66O+Y1TToeLHQxt1HmxJh52ml+82VlxqTNfdVPLWMlggTjpQTX96bEByzSQTu894LtM1vFOP+FfBShPp6sm/TT4mtyYo28pxthaCVtlSkkqFCZbuay15pOyjjDQIhgKkQ4AatrCHxht5a9r78BOVldKyOlaYnAeHrvmkBZTXjPnsFs6DFAFGyX0qvlDAynikndL/Q0VLz27+uvfIbrNkU0igWCBEUZxjEsUKD22G8OFIXyBg8gNstHld4fuAsBR82zph/Lkq/PbnNQ2Y6p1LvFCv3UYjv+2zVRc56jMwOqKqBZ+m+C2CI1bOnfOjw66kMw4FvQgGxDB052eZNrxDrQAFxUzz7AZRtsIoxEz62UL9Z1HSoYSpNsvZ/KdU1S+DLTpEZJONtUr687S7e64MEQK2SKtRnDk2xxnRmV3wDdQM73ITCUdoo6c0bQcxcNqMg9z8jTEvPyb+ZV+lKBvDcELJqsNvInxTRfUM2dAuipPVIneuRtTbwshJv5jneELpeQ0sNjmHpQZejEE9fePaWxB7ROynUoKv+d4NY5r2EqVqu3xvl7GSP2nXnGSZsXYqRKWW3cJ4jp0/Nto/OvYWRhDVC8zNy/cxJ+9/y+DUaDNZa80nZRycc2NjS9GDxnrqQ8CGXux5pvcYiZwHjnSdb7xeWMbseRtxryxXa5f5ut1S3WrT3kIzMGw6lTs2apWJXkqF2ttPtCQLkvo5UiZPVVHItJG8LLtzcvWjmjIfgcUSax/+4GI+GLsMn54MCIEE/2UaIfuSplT2JPcLgwwoYH9GKHnuAFI4LtmjIcYuB+0SIQTZHm2DyiWBAnAytUCN9hUdxe/+wMILIAVbzXlHTB5ZS0sKXaiouBDe+2u14pzpNlXin4y/3yKWWcgRi7t8d3idjH2/LRW0sHSqqYfCemgC7TH6cU1Teb8VhrOhmS3WRc5VXgoBbg4WvuKT0Q/sNjcLmOwJ/Vrdotxj/J9LYs3/H2181UIQK75BpgHIGKtig/wWLovACDN9EFNet/TwIODstWPn8uKbh++Mh0dtUznfqRq5p+iIgEj95SYwShBkmh04KdjWjlKTex31vgO0EpRYV3UDP13g3HFdMW2umRp90c/zhZ3VUzRCHTecvIMWDDTPKMcAMdH0wp66jh8sIcvdGKlihCoOfIWEg0oBA+VdB+Oeqzh5a1k7aULJ73Hl6a4oHH9GHrq/QtE1iC7d0IuNHladDe24BOm5/W1ujum5e27IJ/bNZH5g+VjxEGRaWkgp7AnzDmhZ2Y2eIdU2zSFnXgK327RPsSPF8aAspviOMq1FybAZqewDj2fj517HVmthy5Aj0tkrEo9yrgtR0H+jdOE4zm+K94ZXhsSuyltjE+z+kkFPJ472mX6XiHpzXuez8u924WQvJL4K36YLlZ0uk1Ac1qwqu6/lz9TrNHUzw2lTSWn+7nhLDVWXD14QEopYsLsqwhirh+o2KDTs+9bwkHiFFb97QX2GmgqRup2BGHis0mOnlEgk3iQpb60HVo7ZyHoAL0Emr7BDUWiXyxwrzYYOmJ7ymTx3AMcVYVuJdytui8yLFZf0tu6WmJC5tyclRM3g8BIc4BQce55ju9Lwcc3Pc2rBY+oeD3JockSVjL6CQCqDzwZ//XE4XkmNcpIM76YpyH9GhiJ9MlntaRK/JIip8xw9tZDE6MlKuVHAzaYbN5U8Zv4ZIWNt/NFbtj6ZfTLy16Ffn+XhmTHH68GcBy+JlysF34vZC/lUOvVW47DaH0TYhalugKQEvCwNuU2IRXyYnRC+x0PMG7PE/mf9wpAmKUTJDSn6fGi42DMncVOVwcDzyHwOyvlPmhHu8mXQn0DCh6fDG9ov9HxLwoPYWmbytnnbUa/yaXv2VL4rLAyMxkdst3eVChVfcXP7fmA7lKLO0dv2YGfhQKJWb0oDnfViu1oVIttpCiyVgoEhKB/bDHQxXI+XgNqMJ7h1B/5AZ4d0B6mx56jwCZDcC/fXHWjRTZUKs+skjFUUrIzLhw+sRE6VRIhpZ4F7KPsN97xqxV37Yf2zg67tXTWIDwIGkfouS5Hsk2e2hqi029U9Q1ZqWR0Q6anhcCqIjkEWhX5jzawaoYApwhHoM7nXtdffTTjtjfyzISJWgq2sW+ApPFuxWTUzGbp1pbaillhFSGDs8vKHX3PWFHv38twwCnBN4HVRZ7iMHOrnWglNHrnkz+wcnvHAhFpyw2Mvf1Q45pI3qqMe7kppaq0iR5Vp3aMOJ4FschlJl9C0XoA6ceFJ1fajdJa69kGl0tCw8oZg8kImRZOLvzCl+yodEaPUmPxI6rLQzSVV8uZSxc17dZkwdo3Qve3EFXobutMan7ilS4EWq3l6MWcQmC0HYAXwej0YxZNtSCnxbtbGGpM7GPE5SL2PVvTWMJd7rxpVHdzqoOGW9FBMktA7yFbXzFbLaWsmeEX5LT+wAaaCfhEc+fsc9FkEz7ubWxgj5yhTAeiohCuRNVts5GlrLYy6liRMqijPVWX8/MN++vP8dt3RjZc4W5Q7dtS8tIbqx3jEZNQeNQhQ9P9pWVIo9x1Pgfa8vQGP7NAnpz+h/xraRi4gTPubvrjfzfiThq+Hi03TdBPJ+OMtZWIgJuLhvMmjqgyTybYAibg5kfMJGb2Csxt7iCMHkhEyLJxd/AISCJ1uf+xHAzBWGYe+sdJJM9qAhOb//TNZrt3a5LYZ5H3lfB+HmwGU3M46Dpk2OU5reWRpfJno6DVs+UFzrnVzXT52wXAaks2hZsze3LHIgggZRR5L8CJDZnxpt6/4tE82seUMDcM71BwYrWLg5VS1jdm9WG1wwTXUQD4f9pntEMX+mCdpX5OLiLOZMHaN0L3vo6K8tpAT4jLOu7NIntmXigW6i4c5HX5ZZdck7vw+Ub+gLX6xHphx/xyvihYPU3jawvxpsZ9q7SJ8y0vEz8H7kAdhOMtIWl0EtiPbBuMG6Caf8PgRoDSBlu/giHONDZq5PPhOS5VXkElSW4f24yuw9nTAdoS/rqVUK1gR/rQcBdswS4TG8VS8PhQ7RiJ1CT3dAXsJvt6tNfpiSdu/y5NJPExOQ8wF8QfkaNJKPJUe49aP+Vj64duCl8gVZ2eQCMbPWOzUuipMj2/ZeawfoMCtVdgQjEEb57AN9KgFOMQQSp6aAUnLE9NFqgYQrjF8tux5zYd3Ru3kc1DtcfCbHcda8SiPwmf/hQVyP9FREoqsfiBViJAsnAACZ9P/8yYI32JwZwg0egHWdk4dRkHW+Ws7hS1nIrgairkIYIO1GjSRNLY2ty6hIyRdqzxAKlwjEbAy7ErCfUIoQX7qe7eBLk//Tx71iPsdY5w9LdysroP45Qr2w3CaaoB7TWSMTmgWx/uzjD8YuQJUerRsXgOyuHqzH7qSMyEB47iLrIqZoXsJdBVesTvm4+8S7NRgeXXM3TKuRQOqUJCkfy/upro5z8edMfUZF+LcY7y20PGuqQLOPP/gJaJdSAmle7MD/5wIIgGp2kyDrGFkf/kdSCaovJXDxgLWQPFaINOgJ0dIcjxuRYFW+L/RGYwnpY25IvaR0hTOMX5e6FUHJf8mdBF5YHxo8GfcQsmW8NVoGZumZ/X9jSXmjqZiCfdU6lIrXkvylczLsC2jQ90lXoYnu93j68/V7N1xwGnpyKxiOOQHL0MNr8Y7kgBjizoTETDqgUZma1sHnw8Y0K6Gzkvzji6CCnIx9kl9NEw1ZxHQJv/c7n/WHppmGAZmYm1rsduLrbInYkYUMf1YlJHJi70Smz7YEnZEm2hf70fzbEZRM6VLxeov13idfRHWXaPOxCvrIjv065y+SiFavKp5LXMEpHEbqUSFAkF1y9+gxSutOxw01IbRvYQLRTLCKAvyyKrW12wU4eBsIwxczN+AqCOmRryOWxey0TH0/8WLPNZmymuoKicuaFQ9Ag5sGBo+2Vr+ETgLHc1Gq5cAr4aeHxTEjMS/MlWyU2cdtPgo9HKaNMFZK33tgzepEg3aTbTUhrhWMLId8JxMpovfV1/X9Tx8StWNLOB0kTECEV9eEulXwLuUnZdBkladyPf5zY6K2UoCfMfbV2/KUN1JtmOhHPjX7Nk8hItdXJMJORYHUmgyEqjyvLWA5wF/9wFvwkqKhy304+gjsG6s8vTRYMLiTYajLYPIsfrZ+sU19Mx32a5/CvQhMT8TvcyVp/CPG2vyPJw6agTbjInOyVQQbKr+4TbdnkTPCziIX7bCinyPmu/6zlN31HUATUeBsfzmZgl8qn2bM3eJR0dO98e7dTqzVRMeP/dTtUkYSKz07kOaul1IgERh2Wa8z+QhWm7v2xTSFqGzglEKlJiI8vPjDZCdl8eqdWTDMZsZueqTeXo3ugcnoYGZfoGXJ5ZfGHYdyDICrCBVsZ9N+fTWe37FDMtauYbrbFTMyt4svTZzD0Y7hkxinse9EulTaPiYdIz0YnLrckfywcfZeNjhIJifJAjpV+gGxzXYfNsJPs6tkZPfYBa7FOAStUb3XoMmc0/MNnmEGaZeoMNdTx/+FtR24Bxsi/cEEKdrYzRyTTFw0OfpaVX5TcCmrMeuvePOm1UNpGshQ2nugvLcITb/fKeGgUMJbcWuhzXwj2H714VUg6kO4sBYcXhP4FjuvSab0Kpexxi2bbztEjpfelRV8l9CRxjqMY2UKdq/i+OISUZRVSzO56crqyWV0b50RQFDSIYAGAM8p7EJy6Y/aoNx/S7zwMox4vG4rE5Hmkr8mHhFqfvhuprg0YLo+t6mNZ/bmrWyy3neuawy7vd//LGGe/Cq3e9aMet1Z1YPj3GZE3f2WpnWypPvp0CKkusv4v824x22A2vc/5G192/Menn8Wgl7rJt+Pe0xaJSra6GARmifKejYuZtrwDLnqU/CvJ9pn0MMoSlr9Y643AzNQnYsCincVi45URIoFfRIYFBsUKuUyBvUcZ1ZjCBPuhz8C51D+HwCWQ8JGmLVlIlyI/9+KiONCtyMmbARCzx1cY91WwQaVngiHYWGNslUyCQxI8yo0aHxkH4fHrsqnecmp9+yNFhzSx2HkGoLi04WL67MWhjHba7FuVAtOWHLr5oRaQe4sJ17LwqKg8AFXyhYUsUkDGSOr0YAe6QR5Ap35G4Re3jhQrWJpPNGR+NhOr2pAs7DYM6tn0wHgBnBUTSDRvEXkZn/otu6HYj4WlwyeoY4TWsVwVnCIDyFL1xV5k0kcQX6+Tt3XKE2K8UGA4HwtJIC8Q+aBPowRiRQ/CqhkeCS0zVqTgMvp7HXzL0HH9OPXe7U6bzu3yoEZWQ+rtE5WXaAiai6EJLXAGrxH5RHId9WcCEhRUekd6VDsgU/cTkEqvzrg1ocOcKcEVKaz2OXVZMP18gbfI+4MxGzvf6tE+FpbII97YR0WiWHXhtNWR0Sthd9yr/YoOnqRewhnBXpbK3Z4gDwTxd6P9uI4kvoy3m003irJdiSBAC71GVhEdwhxJTh4BJ8QOA7lbHdCfASXlwtKd97OjtIZRbveVHGUwj8VfORCEAX60u9i7V7sQaIqFU8u36Ueif1psjejNXsLJ4SeSvq9vKHSu319KapwmcqyNavcV8ccfTYjdmnA/78fOQkLnCbVYUHIbEIbVHnBx9FoSspM/6t0OofrIb15jE0UAgnn9o2Wjd5C70+jAMxOUYbVyap0cPj234n15PWelzPGqUqQ+YAFqngADvLaP+mWPgiE6cuFx8z6j1bNH9zbpsQpPd9eGMUZz+tfGVLclL+7bWdYILYgfkCn1ZlXAOSksmHlTewcKnqllB0bKNsxSxX34vnjlY2QPtpXy2heXiW7VHr7vsQ+HE2nB1HQwvk037In71oY0vhTq2y2YK18ScZu58dzW1Ee4/yBCaV8RgwCF7LshGP6cYODuJ5+zBmfyz123gNFaGKYpOQHAVOia5JKWJrudeU+pyGKb8Kvms6rFxkJx563PA3UzItuzeynM07RSxUgO+fbyAb/pA72MU3wys+c0MzZimvkmAPPdgTLuNmPt0/YsDwADyz/6NOUHldF7ONUxYfphMXjWEOBSjLVZXaE39PGz5MIktjnhWvTFbTQ81TZOw587y6KP0H8u2UKBo6iLPqLE9rKVre5oSzvAeb279McTwgHL5wWQXjl4C2mza+r/H5vFVncmyb6+UfXEch503xK3cB9jQVRsO6jfpbRSdd4kKMZFwzf63o+VZ6P349LMPrefg+CmNmU9n9kqfNp4YKl6pHUrwrp9dTFuulPCo5R2GzgtEWqvC4u8kS3EgmXvcxzrEBHpxCk74xfOaaJm3oJcPiT3LbWOHijAzoLB2XO7rgwJrY5aK5V/4adYK1qficwHFiNM70kZKhb5XduFwKxp0b/Y1uWeUWHQ8VW4xZmyknfGZ97dGFBdLoEWUQIXCS2eEOtoAt9qh5Okf0CxhxKTx4wZUnnMQu2lHyLL6BebzOmiCBbtKGuKtM2y6sDkg1BMoNK3VXz7lPwqv9S31jb1ruUOxhvx2qDvHXogm/lIfAbbePz7C1+y3pOF7hAmgAclXViDfya8rF2BOXnEPG4qFh5yAnvdFkXcNEz9k56gFhJ6BN0AQkraFKcc17AjxdR3k/Y1vd09M4Drk5VH1gUcUfttF40Igcd5BcoOgAauM2C8CuMnRXvsLLWeDd69Zri8CpqqmKKqt5CJ8Lt5V8of3yNc8FJEFrNo2f0dBSxgqrtoxD4jEiVBM3xljBkgZ74zpfKilLoOXS5yt5qMCE/cJfu5MLCt3JkihBZs01RqfHEHfh3GCrUvlsLWHjRQvpcnOlMhgTgwrFL0ZEy7lCg9U4S+L/eBmJZI86+vuiazHhOGy4ot6HgaBB/2ujcVpvatPOkDpzddOGdddqRdj0cVU/Cr75Nf/GE0scjNz9YUmXjoxBqSEi1Mha/FENM1N5drvX2Hqf7EojhJuWxnOU73hgNiY4OylSLuDDJUcc+7ngsjm9BxipMZz6GSLP2nWJoh2KxAJooVWmeCjLWDPfD1VqYVGsEDuCosScNhhW6Cb4nd8Lxf+vPwSyh8apjYZ4fnFJ9ZxMjd9ly9Juz+E01eQDc6hvKHHum/GJOxi13yfKQlVRKWRy5iMv9d6j4FCWtEVrdTOZlvLavC+KANtTJ3mf/TvGdC7rWh/PpOyYo0qYgb28gF0uDkZCicyrm0evT+y0O7jhgqMu4T33v+Mct4B46QOyUGFc4r6EehOpLs3E8WQTd+2lfkX9WGGJrzuPCOojee5iusUwFwM94C5J6256sg4lbQsaVaySQV1DE0R5uwRJMByv1pyCL+VGSzGroNuWuepDwFW/bLPxH+GLTxYCg9EPXOALEn+mqUjkgQmHVf1QR/oUjWgJFs5wiI40cfXUDf2v9Y+Ld8NajcaYFO6q4a4rOD+HL5tS05lxUzVn+GCtich/e5nTCS+gq/d/yvamohLS6A/84tso8J063C2ntAWYo05IhtwbHP2/mwApylAqZ95HIXrLJ0YfHVsHQ1v3sSkZsIDW+zvz0bJYtTZ338UvIIjYXk7Gme3HeILiQOBUjLzIdV5b3vc+Xjo51gAtMz8Qz8awp/tqcPWybp6DFY9SOGOgV8vcamtxLrTWg6R95MdXaU3ZpnxB5CEW1NSfAjIciVG4deOt26VhTD0+pHfHzOSaaxaPNWTAPCkx+Q5h+1T/5OFdDMMyCHdYSLj5aGNWLp/8CtoH2g2pFvDp2xME+on1maoOezDAhGjWKCiLN1O+GIXWGTs1bB63zydvgiXjRXh7A3fGEVQjycWDdviVNK4JfCl3ApJSqes61IMt9yXPWw3MpzUzZKV7DGC30nIUo2KPViFWzbGXl8/aoJM1AY2wF4Yze5+wc3IJ11t0HaXY0mSoxBtAynXx9ZYrttHa7fz8ZtDRuMVx8r9RX2ttrTNlKFYv7mKP4TGYbpAYm2ReczVJ1fOOegmQ3fPmieXQM1N7ySASVFOpl0udiziDJp+s5PNbzWYVF2rHmfStybHR2qHQ0jZ6/wxDEvvN8JONBS6V8zddk78eHLArhyaJvdiOwSlHjKEAi1mYbo9q4MTYExm34XjNGptHEermAmwpQQJVRq4sV12/eE0E1/PT/cIERg7wKpxwOfIQ80zsNDMJElPODCBe2MBOtiObKvfx/wsD9azQ18iETDKDZWUHpTGQ+D2Py0dNgGyVfl2epY2ITzpYrvza7Y2bZz9XlcgsmrPzCAOl76CwzzJZv/lugx4cTXYFrvloEbwZ3LfPOBdfUEfkqTJ1loeSIQjeCHEfbt1M1hrQ5kj5COU8fAVaFycuJHh/GZ9+NcsukxcGVKvpJ3pHlLBPGA/lbmu/nWZ7CpQulEgM7gqVXcMkjM/v9MB+k54dUOEzk5gnWt+hv/Kv4LNQifCfVvYCZB1FDNLuhjRXfcVOIo5wXOstr2/O73f7gb08j/9oQZ1EW3t8as1bfb3m4304AGi9hvxX1cCZoYmdiUZ3WWL0NDBPsXc8K6S9S42VQM4OHjIe+ETyzcvOHrpoj3Sa143Fms9yYAM73eYO9oADJtA5vOyrifFDQTZHa/7DR3bpH/jtQJDcPKCTlJFfy6ecwwUOGE8QKW+jNyQyN+O5Ww6Suk3PruUnqLvq1KNrc4xjMuFht9zIiLhJEyDZ+wctGMsDlNEJZUOyKmE4B+GYsPIzL2WJ7j8i+OuoFbIeXR6O6Zzq3b1glo0eAdUP6joRVfTJ2JFD91gsQLzslr1m9s9mrApq2qbNw6oRzoC0dUb8MUQsRCwXKnclFMX69hc6weG131Ly8vNgQA/OXOGSynMzqjT4Q8EZzPTQ9/vufYAZF3o7NC8R1yge7gSC9XV/Xftvj+tk7hUM+W+Dde0cKAS6tpu3PtTzHGt7cCVDs3TuVuErKnBiVIYrhSy10DWVoSgIi5bDeymQkwAl7S297P6SlVavhSUjoLaXJw7jbx0+NhJmvPHF+Hbjm1z0fz1gvOO8tJ2uDwqnQPWPOn8mDU5ZMJGZ2Z8Z90pHV5qRw+QhijHwAmw698XGov/JDBJPfdk1MBmgve1Xrnhq1f9ZhDJN8zvmyvNTYsFA0XG9FD3I75wXyf2E3pjb5n++LyRJaeI5q0lOw4VPqMTXHy0fcsOCfiRVs05QYYf2opCa33gOkZvesChJZAg9ypdJK1+T4B6xAf1p+Pe3Quc7+3wfyD2FGMxc2gN9WjVYpHm1mx92KrR3+5NN6ojoCmuqlf23Cp08sBnP1TgpSTXlUUyigyLV+q8rOgys0IIpUQwk+TVCWeVHTBhOrjYnnN7ryJuRqs7NLzKAhibCwiLFFpAq/EMvrMOL5qGyeNc9Oh9sQ/VoPMMzWB77bubnvOjqXRGcs0onn/VNqlWohJYHIua8dRWZ7bmVpEyepi0UUm3nYwA1Nug4WHvNMvh+m413QJnLeUaRq6e7Au1aMEwJI6Z6T+U5O9cn3F2cbqdc0h9vy8qVP8fKeX/3TfnEmkWzmbzrFWQPV/Y6TeAK0l32BSRv9xQ/fJD9KdCgOFyY/xiptzL2BZZft2bHrgnnt5aqDNPnpPxNU0wmR8/Gqz5AXHa/VF9xkkuaxwHLmQrFWkpT3Pzadzv4eiFhhh78OLqgV4VieIIVXAYJprxHtchDBfi1E1op5oGtrbQY/e7qscGCdH9olWIPUONZkU3HlRQRXo+5sceCzCYiyNrdY+9723VzRFfXSTn6hKoO3PovyaxE5YJzZG1TEjOFm2wNcecCEpsxmsFuVlsPrmrLxGiUuBj8Pz0VJTsSxBuKCe8LygjKujfQMqhSdnINZ6D/70g4vAWjls85ROGWp6yFRoO4Br8yVOl6mB+QMJtF44l8l1pUhvYdloqC4jXESi62cOrDOKaZtjOvj46glwKhq5Lfc4ohssNWb+miLoBcsOe0F7G1IU15zbbJ81xARMlGslNsByTbtx2CihICjapxLlhR+1RKub/hz0HbC72ImPgETnsp8EYGexmaJfvaEOZPlKNc6UzKPzKOHeqGu2+IWQonhNlfLFi3lkt79xJeS6GOdemqkJrBjDWVx3nA8QqE8ecfUhR/iBxgkpfzTK/KdKWwA0lfc44rr93Fb7I1x7teQE6vnQHkl54PF1ddt9cBTXxdXh4Q7DVoUKg2A2HvXmjj2ViIO4OrO9FZ2FWi+TOEWHfsspRI3ZQrEGQ4ixVm8HHfUuOriZYPTD9vxPDk92toyF6mfoMisUqlrxyfB3gr0ktDLGDyjf3l/97Bu05g9s6LNvXAH2LkLMwIedbyGxgWPkEqcCIqs/fb5XTw/TODNvVnygVdMTEnJGM7uwSDNLM6exWqu9d7R5fKKcrgD5E61qKGAW0oKSd2kJ5sFt8HdNau7aOoHHS7fVGBPhg3kmxlDiphb6agoJxb0BWaSEkv3/dmibSEsDzz3TV/s/u3AFKlT19stsJ87wmNqJChB0wgAtx3eda+Fd7QyIsx+Eowr/IqiCGPXt2rX/hdzTGxn9H8S1IVk8xBA1yXHAmadR/G0NU3CbB6lHSzyIYmoWNaEvczQVrtqgyEo2aNF81zO1UNYw1R0d0UvXADxv/9twiZekXS+f0WR/tobM/qiDuGzewz5vdWXuNdzeRbNd/JnK7ePcHi+rcWOtlUriG1pX8ZQ3W4m1NCPZwcgqrWYxepCTrWALKyRHf6J+n1ezfb2f55PSf5A8fpuuMVe7F53QWZuxd6gxjD4LXflBi7y5wQx2txi4+Hycf/vg03MNhVFkq/+A6zaWsZKyXPaoTn1/TqlQbI6Mtcc2DxA2LbqUEpewtDhk0pgwDINCMzUBW8mLq8grq82iuuNrP8BkBlRRf8Kc9SenBj8WNI0FWMWOnkTRLbClqnG3zFVSbeOKlKlxepjxKuxW97X5s9xHb2AZ0wOOg4jmduCdesxpaOoOp3h00UbPizRH8vIMyJzaHLVBOf9G3XOW5X5AlPPUqy230fldhc2pz/PM4Sj/se6OY9YWlvc9e9sNJRfa5lF9dsa49qo12yEczs2tTfnexpjd4/yMglgYFvbMf0oDVPDbD2+FvrPDHJ1cqxbBfk/ZWQaE0ZJDzaQF7egdtXaMyYEPlJHeLL8mMjVrXMN0bFkopb6z43hInAefFrNwNLuuM0Vi2Jzhq1TcEfYOt07422ELNBWmWdbzEGq4RXyPHyaH0K+H+2AT67/j+wucpB2yXOVyr39vvnPeTplJbN/CugozVJm3LsK1fEokJUfHCCLCPsm+AOjnBB9YIiRLc8WA2DFCmaoye2y8CmixFeNPka/24KPm/n2l1v5RxaGMKQlorJmTL4MNrwRqiHhx3G1ZPqbEdshcys4SaVEe3LRxVPm9ROIcW2oThOA67QqBqqeTCOlXjNZz/vG+nxf10MOskSIdg7b+FvtPb0QxHnWfSkosmMg3hn188opsnShuueDUHnCLET0Ph5A6PuAIVGrEnn6iwuKTdxArybAWvvHO4KrKd6nMFim76fwXrgVqL1YaPaooK4J3pn9BIZHDTWPjrISxI14YYHNyhyrsxaTD3BXNWJTZf+aMHecFksi/upSVC/h7/GE2ckRCiDacDEjNcdNuhna8+/ETw1dTy4grh/UHKPGQ3uBwizJKH9nIidO3W8hIvz2L08aW8iBZy/87/1bqEr3QObhJCUE0iSzeZLj10iEbTTdqh3uBrxEkryX4C5QjXDClWaCjw6WIA3T+RxCStlDZjaEAYc22Ddp7k+BV0xcIwpmYW1gOk2gMym5m+y7pwKWOSR3FialJ7ajCalstp67/t7WPL93rj4O2jHHCHu3QeGR334wEmMJQy2EGMd51OLJN/7XbLgD9w3mv86H5+k4FrnNnXPAK8EBOO53htGJ5sKPYc7POrdMfheh5tpU3ZLS3B06nTpGe03soukme4LbQ+fppxO3Xvdo9M83BMYlgEpG8cTuxyEJKplRTk2cR1TU72wpML+snGzn6Tw4Oy/4PwN1nd+fHlZFUm3nd6gabHK1B92Ikx5QpG5YDCe63dvCeZHcGRJU+WRdjst5cbA1gAqHfiFGm/pnxYfdq1bW5jZ/lZjVna7tkWcctHu6jG4LXCVJMCsUU4S/z1mYIlDGGTbDfxso77r980N4+S/NPWqySxEQ/FJ9OhVk1YHxVp8W8yLvTmivDURE48iJ8jqIlFgRtKOi2NT4IZHnsdmouZVrFqt9RU91bD+rXVtdgfAhrjYH1zXRjOw4t8+WTNLWxmGj1T0rRCZ9pRzUrPcOyKxzb+btpqVC+qZKHvcjtxlmrDyDUg5GT9/Y7Q4RWI8uRoOInGtltTBiQRY11jldUuKBU+c5GnpXgBtHNdE6mvIuxWH0nS0EglsSwN4VG9Hnvg4W3vMrgHpS2c1F3K2XAqMBQbjDU6We0cP9pvo7C/0cStx9el470cZcQvEPvGa4Pb+xl9BHAdLIbqjgWfilN3wU5LAKcJLmyYEO5tgqNhbM3itvNdid+cr+DE+Of8YYEpbBPuzM0vqXo6A8T9lAZZHNohvDSf5awvgbPsgaMyrc3ehYBnxfmrqRnrzsZ7vU9NFKUEGH37sNC9d6yJxSOl1lsv03I5l7CQ6OvGtnoiKi9zSHCdmH3qp/9cWYgUyUmoYA5gAQK0rQCncQt6DbcszLIkRlfj1BqPsO7Lp0vtnXQ/2+wL6iH7/pUVFL9PALhNXH89UVS3gYrMZXQ3LciJzk3PuyAOilZTclJuXqHGqpvhCqz8u1SgK8hwfh9tl0g6JPnkT1v3MELvgjSQVvtGjYlUcWMkmxwpCh2Ru3ZWxtyoyeSArDZJSstEXTbnHmhwFkleR7ZBSU83/zY/uq3xxzdbB+jXn51NpQmEJATz0FUtP5U0pxSDsgfGVdwBWJYMzFpm1FjYj/7Lv84z/Nu1tuevybYfB3YJCDTZ3SYNsEbKTXAz02ygh4Dzd0A4ggo0Dc647jnEoNNlmjNmzpclvlzYTOsBEDQTXuRDDpI1Kxkbi9RsAHths6KcYPhTeFn+GLkbTrfM03KZCFUNzywF/q5bImClhEGaWlNiOZnQG4KRZG9zYU2nOdI43abQ2FoXoFv0Rn3YCg2dK7Kkir6rlU99Nr/6y6MJGwmhBZEnI1Use8vl8vmgiBHjNgvAB5i02mtX4l7LzMKPDosnIBXzjC0KcfN26ah+O7wXcVo8zzgn8RpgECjlR0GmofxDo4BqZbkKDR+h/+QsSNE1GuSBpXDIEGoKyNMJsFgFGgGJ2Qr5H+k9nK/0PmrKh3oTTKXH3EVsRr71s7yQT7KHP/LSfwk5pGTubDczSpHSrLZOY4oS0lVBE6vN8Ll3EW9HOLvnKg9hDXYYYfUReq9EbVWZ8b33YGpQkltQ9E8tH+K18gCzXL+Iafpd4WU9ANrqDahcBn2eHfMnLliVyTaEntlQR3/roy8BRogiwR628z8ose2g1xNV+n10ZMeTmYu7dapSqtPCcYQnyerFvJW2IFPO9YYKJXC3rKCI0x5quw4pyNxyXfqfweeEzpfhgcMoSNQRod49SJhJ9shZiqTrVz93JyUzmVY7WtmcgQejn5OLE6S96Fwfr73DIbjEcBH0UgkM7tCy8uCHgzy0o7VF1/g9WF7KDnZRl/o/zTirk8GmePrCDPah9sREzcjnj2FKL7b9be4Yj1L6CrgFdlsKmSD2wxlJ3X08cN9/UovdzCPBGlUa+RFHKl+xgHExY56A2bZQ4hIvQmzKcwgRyCqQP4fOC9Im4Z5ExBNgLjb/vgS083R5saq8LtGK9YrfI9+409bRkBIHOCEkJ7xvYEojlSmczx7iVV5Zhq50lG2FyCgmy8x7Z+bdOXRl86zzI3+9nZXIXwYGzxjiS9LzBdztXbSxmSjDTDgoRl/+obGcnz5Ki+pywDIZZwFpYEAyGyHg97AmdASdi7Yi2vZ38MZMZPz7K5f/cjC9VyXBqmYfOvLMKtuh08D0ulQHV1/NMloF26LJ0nt98jxhNH/uQDvLeyl/Q928mDc0jXWYTa7PHPvkgdn9bmj0sfrtNj8C8xQGtZG299rbq3TkseYWEtB67UpYUY0MsOu//HgXSoBynYeO1lP3wcFvXVDLh4JCyP1VPP1xNK3fLtPy8+8jkUWjZJ27i47DOoutwB95mFvg6OebULc++Uq7NqkR7PMZI2kRY0t/deTOIR1r4yQfm4d9psXcEl+gYsSG7Shxk0Kn34cRXPFszPk+i7EcOAW6y6dDkixZJM86PcT7jQGhzzFmgvPILIuIYHesNnnr7N4sAkph9hKfHprosPesczZGwY3oY+/MK7qC3VrLyEhiBZYvNLZUW1ePNSA7K+5ENcy+Q8IutLUXZPaLSEGGGT6EHHGNOCM3ieLKZlX3wAQwVXa0fZ1KIFB+i4RgiDNu72n+8hyO0Oek8ODiBwMUADHY6wCSflgJX1zIFmg07o/AEadLh2wbi82NTnUUW8q55sIFhTU7QxoRYHfAlux/qAq8aMg/CK9Lu61kZO433cSavK7TVEQCh+WfVXeB21V49i2UH+0q8wEC549K+bWBOYSBAHu5ypQV8urB/pYg2oRCgOZPDY2eAMHm2h2sfaI+ZRhuCK+cnn/U/yq/o21y6khPqOpgi0ohdMBjMt4FK0UJNeq8jteBHEgeB89i217/iMJTWYlI/hQ+3RlCnrIKJEOr/V7coS49fAaE+59XPh5Smjma7YEHTjsiMpudo6EgNpBXQkNnlMHkiZNR7vgpt7nHDJhJds6zkCRNjb2CKDxSpg/XEMbykoCEy3UoyTl0TsKzHjAnFUkYmG3WAElbQ0qlp35bwpk8zH1RBMB4s0ZIcB4CaUTwLJ1OxHqHXMDiigpvn2zz1DCtaJ/FU6U/nQyjsb/sx0Qx8iLYHQuu3t6nouEyCl0iq3f2Iy+A43NbcVOUCcjpL3GPz+Jrzjzp5FbwoQjc6xg1iqqaTepVNAwEyZrZEFeJpaKXJy26vG8MCUFYiiivodIPWbKCXbym+qnafA+l0oWdHETE5bjQXppYXaxFj+3Bnc4wlQ9cay+yXA4UjxoFe4HkUmcHBIQ6RT988P7XFRb0pGw+rVCD4xzwsGW8/hYtiwrcEBmLmdhrJoyvXn4oFdka4EarNkntknKozEk7zqwTAp0bATLjYg/jRkV5x3Nrm/W8lKpabykM416h77bnaI7M9Zh1Y+xj2wEB/jD8T3EJLrzNcRfa/9f0xheDz++Bb5EpqJM6UqOtEnR4ZcV7iHB+1F+mjTayAtiNaCdiSHhcCg3p3ckkeFXKrhLQn747kRJtx7Q+gasxsh65PpWA2YwiQHK0VwpcWLFLH6CME2b7DvNQC0sN0WrAYvmtc1igGRuyjmS+7c1b6zejJB97tde6c8vXq1jY/geInq9ZNKR4hgstgR1smw6+IjCURk4StthsAA/AB5RdT0yn2b3B8VwdmAwj0EGYvxxTBsiS4QH7tzeSH5jqf5IapUX9vKvhPuBBf9MIW/w4Y7YJTONEM7DYczgpghEdGknilqAVhPPk5h5HNkT2nhZM7GyOnFoyXn0zlPoxFx3QmRUiZWQeL3medOnyz53R6JlER9tmBRx8RfqhSVg/IccXY6Ck5ghGXr334cQMn2kkI5pAsossVV+3LLlzrTi6PFzegCE3uYWZSyONhDO97Q25MjfEkIaH64CLfZTyUvatx8Smg6KTCEPwF4kjKrQ6Cls9DVvipIUDplHIO99IN7C7uMOhS3kyR/5DkT3/Cz8I+N6DFWrt3tZjodRaW5O6a9Yf32qI1G+dUzyRgMUgim/sqfXnxc5FTJv6MTibSdg0wA50eGzDRG6hJRDCLN1ldYXPFkyMg8IuYibxvPG/CIhLd6IQ3qgaOD8ZJC/v3oU6N9qJmtjgyJlte02q3yGaWcPMIduPW2XivXm4Iko0ewnsyqx0Bo9+pa0csFsQ9ayt/Qs5unueP6ipWaziOfjMQbwFFrzfNYZHoHv+r7vBU31UtGxmV9BoZfS2fRHGqD5w2z6LMUwmQaVCmGOcCy03YCA/wuqkCdIWfTYCffinSuMeTAWa4fFRIXe+Ww3EZfYjwD6I6CXVJEy7W6P37lq3muduYgtMzI51nFwnb7hcNoW9OADMNm97p3IqVB+TP1LbgPU7Z5RlHrCRjYgCAzC2GAF02vJHtncp2GKIFo3neRSGyr+K9ockocUVENoWrBVHeRk+l3zQg83c04Athyo94lC27dzHTTPZFI/LPHAeyt0jqR2PqjHK4VDr8jowG2k97kROWjl22FxJaszeV5repbLg+m5Vx3JgR5Au3QV8gKwVKFlFKUekHC4tYUVC0sZLJ5e7Yv/VLla7JHzo7A2NgIXicbTQDlDpSBChKmi5Eff+s3unY5M6NV1UJpvL9zDpw7cHl+MBLneQz7J4Z+x+2nMDSNWt6CxLc1rn2s6GfYaANQ+iWS2a4rNOUhAF5LU6owpDZOC7RaeZ/FJfhx2ko2+m5saBv4dks6K/Xm1uhEJPei9NwaDvKfHQ9ZV2Ju1E45jTES4XGWSp1v80cGtUX5l/zo1mndHsMsxTcrpeA0xTIfswl9cx8Lu41AZzR+QzyYyZ55FKFW7VhhxXnioTgLt4Qvyg0vctKA9uDh+4r4GjNY2pJWlIPxngqQ3XPxSvlDZhNMLU0MV2yvyRBb/B3A4l0sEILP5oQrjatW1DNOgRL5Ur5re8oVDgWx37mLF9juMQU8z2qfMPllxALGq3RIHKsw/Lbxf3Qxovqx3aXNoOKtdmenrZQbw/g8c0KnYtzJin6LDWFjTioKlulHjlNFpObP2rpqq6iO7SpaP8WO2+F78/7drCb168tdTHc4QT5p9OuIHYYCAdoeDidRvjnkM61UuZ0v2Y1VlOgGvGNhIfLLEhFsPZWFeT607KpM3cSH5IGRbw1RF042YAhDNIuzkVd46UMsG/ECOy2TKgMfjVxaN1ghTW5IWX0RTHl9ktuGVkVuTnedKzIEjhQFMahHvAFvYqg+gnQX9ATcZwjrKXYbxUgvzjcaThg8xbyr6Ap4SQciPkBFh+dH0AAl7zgU0RxzEaay4ekZH0VpnWjG0RoUwaE9H4IcW3vfYXOlWFzbmVx/AMy34+T4VgeXbMB6pK6JRrVhWdJeVWe6R+6W/pM2PFCmdIAMPS7ju9acWr3nHvjljaSfM/K4QKCKJFLesH9snZLM8QJI/aDQcozn+NwTJOJLc1mLHaLc5gdEpiHA1uc1ecWRnML2uC8k4g36qo3b+sqdXILQfjRAbGzF/UShBqXzTheIiIRXx6aSQsK/bappFkQTXH8mJkgy4lszjfyL913EgV31jSQ256V18LxLAscZaHhmZRDgVkzNjkNHRTY7S7MQyNEWhJdsCeSp7TekV0WDMYJbAguD2LqR/w3l0llBqWWsAjwZy83g3n6EVZn8q9GsJa94RGhs0MVDx10n9+zdDgfaGmkp3hjxMd6pmSzflTZmV5x3Th3w59U02Eg9JebB0ZHYqj1al5Rfly0YYGWsGA2VdB0qf6atq6bn8eLws/8a6lUgfKynol3kd3LS5mb3ztxUZmBwn9qtlR8D0vmjvjlEw6rBbvqYX2Dis+SBdv0lVCL8Zje+R0JjVXMVYJWMIrgtfdPLwr+BHmJ+At7GjMRUOYKirqLvc5s+xLZicpckYUBNRn8iBKMF8BGmf7L/jPnsBhB9I5SJP9PdwkHbS1d4vwNVESNmA9RExNWdSdE6+Vi7QlnDfZiDnvWdJiLqqplOEwPLdjEHS8xynrlEeGFr+CW7JPu++QC1DRct+sh+eRz1vZenP3rElGndiPw6Uxfy386w9iuTn0dKvEs+45Ljl7KSUn+v3rqu8b2tvVrr9pz57wLl0Ha2Lh9DG2YKwq2oevwAjeCfdpCBVGH45VvTymxVNn/tEAc9Uc/P/obEbpcCrXzQN3Tv6qxXqyjrdODLihlFCWXgyXWFDtynbTNEQZy6gixHWlZBQzXig/emXhdEVfNJTZMU8XVJtVDuCGFscpbWjtVQ0jipTe2Td74PcYmzkgBLjRQFCDkuyj4K2XXYAX8PH7b2e/NuQfRzUsyepzaTNuQujmkWpW2ir0vcmkYWVKHutjhnOO2CfK1AbfG+uZ/XGmDsLp2q0U/hJkDXVPSRK1NxjSOq3eOpYfbpQKizIh6i/tpgDrm1g6TRez/oYcFEPb3nJAhReIK6wALW3OQu+BjG+vT2V7chPwTdD/mMCfA4bcXBMS5AjHKC/eGTOn3xbsFCq2RAvpkKcu1YMhBoiij7AxEJ5xqsvMpo6nshncaIUsbC8IqXyUpxnzX4n9ph/VNIz4rkv7lYYra26dzDb/EET9nVRQphi4V7sTPBW1V9RvXI2fZnB9feExCUWXq98+89qEefOp3bkYmlHA59lroEQG3UYOBSIo4REF5ZZHNMfy9YM+Dmtb1jKbQ3x7IE2CN7hqA02EPqm8M4vli4iaUAODJsdn9IVZuIHcvq6XzbSY1QC8GohEwm5pAtp2ALXuS8DzodWdvbE2pgZJaLycQkPKycrMCZD4BOflNiR5WhUENjT2KMDe1IMHyx7T10i6MjXVDi0OdZzE2VBLwWmAcIr6J4h2ZHFT1CDIdbc0rDPiK3t4QEbCB3w5YphulU0DXzClegaIIUTvcfUXcTbIwOPDxCpD5Qv6L+kResfPI8FqsYuruWj1kI2I9qnveTTC5V0eukMToczuExAJ5z0UIDhyIfC6A3uZIWSZ0gfnXEmo8kxKhmYPzVW+mZn5+OFW94p8Oqxmue64HvC+0iGsqp0Y16nuNC1Q/iKhLGmkpafEvflIpXCmq1GFcsNW1XUAmb8oIe0h5pKJ25u4URa+WGtzebSXH2CAkAv2jX2ARQqP2op97l/FlFNpCaCbpjjPMgivaXGEvpqV4sQybHYFZZUpfS2TGGE4kzKpPQxi6aJ3TjEOPPNZH/EfwRrwbuObaFNP39DKZdVEnuEXWHPETU42pbjrcg41gKbrQP2HBsxV1ufEbcDn8FkL7dolKMiRaK7ipO/e1TeNfjwjYK2X3UzKQSPR9E29DodmjXRXDNLMj1CYE+LDYA9mv37GPxVft1jv1HaCW2476w5XyqJqIRQD4OLNAY0dE5jdyT1KmZ+rsUtkhtwL2rk5Padm/GDsUawyTNERHnIsa1zwA9Cr/Evi1XyvzoPu73Al3MBm3p2IENjdGFWupL1+sk3xDFgIcvaqNIm9vQ9PbIx/i/Hmpdj8bJZUjLv9Ht5bf+VCysGiubIrWd+ttfwJ6Om0RsN7Ad2JijMjp4ydxCa3YANrFuAnUUGyIPhr0oUs177emk5vudkLUQDg0xiMzcQNpgTr6JVv/DOn4BXu4hbHfTCL+gkMpROJC9dWiK7izu6aNu/3C6l2AML0uyAd837yjs93tEIP97mHA5Q2d9m4a3fwXU3Bq4KduMZC5cL8uDVy8Umghy+pBuZOuZUN1vbeHPjN29+wyRohsYslzD997WX30Dm/E2KZirGdRW89K1YWtxnriTQoKZmwCI2LLmHpQ+IFbJYZO908qhtBaoH55pKVP91IsdTn7+iD0KUUvfW6oLMLHCWCcnbf33Quz0JvOBf69AFTWMVhfTQylh5AyIT981bQfOlcer+G2zEeCTqKNdw1hlwLo/n3E40eFla9/UHg3JPzTZzsNVmDHYR9GButsHAQL8FynrVI/6g8fglAjSA3NuyXJlfqLYf69ERh7HlSeBIthpuv0ar0xVk02GBX9pTU2GMFo+t/rSlKlBFHVmdVpAnxcTc/IokcbKS9TZuqv19mVkeVLcyE4v+vO2YXnyS+AXxOutNmGe4pgXI4gUV1a3Y4FocT2yh4LW7OfL/tPok6hNzD+Jwpiyt9ySLpN5g+ea5N955OikPsUDdlHru1M5b2W/vihm03a+6C8P0GveitcNLMV124ZcsOpfWoVQC8RsZtQpT/mdhM4GBArXT1c6p8sGg/eqIPDUVZfcgY9yk7mindwYkwGXrlIKg1oN4NL4NxvmQWhnwi9i0uwciUtSuLg9mOawvQzcYfBWMDhYtuHeVeb3nv8Wb1hDj6+jMI9ODGs0HNF4ZO5xKhpAhW17A3KXm+1N0Qc9t0byJ59MTP8djU0BskG7MtzsCumtj2fPzZM0Qcq2ehcg5Lc1GFEXPXEoZ1CWMyx5dS4V4zYaz2Q4VwFgpTcCxebqy7FoRsLX3kdmdGjAw5qEXm21WvOFeXa9FneCB3+lfOPGXYYPBlIqUAIiVTT2uJJ76f8/UxLSN0oHDFjAuc5FAsyEhGmzfa+vJ0VOnKIOUM0c8Tk334c+SIG0oTa5t+jCCHWzeazvycQcXNmww5LwXcSJ+7V+uiOeLRIeJQWfbtq+lYeyGAZREuuBymMLjPaUgH/9NPG+/9KwNO3yYloHLqqjaPEcF029GHrEzKgxOqoPM+CVzF9gSswo3lwTAOCNPGXpd/8ju/3n5IPuIRXceo58xK66NoJdi1T2gr8Oeos/DijTnFW0hHBT+h0kUEE8G24hDACenhZF/hh1Z2qwjoSI3lHsfs9XL0cTN78HPwme3vXIDKXyDG/0BcDrYrrR584ZuASEVmonnssCXGRpN13LmEqHNo8+2OXOZ3S8W6UMIUcW0Vglz2vqy8wnTG5NDf1yc5/aOFD+EF0Ion2l3zrDgPoOycqMdVkjsg5SrhilUHj5H5A/wnfR389JWWRhfC9zOJGr2zHXX60W79pDAtrBEus1o7Qx4JCmu7pik+ejkz3P54I/7SXS8drLICGKp06M40Y6xljUrAII8ew+Ld23dMCIUojaSpueU2vy3BCI2xVCf3p2mSB709gWOmUjFKG77GVfXs+NcPMRGd7VEmT5/TcuJu+aT6cZV+YisLlVR0EWTeQAZ/33FZauFUZfsZ/ouGHOs13Ut3kXWzjEkPxvBYlr52jIrmRFtL9hggdBgWtJGw+8T9E+b8LsQ9v05/MSqQM2sc0zvQ/XhjJ5PCK/LkOTpDRpphWkWy9rMmo7lSUFoiiVG3m5OWpS8dqX5CWeVe4IJxm18OMNpNQCMlCr/fFIMk+hNb9PLhEft527rjOmeSKLghlHIepEtvlnA5MS9cS/lsQoFbLUzKSTaMKLsQjohi4ZAfZVFQgDJUN8TE10279fr0gBxMM2bTnWu5x8FQooMCYbOrP2tHPluEbPZzkDxkiS/BCXkuQLOhjCUumiEdYOps2x7KzvYBFlUp86obAWM3YlFHj4jFGaL1ZmPbYQpt+cPsrZi27MoLwC225MN1WWjx/UpTwyE6wsdS7CxRLRdUQIOtX2MZrChpjYI76g6uJvgPVHtwKn064EyDLkNtZ2C0oJ+97Q4pG+iRjW0kPz+2XbidU+4bB0NnaSrNisAEzNc6Vle0mOqKmfWT19GynRzht6AJ0sv4xUz0itk7CXmjkBwoN2t4KVFnsvp0Qbww7yrWwZfyWrXPA6ZZUWTrXjInTeUiF+SjQSOtllXDt54ugh7d8d6bf3BdOo9hwxQg1S4min8sYYYsKV5zTH1CUWK0X0DrZpWw3EGtI/RJ4Vc5BDqtMSQs4KSnLqte2Yj0YXf8HVrhILNrM3Fq3KyejNwD6BFJbAY4GJOVGUC8GMcQMh+Moix07tmkHBQbLjHwN1cESPost5MOC2yqYC2f1NpwaKNhLWefX2M2sDL9lDPtkj2qIF+4zyxLmSQTfqPY+Q1no6/w2JGwOOosNxYRoHWVZX1CQR14LhjyJJsbKGBQRpNSVA2GCoiF0NcQ8cCebjWryMzKqwRsghChmYVsZhE5Fxyzl24zxOd3q+s9UxAbdFhZBRpORUaqA19JZ9YtKehXPk8yMp2ZqcjSobO5O7CknqFf3tQirbOAkXpQp+6NtiuLLND7Cwt6g99paH5diEfYllIVRsajeVaaB0etmnFT3E/yXibGcT52Q/1uWoRGlwhzL48EQULxU8LCR2C0GMPod015SIyffbFMlSiHK+Ho0DVAaJm3FD0L7Fb6t1fpEjoHT1ZXDQ1DItG243/KatYnuOe+2xbhUGoTs8BLoBFKEWvjeYOlWb5peKjEgBnapncUiug0vNXej9K49FNUOjbpXdMX/0GQBD80GEvEZ8Nj2ofq0mgQCp8ilfdiii35dNVNIGO+lI3CZQNBKDrqdMe2qXZgq1D1SjzWs6vztTokUje8Ghep0iaQ8VThyLyRuyI3EsT5j4XvtHgW45E0T9cfUbrEiya90qTIe0WhkO9GIm3cle/HuJvt0byPHVhZ3sQ0XB8f74YcsYk+mRedVrPmCFDQ78w3soLKKFxWOKBj/RKKe2FcYXwILYLSglrxjAub6mnVL3GsJbZFuxwi4m6FMWpDrWYdyqAOfgyGrFJnNdq+cENoAxjgdnkpuMqYjVp8PfYCgpir1156ArW69oQG4M4QF3dvxEr3mF4pcp21ZuLHMgcLxKCUGm81RYm3twX7+SScjTJ1+m/wCR49G81S1SRtMbhO5wrsZnidkUDw9lFB1Az7UobeDZzhSW1XnYmLt+piQd961l5nxwSjrRy0WG8GVJrSUMHQW7+5jB0bqNMpb82GQEH9rvlEP9vPUAQtLdX72pZPQ4R8Yrv/+g362a44m6nUjbav6Z0jczP1hc+l9UGN5ZiZefL4f2wShjsktEXGK2y+7NNxjneoC5JxG7fLwje5zDSPi2r9WxTHpAMPl5XI1lZebwzRVXkYvhYLvw6RrOllapjgDteujQ0bzT0m1WneAbk8voS87EwsHsFX0yZpqQdZ9J2Zy3Ul7kE0sO1/f8gFIXLBp3YraG7Pf5I+3UZR4j4FXRtrlWzyvtrM3F/mTV5/UxHH010jJzDFVwPagSHQfNf7hgj6ReKYxau4Xdbj41ieCCYJwroHsaHr42UcOQXJ6Sz11GvYBGgOMqUdmDLpa8S1ySvnThbCFrdff8ydj+zkVeWnVrPaKKOt0yMyHOVdahxoX4UeWpWs8Xmh6r1pUWqxAtQOz++gDUZliG0adFfmLBsxJ66W7sYApqiGhAt6aH+hWKQMYOWur46CQL8ciszqY2AXX9ki/91dZQUAik2R/dw2ZB2afrPry61AVdvkX9uFr9fyxvIDQRhahZXAU5a2ZtcbUntbxK113SFtHN/Jmp7bwqYP1IIjRXoFaNiFm/ulOLWW2dKF1aSMhvc0vuVaaPpZllbGjWfYcqd6cJdBS6ssuC2K1Pj+17W8GscvJl45F1IL0p1SgSMgJjppkttSQqGg/ola0j7O+Mu/OUJdZOTLBPhrjmDUpHnduZHy3isZeWCyANWV9poGRk/A9E1IJVyGxrPPpwX/exSVqA/f8oEbsTaRXYSQImEcvXmpPouAy0HLjIcjFxtUmbkvQ9kWndqPt882Cq6RwR/EbacTgzq9gz1VoYadWJfCnkXrcXvSCahK0gfHkiWBfpKNKKq778oIJVjAl2ietP7etUcBanUfZJpH/NPimU99Oi3s62cSFAeHzWmywk6g3lGnQv5E6Sk7GOS61yefUappoAo/QYn45NOTxHdoDeda7UYR/ar+y6Ij2ApgTNvneTvgJbkPhMF74wIyivusMPx4NvmsSadnyQgdKqo1oie9zAI7bRGbs7dAqizEPkW2crUAtV9BCr2eE+iHLRiFyjH3QkUV4zd+QuJtoijeHdvJSVEQGGU9QfIonAJ4Vu/B99wUIfjtukq+9OXqJ5cQRrkYt8b7TfwQ9xVuUng346uZBfk71YND0R/niIvyh+hw/sixvR89SK+1jzPTa2ePZjzIY/eXoxRlMnHNqt0pnfIlxfG5qEHeRXc5H3IU6oJ6aL5DrmP5S0kQMX/684jcTeJky5g68KvlF8FxKKDLpxid8idljgpz0tu606bSX9o8sM/zC7UFHLR2DIBefOda/gpmSqiaZlm+3+/eFhi1CYTagPMikZjwN+3dIyF/B0AnZr+dMTUm8CO/KllMV9pOAPjMeKDd9uoX3QjGBFpOHC+Hz8BGbzJWnKUKyh82OuSAc/1Pk8TCg595Yd3ZJI6e+WbMeJ/M16FKU4JByrTHQcdCRJEJFbYYwnurihyzp6vVR7/Uwtp+HN7PBYAOVb55PnOy9cD8u0Up1cnmVA1YWn1uHOmSc9VJ0FXh6KmSQpKCHuox3lteNLlV2XPOLeGBJl3Me3Nr84ueKpfeLNyI6ERuepnHfKHA9HIRmeyCaLyPcPYpPO6hNeSN3o6lCHYtm5kZLVjlfJuU3M0yOkd2MA5llkYFkjUVlTTx17ED5KsC++PV/bk8Su4BeU5JKcYhE6N3rt0Px53q52y5znFKFhDmkScf4+Copuhe+3Y1cx1vnAigd6uZK6nf+ijZeA3svQ58ArzE3bfBcdWL2ZfcNtx6AmuB/onA0ZflCP0au9KTu5LgRSkp9EzEpdNhyfbxiFTz027Q5/R1VsTtAuSYk2uN0AO4o27lpvwpNSjrAOgUfo60dQKNMZupCVPxCeqYStLytF9YDkwM8KfqZ+G6Mv6aSU/xQ+k1LZ5vxAak23H6buXOFNbD3hg4d5X+NnxijFuhy5Bbs3o+mxX3vCB4W5MWABO+AulldlDsUv2QuJYN0JamA2bsTqF00+5oLezmyL2FwZ8Jynn+tD8dgryxTl9PePXFR8IGUExqH77Mbw+41tKmT1HssrnTFNsqJskDZcathqS+3N0qOY8f1Ds4MHO3NUkBhgl29TOYX0cXyP/rOyaSESz31L5C2tVw8fwMDvjqze6t8YD9Euh8kWOIKPaFUaY5pryg80CSrBlZ8atsO/ZXl4jFwiSO2h9pGhgQ/nu6GgfYHa9AreyYAXF4ZHPDbSEzyo5GgpKpAVO3BpO/CR3H+mXN8EwxUdo2aXa+ngA+jMKLs2443/ZReQpzxayERNwp2Lu9Ab7HE0yptGhuWO+dWGkphlqjWu88uiNy1cMuqTNuFbfaVTGJ8MYnD+qWwDtfl2e4Wl0aKbfC6UH2Vo5CJ3vYfDB+aXPmrhmUQ3gjF2CBtqQzigY17azqarqL1ip62q1gt1pXgEuGd7Hhn7GBQuwsbYOSAjJXZ1SiSFlrL9eewT2OUvUKJrmCgXE2yXipiBQ1Wb8Xgrtdo6b+zxv6v03tDGF8+xmScU0tYnsgP+LBBW09WSs7d+6s4ayZVe466nn4RlGzE/ok04t92TUfaO/S2E5tcXVw6m35ejuXaTE4mgmyFDILqSiNVTMztOj2yX4H8+69/JGrxApuG4yavKuMNKbvz1c5uI4bBfcPbCSIf2oBk43bAGZEYsN5ktM2LMObmtDCiL5fxzslsYvDv50uAxP5MtHL4Km6TX8SDg8WqWzt6Hplba42UWhw/QunG0s12Ftn/hqLbICzSI1AEZDiGzBoeTWyXMwShaG8SHUGLEe2yN5wtWJBru5zxYjBQxkqFmEADqOFPMKSm7xL0zpQAsh2fMcjX/671j+ou1SwzRuaiJXAItoAqvBfyxLAdR5O2sbegqJj+dz0VmugiNHLPpbawY3sFzqNx1cy+uiDLnI05LGzO6VuTMF4OlrAVwmIE5P2xeH0GYp0thB4aoZTtwzut69vYthDk0q5OHRMOd7x0VoGmGKfoGU0RkFWqMRrr67G8zHhJuvLdwkntJYbm1wqWqe9/V+jsXHxhN5Ns7j6DpiHx8tuLAp+l0QDNyist5bOoNbfTF+CrGnAyMuNkXtCgSBGYLyn9Oeu/TsluI8Ch+/70048nB5LSGdaV9lzGF2fWDfGkz1GZCybBsn1C4nZpTRLfx7VAzwbVU7m15pHIVet+wWdCfmsc7C3KLNEPbNSn321qZGnmttmHeECtCAc/qmxaCUr1SsvlfhrMzG87ouuVFhLH+ifKhEd0E5dKwUBuV7/C3mCQHcG6O81t/IdkzmF9HIfJkRa9WhDoZvfL6DQ8us4RWH4qw+oa0dSxAhHPP+ykXgESOO2Gq7Z6uVSSEvzdM57ONNvpBwQ4y9OzL/fzwt1yHldVABC73ejS/fFGzLdszH16oTKOnGU3n9EQznkXSitpRopeTbFZlz9ZayvOlSKK7gs1cey5RGrcLays8t0TC5gYnhRoXzPOG5hpKLkGzyqD5t5FeO4PL7exsohEnstDqkIYt6zQnOre1FqRyyfCuO3hvLgyauT9Fm2RGnXqs8HyZ5zswcP0j/5sfNGj9eZuZoR+dZoRUQPTuQ1yqhSBluG2J2+lnntvz+GaOJ8H4jAFJ/Oyf/U7ELoL+Tht+F9Nlx1X7gO+e+j1NRrLwWuEAaxtUnzEIwBJO6LaA8vJEqvqeEZ8tZNebkiwTqyqqhjl8beydOZ+Hx0TdL40kB3FTbng8rST+CBHTcweHTiPVr8bmIahnZuQnYy3WSwfYekPLB8/If5J35LZR05mwa2Bdo3kmSPaNor7uVRKcQiKAqZsVSgLmcapOnykLqVihWNpzr5aDWuNHOx0N6Usb0sFiTPyysITwCzvveIpVGx/KzSjOc5BAZDAlCQVtP403PeloQdlEmjOVmoXjeiDNg9on/XRn3fVewW0c9SWQJirwAPcnjLuj3bfNHNPVmRrVUwYuSKbKJ/tN3Ra5ib7pQHS7cYSP3BdyuDPh/S9Z2+CeSsc4/woWphs82ExdhdEJb+IrDDhUC5X/Hr6fB2sO8sZ/43DGePRGVHJAZ5adtzT16i/A2iqjbwQAix9u/G3ZFTfXYSTa19LUfu7uu+cH1qynaZT+qeKck3axxp9Zek3a1zSlPb5/Wo3qIzk+/kX60fyuzqPA5aC9C9lmdZRzlEP9YwfIbgmyyOL2h/8TNUnWeozfykYPlZRK8+mzcmnuZ3JXyPAOHq/K27H8Glx9+jIVHCDE+uWxsDAstP+KEUXc+xxpJIQgShNkOQ3vAmhrWrhTy8aSdvD+v6HI2Mmy6XaAWnNoacLjplrodcNB1MVvSX1JMV+EVibAFsSI0m6uaYjlUezDqco+1SdiioLFaYhqoTwUU20mJEMBHac1U4LQDaD3v7cOZPksrmHn2G+i5Qu87WsXFor5nGKvYQnAXtlPe3EgSLUbAuUzZT/QmmqvNisqxwLkD81bPgZLlfTUZJ0IvffQMEK9ph+qu3jlVePR94ji3fwZG2PW/iIWXPj/ugzG0RVHHGJDaIxnIWo+Go2AC8j0EX873AphkE1mREAlfLAwyIpeQDBaacSnfoDNwt1zsA/3ppaVPMTkVr/un0L7Mz85vvpfgz+jMYqDlvkU4ThTtpi7aEo3QK9ROpBxiSb7Ucpiwk93AJXuCWsfaNarj4ZdkDBEzIaekSqKhw9nYpR2JMOO2ts9UEO+Mi/vrI7WehUAdUttc/dul2qep6UxWMR9zEZmS0TXvDZxrqkgUuc61Wiog3RJOU0l/YNih4BtMKiu8dAoucYb875GdalZ12V3On6TXfJA2ItdzSQCUJNPiTmu7Q/Y/1YgjNQCtXWzIZdg/AiW5bcvgyiFWVOkDWYO7AHTKMkOVJJWQTrRmvIes06UGgfMfPcHcbvp69d0SU7DytLhb8j8zla/GbQYXCXDx1DV5gpObNZMbQxHhm2z8Iw7sX0SE0r9KeXLo9kH7P9sbBGZdFDiK0K8fWuTU2uUxasAPG//zdibTOzihKZj+DUEy0ryhBSr3j7fIJGIvawxu+jj6rwMXuZoychlGdr94JxE2fJeU5cEHeT/ItmQDp2Cl5trXGifCbzeX2pqyiorltvwkaUF2n4AORgZKxcXEbN7Tuyq+JJ51QyMIMRAGA913rJQv4oSzjhcJOz/g1ByMuNvzhFqPAOAES6ZpMBDO5Wh0dcuHqoyYUke7weS1ZGBbWZU60CjycF1zvD6yUmq1nwBMJ9oDN0OQxCaNet3PcYKXUCo/FVsvvdYTty6RjM/A2gNB7rM91v6VMfHc4QuMi9UbVbcZE+hKK6PjBwm5GAwrOqlKwPR3czyeyox7OBLWjDBkKR+FuWznA48F0lVOecS0WRghZAYL8hmDBi8j6UFf2TG6E1pUyoz9dCHr7aBwsh3RT/RilXnAH8aysoQCC7np/y4IzSNMa+Dc/4wtA223RY8itPx7Ekr8ln+beBYL6R3cTBNJ+LRGOXh0RCjiF6bKAB3orztEwdcbCegTQiU3Jd/FkLcobxwozQS8pXGHsYxnU1sW2FrXsG8fvmZIbFxy80z4/yivDfM6MHpvxmjcM0OjnNRufOuG+mA2oEn2R14a5FstLrwV+fELQQzi+jl3mfvkXqpBbq/8kObzPU8vPd1vf1BERQ0frF/6dmk5BTvm/tpy7F0OjOtTaz8GVqIL6o+QeBJQYF4zrmPNVPd2QB3cpic4xJrjns99zEcA4HF/rER78vVb+vU2eEu3tnqAvhntmGW4Huqe9bZcPULrUQOUqddSM06KtHo/Y4RRcsG58NJpUotw7oEpUf9ttAFeo4TBEyK2QHIuOXNGht8slxQDsAsxaR2/mR4QQLnnSwLvIvvWknOGdWGsYQUrUAtQbXhsPFod519m4v8WqwRCSB6WIYXb0tN7IuD5L97hrPAaqEwdtt54g3VadnEOEi1BVGca1LowKY6E4kILnW0U3bjaXbSRWHndyJqztEQahtOd5pN9qxZMHzzy8gsOhMHa1+5Un9p0jnKxN9glPoaT+plSl+UWGUDCVJ9qVM2yZkCFcjfqxQV6y20sASBUzMhTw3DfuJOWVJOF7hh4jUbiafaDj/WAvDXenBk9CNbi9O23PZWCX9byJFaVDuwt1VkvdtoXphhBJaNQHQ0gvP4LTKLt6XyQHMsgvpXyrhP270Ub8UTLkrSmtWFI/jYfaaKoIaJ0jVGSxoVa9siPN87hDpKMpxV6P57wHE9A6J1Cfwqz/DEr4txiSl2UKTHbPe2SKyndRBvLUBRRu0yvnNrEhqgwZnZnfQ6Gvuv0LioquJlwaTS83+l/NO4zVBdx+aLmdCO7iIek3I4Btp/+pEQJ1GBaramY1XrMxRC82omust9DGJGAtdTbe4y+UQlQPRfZFVa1eCw9cVUY7bUiYxFc8Bzg/R3qUKU6X1hX/K1ecq+/kXv2VHmVGvElQtCMQvZANpXLgebxwximvR5+x1Q/wfIGbTyXlc64/fQwEvnI0qEHFg0xVz2g1dE21AfGIXOHyA2VfF3qXMB6wtgxQc9K74iNRlDyTUjsDlGjN0nz3Uc0YD1i9MEgRzKvylnbGkfisk4eveSg+g4uGc1Yb4R5I8dIqh5wGK7c1qHqALtGZW4RkQIQaPO/CKHSvbPdC9+kglgh3uzvxr7cQM+HN5lkU/ijF1gBp8gLDWE3U0ObYV4vIyolFaJUg+rGkYgBUlFNbJzoJgso/malLJBPRUF7sGvyWuliH4m40Vs3W2kxC2ipU9wN3VYT5FjVgbjuzVUatI3Ao3k9Rn8ni3g8ynQFnpRy5UKQJ1qlNEHV6eqdXhDvYLKI0ykT5V0ajf5LWBwcWJdjJ8eT2guTOc7BinRUxwD4ok9ce+VHLeGnmj+No7gAbPbDYO0t1zipqlqqk38psXpUMA97UwW8N1bZaNMyULoyRTULS194HBus1lPqcKdEd0F08EmG5tHRAQDb9VGYx0iS5sveCKCbFRRB7Pi3tR8v6dRE9MAQDbDjFLg0dOqFLrhWrXW/3KA4V4P+RDaG4NI6obrR17oGrf7du1UZk52lMWy6U0qWpxV33/++p8wz8qRDT3bF/HHK7vKjYd3juIDWYgKmTZ18HY581quJus2FA5FIEvGngpLcxw3YJkekt9eYqNoopO2TL+ROoTo9eGQ04stMQsG77/0jvMOAWEpe3azsNkjVLqjIh2E0kd0Jm59P26817jVKGyHID30iZX58lg7XLtUDrkkGcpjecaeGH5jNP1StMAk1Z/8wTpiGxUeNGkT70UL54U2Glig2F0f1kYgyLdN7bSQhZDk3MCcpahdvOEupNY/sFte8b2UGu85A/GVKXZ+GJ5GrX3mzDhjI71FOw2B8riFMrKFtzRlP4foU7rdJH1KhYmcPdroLGjFJIfy3v+x9UyftSl2iLysEEkUmikKKIp3rLZm2ku+q2nZQ+mEDNMQbrjF35llvhUUZbrAKHCV9zJ1bokOw60aU2RfHhaSEftMHja/pyNinffIwWCoO7oUcZMi3LPNB3zZ2BqvYbTp7pgOvYD36t1QbiOt68acpAh6idEZXhc8adO2pzEKoJwL6pJKRV1337l0/55fLqEvKwar4AlFkZ+1RmHv4HeS4U2ONxe4PVp3wqtUJsQQjenW/gvvO0j8UqZ4NuG5BBBEhvr6QP0bJ+LCNIppHbtaRHKv+71LV3MqN97Lus3A/w57L+sAVSKuwoKb87R0UB11eXiGuIx37DEqOa8VQ7ej5cJ2VoCUt7+KT56fGcgNk+oIZZZ4l0YXnS78wjrW7pviH3YATYAtG71lW3Qt1WYFfQbDpkIscabfSXlg9O5iJTtbKydt35L0/VJzGh+ORnmyWUYq0/5D6adw04NXbyjSgL32ZtEOhFrSZuzY+RJZWOitqD8meTnzI756mWuqwYvC5Nu+gJj2DuWhLncsARVJRUS1AHGr8PyGuDdaA6kNZH6AsLN1ns6ct29uc+rJ/6yoSbyT8MSE6X4B1JT7Ng28+f2LRDXPNwfXZBlzM2gQuUpBnCKc1aFLL+B5Ehkg7AC/B4UIB7x2aaCtrUzL77YFO+XzCxm3pKIRMAwbEtDCYJLWeKPQAFZIj3T2k9tFmldntmY4JP63vjZgTTgGp42qGDAJAXxi6MPki1T8s22JwiyZihAzihKvM8Ue2Asq3gLn2ec3jVz5UVo2GWp8bkfbwIdlnuE9vDapXEScrCYX6q0iV4+bA97f1k0BcmjNKEE7e5bjQfGhiHtqQFeDyVJqgpOBqiHBax+Nq7Q3hegKCdwhsNllGVsfpsjcv8JtkcmRySrfr14kVgGJTjucjcwJAYZHHkDseCa1I6B5JfNQoFQhAkFkN9rJ6v7/XTxa+lCpvAQhODvanjRzm2+T1t3h/sZMgojeT9RTrPddwvGtPnoTOVJBBroFzZOEDWH7y/IEAP8fk9wcRBW0oJ68kc4tzxGbz9qh7zyOnpaOebyVOPKUBEdwHaHZoqCpAcePTdD5JFozeEEAuBN4NmqfbiqCFXT7I4VGcSOzLiblPrWSbsPfH1bJcV9OfJ8iEzRONgE0/eKPGajj1wzK2qgjG07ryEuX0JnYSDXLC1bmzWYeKY5W/wxvx8dYBCZ56na185tOraaCbN9L3uUBYwqzyvZEB1VzYkO3aS6AHHhakUo5MTcGtaGOUc+IR3pBRyAJ0GCO0NgM4hYiBH1MbWFsZla8YgNLqzX4kdnhFcuYD2ZZKGghd1FXXFsj2Qiqx0Pvs6q0W1gQLtNwwdEsb+ydyMrLi7L51pWmuUFwysk4OCPT6NKay4gyolaDmZ+HS2OSli3AAkv7vu8+nXxmZaFUYjCHC4x2DdmQ7n74xhSQUesaNXOYQxQgCfVKaWwAqmzuh2PxTaBx09j3rUzoJqHLaGdK5vMJrd5cWXO3ZAMtRWFSIJCcqKepgIvOM7Oirjy9hNwjiXSxSIIhVWXUoFicTxBHD+Y1Ggz6QHs5+OXIQTvoe+RtclQJrVdatg6jBHnsHUIep3E+co5ynFwBwhIv1H9mE50eZ/eoAxNm6EeiKOV4s47m3reznEWnokOvzC6coIuf/FfvckJwe0S8BhsFUyZc6M3NclwqhRt9AnHo5oyPyDIOmRmMDWWIQLAcdtBwfMbSmvIeIssC60oOBa7mD2VNKSDW1icCBl2FNiZvE6VU/XorCv4/qZt231yYyGZGmmIPC6AWrTL7bT3q8nPjoAzYwKeVcaO9q9W18bb8UJz1V3H50Mnv0e5RiAqQAp6GVTPCkncl4sesApQaRFH3vL+NgfoxmR49ev+oiKPb7BSU105a4hvef3PrrSfMzr/1MZKQ/6X5i1iPpyn273h6gItfgXhKOnqnbUsjF+cYqfIP+qIIS7ZWF9LPoqqk1A7uVYJrRyApCTBzFxClGQJOXIOCCi6ypE4hBJuzRthTWj/dpgs1jrqrqee87OptAZWWphPheNen/BpwydElUqcleUgcr8agjcFiGBjEBJe8xJM8cG35guZGCeV0Is2Sd/+AEITQz6QDBI6q3gtjv5LN0RzLKgc7sGHwI9+9kwOTklWwWcIsnAvnqYw6ViAZ9KGsA05pfXDIyeIeccAkird3Dy4R6c+c/LDnBeNbdvdTIlZw8H+IzaR15ALfhBKO/CqTD4cXJKlq4WYOzKTNAt5BMvSH0ej3Je+L34P3hyRvEClxVPogsxwMRHHsXo8XuOBlwBZcfgWeeYkfEtl+LjRDhm19kqBScYd3sdB4pShu0T+J/7x1fHMgSN6KKLKdneb6jNsV0SG5tz6dqHIRf8euNwNYTjCFsZdDoWNN3weEICtA2CWShPMb6IfFmunuuadtdnP+HEuf0II/ZzTdyyDo8EAwnnFEG1iZjiFoZD8NACqrWP4Riafl1KEBy+jVYMj0KDvfT2ODRcegEbrweEvG9cH8nIfVGk93G0mc+2JAd9lFGvxGYJrwa3W8ldXFll//WHmvcwRM2P1GdUN9aS1tdeQAhgaV0wPILgjDRq5pMIFlKZ9U8iMxY8XDZOkVlL4OA2gDUbaEVmNgiUbcEiqXohUqZrCl6CsciSyGZ62HRiTc2pvSxmgT3QpED8tP3K7M36uPLqYGANL96JLsQUqNa02DPqQjQTHeWFsO+C+qwt4SSJWT6BFfgbtpvt2rRmNH5goXpnhKq2eSVTVTJBREtVBaOYNthpqnRlV/4M0bAmabRe7d8txn3adb08bsTe09TpvKiG11IYQN8/y9ysxTDUgXHOd/fhy+b28yVQvZznQWeNXlTLs6Gj1iz//wzznQR2Vx+rY0xJc9now2ptwPRhc+f5lxzd4urWgaqjK5G03SeTdBv18g4D5Xuuru4Ma1jH1ReABoGjJA4ABMs6ozHWUgrGG1omG8rmhKcU6VsaRu/wi/gDCWAjRbMZAlJNZhMRqJKWAJz05Ln2VLJLhlOgm0Q1XhVLUUS4OymJ5ncNahxPZtpluEPIkYXk0JmpdmeAQ6/jAnKHfDE5XrAz0ctTsUO7gQSUe+bRmWiOrVETZgG2z2VhEv44uH4/d778G0LQsxFSJt+ihcTG/axZAGax4uV9W1hn+klxdINRs/TkFhA+9NGil6XhAs1ARXsnH2Ix9jFJeUhYQw20BaGkFo5AyQZXMzAwAzJTwKuZ7+0Gzdfcnu2NmWxnuxI5vjsv7H/x37Xvguqcw5XXm4FewKPjWwmrzqZ2/dkeh+rSFf23cJJ5NmdPXUMCpTzsSe6Wo6uvkZ7avMwQH12XM23Xb1V/WbY/Eo1Mifm842U/qEWEAxDSQ1ZdoUlt1ws56EK7LM0hZFw1g58KnOvTxmXw5bPOl1YbwHNVgPmTGzh8+K7xZmd6xCWZdXoFfeX5HEiaj2GWzA+8xN0NiX0Qp4WYrhhFIMKJ9UufhcAMdFmY3vETehqP+UnvqAoWOeOCkmKWBnaCAAAAAAA=))"
      ]
    },
    {
      "cell_type": "markdown",
      "metadata": {
        "id": "BRb9nkfkvPas"
      },
      "source": [
        "For further information about the YES color space, ref : https://link.springer.com/article/10.1007/s11554-023-01303-w"
      ]
    },
    {
      "cell_type": "code",
      "execution_count": null,
      "metadata": {
        "id": "buVXJcvGOgEa",
        "colab": {
          "base_uri": "https://localhost:8080/"
        },
        "outputId": "416109d4-53f4-45f3-a6cb-d2fd7f019a84"
      },
      "outputs": [
        {
          "output_type": "stream",
          "name": "stderr",
          "text": [
            "\r  0%|          | 0/7 [00:00<?, ?it/s]"
          ]
        },
        {
          "output_type": "stream",
          "name": "stdout",
          "text": [
            "angry\n"
          ]
        },
        {
          "output_type": "stream",
          "name": "stderr",
          "text": [
            "\r 14%|█▍        | 1/7 [00:34<03:28, 34.82s/it]"
          ]
        },
        {
          "output_type": "stream",
          "name": "stdout",
          "text": [
            "disgust\n",
            "fear\n"
          ]
        },
        {
          "output_type": "stream",
          "name": "stderr",
          "text": [
            " 57%|█████▋    | 4/7 [01:04<00:39, 13.10s/it]"
          ]
        },
        {
          "output_type": "stream",
          "name": "stdout",
          "text": [
            "happy\n",
            "neutral\n",
            "sad\n"
          ]
        },
        {
          "output_type": "stream",
          "name": "stderr",
          "text": [
            "\r 86%|████████▌ | 6/7 [01:04<00:06,  6.67s/it]"
          ]
        },
        {
          "output_type": "stream",
          "name": "stdout",
          "text": [
            "surprise\n"
          ]
        },
        {
          "output_type": "stream",
          "name": "stderr",
          "text": [
            "100%|██████████| 7/7 [01:09<00:00, 10.00s/it]\n"
          ]
        }
      ],
      "source": [
        "x_ycrb_names = img_path(train_YCBR, img_size=(48,48))"
      ]
    },
    {
      "cell_type": "code",
      "source": [
        "# Verifying presence of NoneType images in 'sad' and 'surprise' folders\n",
        "for path in x_ycrb_names :\n",
        "  if path[52] == 's' :\n",
        "    img = cv2.imread(path)\n",
        "    if img is None :\n",
        "      print(path)\n",
        "\n",
        "# output : --> No None found"
      ],
      "metadata": {
        "id": "-K7861tcdts0"
      },
      "execution_count": null,
      "outputs": []
    },
    {
      "cell_type": "markdown",
      "source": [
        "Function that generates YES images **From RGB --> YES**"
      ],
      "metadata": {
        "id": "XZYtD1eoBLMc"
      }
    },
    {
      "cell_type": "code",
      "source": [
        "def YES_rgb(x_rgb_names) :\n",
        "  #url_YES = \"/content/drive/MyDrive/2. Relevant Projects/1. Emotions Recognition/YES\" # Main account\n",
        "  url_YES = \"/content/drive/MyDrive/1. Emotions Recognition/YES\" # Other accounts\n",
        "\n",
        "\n",
        "  x_YES = []\n",
        "\n",
        "  for path in x_rgb_names :\n",
        "    img = cv2.imread(path)\n",
        "\n",
        "    # Extract R G B channels\n",
        "    R,G,B = cv2.split(img)\n",
        "\n",
        "    # Calculate Y, E and S channels from Cr and Cb\n",
        "    Y = 0.253* R + 0.684*G + 0.063*B\n",
        "    E = 0.5* R - 0.5*G\n",
        "    S = 0.25* R + 0.25*G + -0.5 *B\n",
        "\n",
        "    # Merge the Y, E, and S channels to form the YES image\n",
        "    image_YES = cv2.merge([Y,E,S])\n",
        "\n",
        "    #only execute first time to save pictures to drive\n",
        "    cv2.imwrite(url_YES+f\"{path[50:]}\",image_YES)\n",
        "    x_YES.append(image_YES)\n",
        "\n",
        "  return(np.array(x_YES))\n"
      ],
      "metadata": {
        "id": "iE16MQvMdrp9"
      },
      "execution_count": null,
      "outputs": []
    },
    {
      "cell_type": "code",
      "source": [
        "x_YES = YES_rgb(x_rgb_names)"
      ],
      "metadata": {
        "id": "CKoej4eOQcSZ"
      },
      "execution_count": null,
      "outputs": []
    },
    {
      "cell_type": "markdown",
      "metadata": {
        "id": "FdsvmP4picKS"
      },
      "source": [
        "## 2. Data augmentation for 'disgust' emotion\n",
        "We will perform image cropping and rotation and similar techniques only on the disgust dataset since it has remarkably less samples than the average of other emotions.\n",
        "\n",
        "This part will be realized in the Training file, beacause the dataflow will be on the fly."
      ]
    }
  ],
  "metadata": {
    "colab": {
      "provenance": [],
      "collapsed_sections": [
        "z34nC1HMgpwz",
        "d1LdP5znVjtU",
        "LGpkw_4hio9R",
        "kpuY6iFcJwOA",
        "Hw6Lgc3GevVa",
        "OuiE8sUb5Cx3"
      ]
    },
    "kaggle": {
      "accelerator": "nvidiaTeslaT4",
      "dataSources": [
        {
          "datasetId": 806819,
          "sourceId": 1382739,
          "sourceType": "datasetVersion"
        }
      ],
      "dockerImageVersionId": 30587,
      "isGpuEnabled": true,
      "isInternetEnabled": true,
      "language": "python",
      "sourceType": "notebook"
    },
    "kernelspec": {
      "display_name": "Python 3",
      "name": "python3"
    },
    "language_info": {
      "codemirror_mode": {
        "name": "ipython",
        "version": 3
      },
      "file_extension": ".py",
      "mimetype": "text/x-python",
      "name": "python",
      "nbconvert_exporter": "python",
      "pygments_lexer": "ipython3",
      "version": "3.10.12"
    }
  },
  "nbformat": 4,
  "nbformat_minor": 0
}